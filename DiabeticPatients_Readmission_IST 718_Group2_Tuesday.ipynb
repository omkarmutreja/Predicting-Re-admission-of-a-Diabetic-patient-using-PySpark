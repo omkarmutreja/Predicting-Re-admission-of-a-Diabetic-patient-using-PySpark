{
 "cells": [
  {
   "cell_type": "markdown",
   "metadata": {},
   "source": [
    "# Predicting Re-hospitalization of Diabetic Patients"
   ]
  },
  {
   "cell_type": "markdown",
   "metadata": {},
   "source": [
    "## Importing all libraries"
   ]
  },
  {
   "cell_type": "code",
   "execution_count": 1,
   "metadata": {},
   "outputs": [],
   "source": [
    "import numpy as np\n",
    "import pandas as pd\n",
    "import matplotlib.pyplot as plt\n",
    "from sklearn.cluster import KMeans\n",
    "import scipy.cluster.hierarchy as sch\n",
    "from sklearn.cluster import AgglomerativeClustering\n",
    "from pyspark.sql import SparkSession\n",
    "from pyspark.ml import feature\n",
    "from pyspark.ml import regression\n",
    "from pyspark.sql import functions as fn\n",
    "from pyspark.sql.functions import countDistinct\n",
    "from pyspark.sql import Row\n",
    "from pyspark import sql\n",
    "import seaborn as sns\n",
    "from pyspark.ml import feature, regression, evaluation, Pipeline\n",
    "from pyspark.ml.feature import StringIndexer\n",
    "from pyspark.ml import clustering\n",
    "from pyspark.ml import classification\n",
    "from pyspark.ml.evaluation import ClusteringEvaluator\n",
    "from pyspark.ml.evaluation import BinaryClassificationEvaluator,MulticlassClassificationEvaluator\n",
    "from pyspark.ml.tuning import CrossValidator, ParamGridBuilder\n",
    "import seaborn as sns\n",
    "import decimal\n",
    "from pyspark.sql.types import StructType\n",
    "from pyspark.sql.types import *\n",
    "from pyspark.ml.feature import StandardScaler\n",
    "from pyspark.ml.classification import LogisticRegression\n",
    "from pyspark.ml.feature import OneHotEncoderEstimator, StringIndexer, VectorAssembler\n",
    "from pyspark.ml.tuning import CrossValidator, ParamGridBuilder\n",
    "from pyspark.ml.classification import GBTClassifier\n",
    "from pyspark.ml.classification import MultilayerPerceptronClassifier\n",
    "from pyspark.ml.evaluation import MulticlassClassificationEvaluator\n",
    "from sklearn.metrics import roc_curve, auc\n",
    "from pyspark.mllib.classification import LogisticRegressionWithLBFGS\n",
    "from pyspark.mllib.evaluation import BinaryClassificationMetrics\n",
    "from pyspark.mllib.util import MLUtils\n",
    "from pyspark.mllib.evaluation import MulticlassMetrics"
   ]
  },
  {
   "cell_type": "markdown",
   "metadata": {},
   "source": [
    "## Initializing Spark Context"
   ]
  },
  {
   "cell_type": "code",
   "execution_count": 2,
   "metadata": {},
   "outputs": [],
   "source": [
    "spark = SparkSession.builder.getOrCreate()\n",
    "sc = spark.sparkContext"
   ]
  },
  {
   "cell_type": "code",
   "execution_count": 3,
   "metadata": {},
   "outputs": [],
   "source": [
    "# Downloading the csv file \n",
    "df_spark = spark.read.csv(\"diabetic_data.csv\",header=True)"
   ]
  },
  {
   "cell_type": "markdown",
   "metadata": {},
   "source": [
    "## Data Cleaning and Pre-processing"
   ]
  },
  {
   "cell_type": "markdown",
   "metadata": {},
   "source": [
    "## Removal of columns"
   ]
  },
  {
   "cell_type": "code",
   "execution_count": 4,
   "metadata": {},
   "outputs": [],
   "source": [
    "# Removing Weight, Payer Code and Medical speciality of the surgeon as they have 80-90% missing values\n",
    "drop_list = ['weight', 'payer_code','medical_specialty','citoglipton','examide']\n",
    "df_spark = df_spark.select([column for column in df_spark.columns if column not in drop_list])"
   ]
  },
  {
   "cell_type": "markdown",
   "metadata": {},
   "source": [
    "## Removal of rows"
   ]
  },
  {
   "cell_type": "code",
   "execution_count": 5,
   "metadata": {},
   "outputs": [],
   "source": [
    "# Removing rows from Race,Discharge Disposition ID,Admission Source ID, Admission type ID\n",
    "df_spark = df_spark.filter(df_spark.race!='?')\n",
    "df_spark = df_spark.filter(df_spark.diag_1!='?')\n",
    "df_spark = df_spark.filter(df_spark.diag_2!='?')\n",
    "df_spark = df_spark.filter(df_spark.diag_3!='?')\n",
    "df_spark = df_spark.filter(df_spark.discharge_disposition_id.isin(['11' '18','19','20','25'])==False)\n",
    "df_spark = df_spark.filter(df_spark.admission_source_id.isin(['9','17','20'])==False)\n",
    "df_spark = df_spark.filter(df_spark.admission_type_id.isin(['5','6','8'])==False)"
   ]
  },
  {
   "cell_type": "markdown",
   "metadata": {},
   "source": [
    "## Changing Data Types"
   ]
  },
  {
   "cell_type": "code",
   "execution_count": 6,
   "metadata": {},
   "outputs": [],
   "source": [
    "# Changing Data type of patient nbr and encounter_id to int\n",
    "df_spark = df_spark.withColumn(\"patient_nbr\", df_spark[\"patient_nbr\"].cast(IntegerType()))\n",
    "df_spark = df_spark.withColumn(\"encounter_id\", df_spark[\"encounter_id\"].cast(IntegerType()))"
   ]
  },
  {
   "cell_type": "code",
   "execution_count": 7,
   "metadata": {},
   "outputs": [],
   "source": [
    "# Changing Data type of admission_type_id,discharge_disposition_id and all numerical columns to float\n",
    "df_spark_clean1 = df_spark.select(\"encounter_id\",\"patient_nbr\",*(fn.col(c).cast(\"float\").alias(c) for c in df_spark.columns \n",
    "                                 if c in ('admission_source_id','admission_type_id','discharge_disposition_id','time_in_hospital',\n",
    "                                         'num_procedures','num_lab_procedures','num_medications','number_outpatient','number_emergency',\n",
    "                                        'number_inpatient','number_diagnoses' )))"
   ]
  },
  {
   "cell_type": "markdown",
   "metadata": {},
   "source": [
    "## Joining two dataframes"
   ]
  },
  {
   "cell_type": "code",
   "execution_count": 8,
   "metadata": {},
   "outputs": [],
   "source": [
    "# Merging df_spark_clean and df_spark to get the entire cleaned dataset\n",
    "drop_list = ['admission_type_id','discharge_disposition_id',\n",
    "             'admission_source_id','time_in_hospital','num_lab_procedures',\n",
    "             'num_procedures','num_medications','number_outpatient','number_emergency',\n",
    "             'number_inpatient','number_diagnoses','patient_nbr']\n",
    "diabetic_data_clean2 = df_spark.select([column for column in df_spark.columns if column not in drop_list])\n",
    "\n",
    "df_spark = df_spark_clean1.join(diabetic_data_clean2, 'encounter_id', 'inner')"
   ]
  },
  {
   "cell_type": "code",
   "execution_count": 9,
   "metadata": {},
   "outputs": [],
   "source": [
    "# Creating a temp file to query in future\n",
    "df_spark.createOrReplaceTempView(\"temp\") "
   ]
  },
  {
   "cell_type": "markdown",
   "metadata": {},
   "source": [
    "## Exploratory Data Analysis and Data Manipulation"
   ]
  },
  {
   "cell_type": "code",
   "execution_count": 10,
   "metadata": {},
   "outputs": [
    {
     "name": "stdout",
     "output_type": "stream",
     "text": [
      "+----------+-----+\n",
      "|readmitted|count|\n",
      "+----------+-----+\n",
      "|       >30|30357|\n",
      "|        NO|46654|\n",
      "|       <30| 9850|\n",
      "+----------+-----+\n",
      "\n",
      "+----------+-----------------+------------------+\n",
      "|readmitted|count(readmitted)|        Percentage|\n",
      "+----------+-----------------+------------------+\n",
      "|       >30|            30357| 34.94894141214124|\n",
      "|        NO|            46654| 53.71110164515721|\n",
      "|       <30|             9850|11.339956942701559|\n",
      "+----------+-----------------+------------------+\n",
      "\n"
     ]
    }
   ],
   "source": [
    "readmitted_count = df_spark.select('readmitted').groupBy('readmitted').count().show()\n",
    "spark.sql(\"Select readmitted, count(readmitted),(count(readmitted)*100/(select count(readmitted) from temp)) as Percentage from temp group by readmitted\").show()\n",
    "# 11% of patients were readmitted within 30 days (<30)\n",
    "# 35% of patients were readmitted after 30 days (>30)\n",
    "# 54% of patients were never readmitted (NO)"
   ]
  },
  {
   "cell_type": "code",
   "execution_count": 11,
   "metadata": {},
   "outputs": [
    {
     "data": {
      "text/plain": [
       "Text(0,0.5,'Relative Frequency')"
      ]
     },
     "execution_count": 11,
     "metadata": {},
     "output_type": "execute_result"
    },
    {
     "data": {
      "image/png": "[encoded data removed]",
      "text/plain": [
       "<Figure size 1296x360 with 1 Axes>"
      ]
     },
     "metadata": {},
     "output_type": "display_data"
    }
   ],
   "source": [
    "# The response variable 'readmitted' in the original dataset contains three categories.\n",
    "\n",
    "a = df_spark.toPandas()\n",
    "ax = a['readmitted'].value_counts().plot(kind='barh',figsize=(18,5),title=\"Count of each admission type\")\n",
    "\n",
    "totals = []\n",
    "for i in ax.patches:\n",
    "    totals.append(i.get_width())\n",
    "\n",
    "total = sum(totals)\n",
    "\n",
    "for i in ax.patches:\n",
    "    ax.text(i.get_width()+.3, i.get_y()+.38, \\\n",
    "            str(round((i.get_width()/total)*100, 2))+'%', fontsize=15,\n",
    "color='red')\n",
    "ax.invert_yaxis()\n",
    "ax.set_xlabel(\"Re-admission type\")\n",
    "ax.set_ylabel(\"Relative Frequency\")"
   ]
  },
  {
   "cell_type": "code",
   "execution_count": 12,
   "metadata": {},
   "outputs": [],
   "source": [
    "# Recode the readmission variable to 1 and 0 to find out correlation with predictor variables\n",
    "# '0' means no readmission\n",
    "# '1' means readmission no matter how many days after being discharged\n",
    "\n",
    "df_spark = df_spark.withColumn('readmitted',fn.when(df_spark[\"readmitted\"] == 'NO', 0).otherwise(1))\n",
    "df_spark.createOrReplaceTempView(\"temp2\") \n",
    "\n",
    "# We are keeping >30 and <30 days of re-admission as 1 as our scope of the project is to predict whether a patient\n",
    "# will be re-admitted again or not after being diagosed with diabetes."
   ]
  },
  {
   "cell_type": "code",
   "execution_count": 13,
   "metadata": {},
   "outputs": [
    {
     "name": "stdout",
     "output_type": "stream",
     "text": [
      "                    num_lab_procedures  num_procedures  num_medications  \\\n",
      "num_lab_procedures            1.000000        0.034882         0.276721   \n",
      "num_procedures                0.034882        1.000000         0.382727   \n",
      "num_medications               0.276721        0.382727         1.000000   \n",
      "number_outpatient             0.021679       -0.021872         0.042476   \n",
      "number_emergency              0.010894       -0.037808         0.012790   \n",
      "number_inpatient              0.043331       -0.071090         0.063656   \n",
      "number_diagnoses              0.162271        0.051944         0.240013   \n",
      "readmitted                    0.028129       -0.047420         0.042582   \n",
      "\n",
      "                    number_outpatient  number_emergency  number_inpatient  \\\n",
      "num_lab_procedures           0.021679          0.010894          0.043331   \n",
      "num_procedures              -0.021872         -0.037808         -0.071090   \n",
      "num_medications              0.042476          0.012790          0.063656   \n",
      "number_outpatient            1.000000          0.095817          0.116360   \n",
      "number_emergency             0.095817          1.000000          0.266732   \n",
      "number_inpatient             0.116360          0.266732          1.000000   \n",
      "number_diagnoses             0.093769          0.052179          0.104429   \n",
      "readmitted                   0.086808          0.103598          0.217735   \n",
      "\n",
      "                    number_diagnoses  readmitted  \n",
      "num_lab_procedures          0.162271    0.028129  \n",
      "num_procedures              0.051944   -0.047420  \n",
      "num_medications             0.240013    0.042582  \n",
      "number_outpatient           0.093769    0.086808  \n",
      "number_emergency            0.052179    0.103598  \n",
      "number_inpatient            0.104429    0.217735  \n",
      "number_diagnoses            1.000000    0.114238  \n",
      "readmitted                  0.114238    1.000000  \n"
     ]
    },
    {
     "data": {
      "text/plain": [
       "<matplotlib.axes._subplots.AxesSubplot at 0x7f717a5809e8>"
      ]
     },
     "execution_count": 13,
     "metadata": {},
     "output_type": "execute_result"
    },
    {
     "data": {
      "image/png": "[encoded data removed]",
      "text/plain": [
       "<Figure size 432x288 with 2 Axes>"
      ]
     },
     "metadata": {},
     "output_type": "display_data"
    }
   ],
   "source": [
    "# Checking correlation among numerical variables and target variable readmitted\n",
    "corr_matrix = df_spark.select('num_lab_procedures','num_procedures','num_medications','number_outpatient',\n",
    "                              'number_emergency','number_inpatient','number_diagnoses','readmitted')\n",
    "\n",
    "pd_corr = corr_matrix.toPandas()\n",
    "print(pd_corr.corr())\n",
    "sns.heatmap(pd_corr.corr(),square=True,cmap='ocean_r')"
   ]
  },
  {
   "cell_type": "code",
   "execution_count": 14,
   "metadata": {},
   "outputs": [
    {
     "data": {
      "text/plain": [
       "<matplotlib.axes._subplots.AxesSubplot at 0x7f7165b19320>"
      ]
     },
     "execution_count": 14,
     "metadata": {},
     "output_type": "execute_result"
    },
    {
     "data": {
      "image/png": "[encoded data removed]",
      "text/plain": [
       "<Figure size 432x288 with 1 Axes>"
      ]
     },
     "metadata": {},
     "output_type": "display_data"
    }
   ],
   "source": [
    "# Stacked Bar Graph with Age and Readmitted\n",
    "df2 = df_spark.toPandas().groupby(['age', 'readmitted'])['age'].count().unstack('readmitted')\n",
    "df2[[0,1]].plot(kind='bar', stacked=False)"
   ]
  },
  {
   "cell_type": "code",
   "execution_count": 15,
   "metadata": {},
   "outputs": [
    {
     "data": {
      "text/plain": [
       "<matplotlib.axes._subplots.AxesSubplot at 0x7f7172165ef0>"
      ]
     },
     "execution_count": 15,
     "metadata": {},
     "output_type": "execute_result"
    },
    {
     "data": {
      "image/png": "[encoded data removed]",
      "text/plain": [
       "<Figure size 432x288 with 1 Axes>"
      ]
     },
     "metadata": {},
     "output_type": "display_data"
    }
   ],
   "source": [
    "# Stacked Bar Graph with Race and Readmitted\n",
    "df2 = df_spark.toPandas().groupby(['race', 'readmitted'])['race'].count().unstack('readmitted')\n",
    "df2[[0,1]].plot(kind='bar', stacked=False)"
   ]
  },
  {
   "cell_type": "code",
   "execution_count": 16,
   "metadata": {},
   "outputs": [
    {
     "data": {
      "text/plain": [
       "<matplotlib.axes._subplots.AxesSubplot at 0x7f7179bf0cf8>"
      ]
     },
     "execution_count": 16,
     "metadata": {},
     "output_type": "execute_result"
    },
    {
     "data": {
      "image/png": "[encoded data removed]",
      "text/plain": [
       "<Figure size 432x288 with 1 Axes>"
      ]
     },
     "metadata": {},
     "output_type": "display_data"
    }
   ],
   "source": [
    "# Stacked Bar Graph with Inpatient and Readmitted\n",
    "df2 = df_spark.toPandas().groupby(['number_inpatient', 'readmitted'])['number_inpatient'].count().unstack('readmitted')\n",
    "df2[[0,1]].plot(kind='bar', stacked=False,logy=True)"
   ]
  },
  {
   "cell_type": "code",
   "execution_count": 17,
   "metadata": {},
   "outputs": [
    {
     "data": {
      "text/plain": [
       "<matplotlib.axes._subplots.AxesSubplot at 0x7f71744b6ef0>"
      ]
     },
     "execution_count": 17,
     "metadata": {},
     "output_type": "execute_result"
    },
    {
     "data": {
      "image/png": "[encoded data removed]",
      "text/plain": [
       "<Figure size 432x288 with 1 Axes>"
      ]
     },
     "metadata": {},
     "output_type": "display_data"
    }
   ],
   "source": [
    "# Stacked Bar Graph with Outpatient and Readmitted\n",
    "df2 = df_spark.toPandas().groupby(['number_outpatient', 'readmitted'])['number_outpatient'].count().unstack('readmitted')\n",
    "df2[[0,1]].plot(kind='bar', stacked=False,logy=True)"
   ]
  },
  {
   "cell_type": "code",
   "execution_count": 18,
   "metadata": {},
   "outputs": [
    {
     "data": {
      "text/plain": [
       "<matplotlib.axes._subplots.AxesSubplot at 0x7f7184ef5fd0>"
      ]
     },
     "execution_count": 18,
     "metadata": {},
     "output_type": "execute_result"
    },
    {
     "data": {
      "image/png": "[encoded data removed]",
      "text/plain": [
       "<Figure size 432x288 with 1 Axes>"
      ]
     },
     "metadata": {},
     "output_type": "display_data"
    }
   ],
   "source": [
    "# Stacked Bar Graph with Emergency and Readmitted\n",
    "df2 = df_spark.toPandas().groupby(['number_emergency', 'readmitted'])['number_emergency'].count().unstack('readmitted')\n",
    "df2[[0,1]].plot(kind='bar', stacked=False,logy=True)"
   ]
  },
  {
   "cell_type": "markdown",
   "metadata": {},
   "source": [
    "# Feature Engineering"
   ]
  },
  {
   "cell_type": "code",
   "execution_count": 19,
   "metadata": {},
   "outputs": [],
   "source": [
    "## Creating new column total_visits = number_inpatient + number_outpatient\n",
    "dfsum = fn.col('number_outpatient') + fn.col('number_inpatient')\n",
    "df_spark = df_spark.withColumn('total_visits',dfsum)"
   ]
  },
  {
   "cell_type": "markdown",
   "metadata": {},
   "source": [
    "## Creating Dummy variables for nominal categorical columns"
   ]
  },
  {
   "cell_type": "code",
   "execution_count": 20,
   "metadata": {},
   "outputs": [],
   "source": [
    "# Creating dummy variables for admission_type_id\n",
    "df_spark = df_spark.withColumn('admission_type_emergency',fn.when(fn.col('admission_type_id')==1,1).otherwise(0))\n",
    "df_spark = df_spark.withColumn('admission_type_urgent',fn.when(fn.col('admission_type_id')==2,1).otherwise(0))\n",
    "df_spark = df_spark.withColumn('admission_type_elective',fn.when(fn.col('admission_type_id')==3,1).otherwise(0))\n",
    "df_spark = df_spark.withColumn('admission_type_trauma',fn.when(fn.col('admission_type_id')==7,1).otherwise(0))\n",
    "\n",
    "#df_spark_final.select('admission_type_emergency','admission_type_urgent','admission_type_elective','admission_type_trauma').show(5)"
   ]
  },
  {
   "cell_type": "code",
   "execution_count": 21,
   "metadata": {},
   "outputs": [],
   "source": [
    "# Creating dummy variables for discharge_disposition_id\n",
    "df_spark = df_spark.withColumn('dd_home',fn.when(fn.col('discharge_disposition_id')==1,1).otherwise(0))\n",
    "df_spark = df_spark.withColumn('dd_shortm_hos',fn.when(fn.col('discharge_disposition_id')==2,1).otherwise(0))\n",
    "df_spark = df_spark.withColumn('dd_snf',fn.when(fn.col('discharge_disposition_id')==3,1).otherwise(0))\n",
    "df_spark = df_spark.withColumn('dd_icf',fn.when(fn.col('discharge_disposition_id')==4,1).otherwise(0))\n",
    "df_spark = df_spark.withColumn('dd_careInst',fn.when(fn.col('discharge_disposition_id')==5,1).otherwise(0))\n",
    "df_spark = df_spark.withColumn('dd_hhs',fn.when(fn.col('discharge_disposition_id')==6,1).otherwise(0))\n",
    "df_spark = df_spark.withColumn('dd_ama',fn.when(fn.col('discharge_disposition_id')==7,1).otherwise(0))\n",
    "df_spark = df_spark.withColumn('dd_homeIvy',fn.when(fn.col('discharge_disposition_id')==8,1).otherwise(0))\n",
    "df_spark = df_spark.withColumn('dd_admInp',fn.when(fn.col('discharge_disposition_id')==9,1).otherwise(0))\n",
    "df_spark = df_spark.withColumn('dd_expired',fn.when(fn.col('discharge_disposition_id')==11,1).otherwise(0))\n",
    "df_spark = df_spark.withColumn('dd_hospice',fn.when(fn.col('discharge_disposition_id')==13,1).otherwise(0))\n",
    "df_spark = df_spark.withColumn('dd_medfac',fn.when(fn.col('discharge_disposition_id')==14,1).otherwise(0))\n",
    "df_spark = df_spark.withColumn('dd_swingbed',fn.when(fn.col('discharge_disposition_id')==15,1).otherwise(0))\n",
    "df_spark = df_spark.withColumn('dd_rehab',fn.when(fn.col('discharge_disposition_id')==22,1).otherwise(0))\n",
    "df_spark = df_spark.withColumn('dd_long',fn.when(fn.col('discharge_disposition_id')==23,1).otherwise(0))\n",
    "df_spark = df_spark.withColumn('dd_nursing',fn.when(fn.col('discharge_disposition_id')==24,1).otherwise(0))\n",
    "df_spark = df_spark.withColumn('dd_federal',fn.when(fn.col('discharge_disposition_id')==27,1).otherwise(0))\n",
    "df_spark = df_spark.withColumn('dd_psy',fn.when(fn.col('discharge_disposition_id')==28,1).otherwise(0))"
   ]
  },
  {
   "cell_type": "code",
   "execution_count": 22,
   "metadata": {},
   "outputs": [],
   "source": [
    "# Creating dummy variables for admission_source_id\n",
    "df_spark = df_spark.withColumn('admission_source_phyref',fn.when(fn.col('admission_source_id')==1,1).otherwise(0))\n",
    "df_spark = df_spark.withColumn('admission_source_cliref',fn.when(fn.col('admission_source_id')==2,1).otherwise(0))\n",
    "df_spark = df_spark.withColumn('admission_source_hmoref',fn.when(fn.col('admission_source_id')==3,1).otherwise(0))\n",
    "df_spark = df_spark.withColumn('admission_source_hos',fn.when(fn.col('admission_source_id')==4,1).otherwise(0))\n",
    "df_spark = df_spark.withColumn('admission_source_snf',fn.when(fn.col('admission_source_id')==5,1).otherwise(0))\n",
    "df_spark = df_spark.withColumn('admission_source_hlthcare',fn.when(fn.col('admission_source_id')==6,1).otherwise(0))\n",
    "df_spark = df_spark.withColumn('admission_source_emergency',fn.when(fn.col('admission_source_id')==7,1).otherwise(0))\n",
    "df_spark = df_spark.withColumn('admission_source_court',fn.when(fn.col('admission_source_id')==8,1).otherwise(0))\n",
    "df_spark = df_spark.withColumn('admission_source_critical',fn.when(fn.col('admission_source_id')==10,1).otherwise(0))\n",
    "df_spark = df_spark.withColumn('admission_source_normdel',fn.when(fn.col('admission_source_id')==11,1).otherwise(0))\n",
    "df_spark = df_spark.withColumn('admission_source_birth',fn.when(fn.col('admission_source_id')==14,1).otherwise(0))\n",
    "df_spark = df_spark.withColumn('admission_source_surgery',fn.when(fn.col('admission_source_id')==25,1).otherwise(0))\n"
   ]
  },
  {
   "cell_type": "code",
   "execution_count": 23,
   "metadata": {},
   "outputs": [],
   "source": [
    "# Creating dummy variables for race\n",
    "df_spark = df_spark.withColumn('AfricanAmerican',fn.when(fn.col('race')=='AfricanAmerican',1).otherwise(0))\n",
    "df_spark = df_spark.withColumn('Asian',fn.when(fn.col('race')=='Asian',1).otherwise(0))\n",
    "df_spark = df_spark.withColumn('Caucasian',fn.when(fn.col('race')=='Caucasian',1).otherwise(0))\n",
    "df_spark = df_spark.withColumn('Hispanic',fn.when(fn.col('race')=='Hispanic',1).otherwise(0))\n",
    "\n",
    "# df_spark.select('AfricanAmerican','Asian','Caucasian','Hispanic','Other').show(5)"
   ]
  },
  {
   "cell_type": "code",
   "execution_count": 24,
   "metadata": {},
   "outputs": [],
   "source": [
    "# Creating dummy variables for gender\n",
    "df_spark = df_spark.withColumn('gender_male',fn.when(fn.col('gender')=='Male',1).otherwise(0))"
   ]
  },
  {
   "cell_type": "code",
   "execution_count": 25,
   "metadata": {},
   "outputs": [],
   "source": [
    "# Grouped all the different types of diganosis based on their diag values specificed by the mapping document(ICD codes)\n",
    "# Created dummy variables for each category\n",
    "\n",
    "df_spark = df_spark.withColumn('diag1_Circulatory',\n",
    "fn.when((df_spark['diag_1'] >= 390) & (df_spark['diag_1'] <= 459) | (df_spark['diag_1'] == 785), 1).otherwise(0))\n",
    "\n",
    "df_spark = df_spark.withColumn('diag1_Respiratory',\n",
    "fn.when((df_spark['diag_1'] >= 460) & (df_spark['diag_1'] <= 519) | (df_spark['diag_1'] == 786), 1).otherwise(0))\n",
    "\n",
    "df_spark = df_spark.withColumn('diag1_Digestive',\n",
    "fn.when((df_spark['diag_1'] >= 520) & (df_spark['diag_1'] <= 579) | (df_spark['diag_1'] == 787), 1).otherwise(0))\n",
    "  \n",
    "df_spark = df_spark.withColumn('diag1_Diabetes', \n",
    "fn.when((df_spark['diag_1'] >= 250.00) & (df_spark['diag_1'] <= 250.99), 1).otherwise(0))\n",
    "\n",
    "df_spark = df_spark.withColumn('diag1_Injury', \n",
    "fn.when((df_spark['diag_1'] >= 800) & (df_spark['diag_1'] <= 999), 1).otherwise(0))\n",
    "\n",
    "df_spark = df_spark.withColumn('diag1_Musculoskeletal', \n",
    "fn.when((df_spark['diag_1'] >= 710) & (df_spark['diag_1'] <= 739), 1).otherwise(0))\n",
    "\n",
    "df_spark = df_spark.withColumn('diag1_Genitourinary',\n",
    "fn.when((df_spark['diag_1'] >= 580) & (df_spark['diag_1'] <= 629) | (df_spark['diag_1'] == 788), 1).otherwise(0))\n",
    "\n",
    "\n",
    "df_spark = df_spark.withColumn('diag1_Neoplasms',\n",
    "fn.when(((df_spark['diag_1'] >= 1) & (df_spark['diag_1'] <= 249)) | (df_spark['diag_1'] == 780) |\n",
    "    (df_spark['diag_1'] == 781) | (df_spark['diag_1'] == 782) | (df_spark['diag_1'] == 784) |\n",
    "        ((df_spark['diag_1'] >= 251) & (df_spark['diag_1'] <= 279)) | \n",
    "        ((df_spark['diag_1'] >= 680) & (df_spark['diag_1'] <= 709)) | \n",
    "        ((df_spark['diag_1'] >= 790) & (df_spark['diag_1'] <= 799)), 1).otherwise(0))\n"
   ]
  },
  {
   "cell_type": "code",
   "execution_count": 26,
   "metadata": {},
   "outputs": [],
   "source": [
    "df_spark = df_spark.withColumn('diag2_Circulatory',\n",
    "fn.when((df_spark['diag_2'] >= 390) & (df_spark['diag_2'] <= 459) | (df_spark['diag_2'] == 785), 1).otherwise(0))\n",
    "\n",
    "df_spark = df_spark.withColumn('diag2_Respiratory',\n",
    "fn.when((df_spark['diag_2'] >= 460) & (df_spark['diag_2'] <= 519) | (df_spark['diag_2'] == 786), 1).otherwise(0))\n",
    "\n",
    "df_spark = df_spark.withColumn('diag2_Digestive',\n",
    "fn.when((df_spark['diag_2'] >= 520) & (df_spark['diag_2'] <= 579) | (df_spark['diag_2'] == 787), 1).otherwise(0))\n",
    "  \n",
    "df_spark = df_spark.withColumn('diag2_Diabetes', \n",
    "fn.when((df_spark['diag_2'] >= 250.00) & (df_spark['diag_2'] <= 250.99), 1).otherwise(0))\n",
    "\n",
    "df_spark = df_spark.withColumn('diag2_Injury', \n",
    "fn.when((df_spark['diag_2'] >= 800) & (df_spark['diag_2'] <= 999), 1).otherwise(0))\n",
    "\n",
    "df_spark = df_spark.withColumn('diag2_Musculoskeletal', \n",
    "fn.when((df_spark['diag_2'] >= 710) & (df_spark['diag_2'] <= 739), 1).otherwise(0))\n",
    "\n",
    "df_spark = df_spark.withColumn('diag2_Genitourinary',\n",
    "fn.when((df_spark['diag_2'] >= 580) & (df_spark['diag_2'] <= 629) | (df_spark['diag_2'] == 788), 1).otherwise(0))\n",
    "\n",
    "\n",
    "df_spark = df_spark.withColumn('diag2_Neoplasms',\n",
    "fn.when(((df_spark['diag_2'] >= 1) & (df_spark['diag_2'] <= 249)) | (df_spark['diag_2'] == 780) |\n",
    "    (df_spark['diag_2'] == 781) | (df_spark['diag_2'] == 782) | (df_spark['diag_2'] == 784) |\n",
    "        ((df_spark['diag_2'] >= 251) & (df_spark['diag_2'] <= 279)) | \n",
    "        ((df_spark['diag_2'] >= 680) & (df_spark['diag_2'] <= 709)) | \n",
    "        ((df_spark['diag_2'] >= 790) & (df_spark['diag_2'] <= 799)), 1).otherwise(0))\n"
   ]
  },
  {
   "cell_type": "code",
   "execution_count": 27,
   "metadata": {},
   "outputs": [],
   "source": [
    "df_spark = df_spark.withColumn('diag3_Circulatory',\n",
    "fn.when((df_spark['diag_3'] >= 390) & (df_spark['diag_3'] <= 459) | (df_spark['diag_3'] == 785), 1).otherwise(0))\n",
    "\n",
    "df_spark = df_spark.withColumn('diag3_Respiratory',\n",
    "fn.when((df_spark['diag_3'] >= 460) & (df_spark['diag_3'] <= 519) | (df_spark['diag_3'] == 786), 1).otherwise(0))\n",
    "\n",
    "df_spark = df_spark.withColumn('diag3_Digestive',\n",
    "fn.when((df_spark['diag_3'] >= 520) & (df_spark['diag_3'] <= 579) | (df_spark['diag_3'] == 787), 1).otherwise(0))\n",
    "  \n",
    "df_spark = df_spark.withColumn('diag3_Diabetes', \n",
    "fn.when((df_spark['diag_3'] >= 250.00) & (df_spark['diag_3'] <= 250.99), 1).otherwise(0))\n",
    "\n",
    "df_spark = df_spark.withColumn('diag3_Injury', \n",
    "fn.when((df_spark['diag_3'] >= 800) & (df_spark['diag_3'] <= 999), 1).otherwise(0))\n",
    "\n",
    "df_spark = df_spark.withColumn('diag3_Musculoskeletal', \n",
    "fn.when((df_spark['diag_3'] >= 710) & (df_spark['diag_3'] <= 739), 1).otherwise(0))\n",
    "\n",
    "df_spark = df_spark.withColumn('diag3_Genitourinary',\n",
    "fn.when((df_spark['diag_3'] >= 580) & (df_spark['diag_3'] <= 629) | (df_spark['diag_3'] == 788), 1).otherwise(0))\n",
    "\n",
    "\n",
    "df_spark = df_spark.withColumn('diag3_Neoplasms',\n",
    "fn.when(((df_spark['diag_3'] >= 1) & (df_spark['diag_3'] <= 249)) | (df_spark['diag_3'] == 780) |\n",
    "    (df_spark['diag_3'] == 781) | (df_spark['diag_3'] == 782) | (df_spark['diag_3'] == 784) |\n",
    "        ((df_spark['diag_3'] >= 251) & (df_spark['diag_3'] <= 279)) | \n",
    "        ((df_spark['diag_3'] >= 680) & (df_spark['diag_3'] <= 709)) | \n",
    "        ((df_spark['diag_3'] >= 790) & (df_spark['diag_3'] <= 799)), 1).otherwise(0))\n"
   ]
  },
  {
   "cell_type": "code",
   "execution_count": 28,
   "metadata": {},
   "outputs": [],
   "source": [
    "# Creating dummy variables for max_glu_serum\n",
    "df_spark = df_spark.withColumn('max_glu_200',fn.when(fn.col('max_glu_serum')=='>200',1).otherwise(0))\n",
    "df_spark = df_spark.withColumn('max_glu_300',fn.when(fn.col('max_glu_serum')=='>300',1).otherwise(0))\n",
    "df_spark = df_spark.withColumn('max_glu_norm',fn.when(fn.col('max_glu_serum')=='Norm',1).otherwise(0))\n",
    "#df_spark_final.select('max_glu_none','max_glu_200','max_glu_300','max_glu_norm').show(10)\n"
   ]
  },
  {
   "cell_type": "code",
   "execution_count": 29,
   "metadata": {},
   "outputs": [],
   "source": [
    "# Creating dummy variables for A1Cresult\n",
    "df_spark = df_spark.withColumn('A1Cresult_7',fn.when(fn.col('A1Cresult')=='>7',1).otherwise(0))\n",
    "df_spark = df_spark.withColumn('A1Cresult_8',fn.when(fn.col('A1Cresult')=='>8',1).otherwise(0))\n",
    "df_spark = df_spark.withColumn('A1Cresult_norm',fn.when(fn.col('A1Cresult')=='Norm',1).otherwise(0))\n",
    "#df_spark_final.select('max_glu_none','max_glu_7','max_glu_8','max_glu_norm').show(10)"
   ]
  },
  {
   "cell_type": "code",
   "execution_count": 30,
   "metadata": {},
   "outputs": [],
   "source": [
    "# Creating dummy variables for change and diabetesMed\n",
    "df_spark = df_spark.withColumn('change',fn.when(fn.col('change')=='Ch',1).otherwise(0))\n",
    "df_spark = df_spark.withColumn('diabetesMed',fn.when(fn.col('diabetesMed')=='Yes',1).otherwise(0))\n",
    "#df_spark.select('change','diabetesMed').show(10)"
   ]
  },
  {
   "cell_type": "markdown",
   "metadata": {},
   "source": [
    "## Treating all ordinal categorical columns by using String Indexer"
   ]
  },
  {
   "cell_type": "code",
   "execution_count": 31,
   "metadata": {},
   "outputs": [],
   "source": [
    "# Converting all the 24 medicines\n",
    "indexers = [StringIndexer(inputCol=column, outputCol=column+\"_index\").fit(df_spark)\\\n",
    "            for column in ('metformin','repaglinide','nateglinide')]\n",
    "\n",
    "pipeline = Pipeline(stages=indexers)\n",
    "df_spark = pipeline.fit(df_spark).transform(df_spark)"
   ]
  },
  {
   "cell_type": "code",
   "execution_count": 32,
   "metadata": {},
   "outputs": [],
   "source": [
    "indexers = [StringIndexer(inputCol=column, outputCol=column+\"_index\").fit(df_spark)\\\n",
    "            for column in ('chlorpropamide','glimepiride','acetohexamide')]\n",
    "\n",
    "pipeline = Pipeline(stages=indexers)\n",
    "df_spark = pipeline.fit(df_spark).transform(df_spark)"
   ]
  },
  {
   "cell_type": "code",
   "execution_count": 33,
   "metadata": {},
   "outputs": [],
   "source": [
    "indexers = [StringIndexer(inputCol=column, outputCol=column+\"_index\").fit(df_spark)\\\n",
    "            for column in ('miglitol','troglitazone','tolazamide')]\n",
    "\n",
    "\n",
    "pipeline = Pipeline(stages=indexers)\n",
    "df_spark = pipeline.fit(df_spark).transform(df_spark)"
   ]
  },
  {
   "cell_type": "code",
   "execution_count": 34,
   "metadata": {},
   "outputs": [],
   "source": [
    "indexers = [StringIndexer(inputCol=column, outputCol=column+\"_index\").fit(df_spark)\\\n",
    "            for column in ('insulin','glyburide-metformin','glipizide-metformin')]\n",
    "\n",
    "pipeline = Pipeline(stages=indexers)\n",
    "df_spark = pipeline.fit(df_spark).transform(df_spark)"
   ]
  },
  {
   "cell_type": "code",
   "execution_count": 35,
   "metadata": {},
   "outputs": [],
   "source": [
    "indexers = [StringIndexer(inputCol=column, outputCol=column+\"_index\").fit(df_spark)\\\n",
    "            for column in ('glimepiride-pioglitazone','metformin-rosiglitazone','metformin-pioglitazone')]\n",
    "\n",
    "\n",
    "pipeline = Pipeline(stages=indexers)\n",
    "df_spark = pipeline.fit(df_spark).transform(df_spark)"
   ]
  },
  {
   "cell_type": "code",
   "execution_count": 36,
   "metadata": {},
   "outputs": [],
   "source": [
    "indexers = [StringIndexer(inputCol=column, outputCol=column+\"_index\").fit(df_spark)\\\n",
    "            for column in ('glipizide','glyburide','tolbutamide')]\n",
    "\n",
    "pipeline = Pipeline(stages=indexers)\n",
    "df_spark = pipeline.fit(df_spark).transform(df_spark)"
   ]
  },
  {
   "cell_type": "code",
   "execution_count": 37,
   "metadata": {},
   "outputs": [],
   "source": [
    "indexers = [StringIndexer(inputCol=column, outputCol=column+\"_index\").fit(df_spark)\\\n",
    "            for column in ('pioglitazone','rosiglitazone','acarbose')]\n",
    "\n",
    "pipeline = Pipeline(stages=indexers)\n",
    "df_spark = pipeline.fit(df_spark).transform(df_spark)"
   ]
  },
  {
   "cell_type": "code",
   "execution_count": 38,
   "metadata": {},
   "outputs": [],
   "source": [
    "df_spark = df_spark.withColumn('insulin_index1',fn.when(df_spark[\"insulin_index\"]==2,4).\\\n",
    "                                           otherwise(df_spark[\"insulin_index\"]))\n",
    "df_spark = df_spark.withColumn('insulin_index1',fn.when(df_spark[\"insulin_index1\"]==3,2).\\\n",
    "                                           otherwise(df_spark[\"insulin_index1\"]))\n",
    "df_spark = df_spark.drop('insulin_index')\n",
    "df_spark = df_spark.withColumn('insulin_index',fn.when(df_spark[\"insulin_index1\"]==4,3).\\\n",
    "                                           otherwise(df_spark[\"insulin_index1\"]))\n",
    "df_spark = df_spark.drop('insulin_index1')"
   ]
  },
  {
   "cell_type": "code",
   "execution_count": 39,
   "metadata": {},
   "outputs": [],
   "source": [
    "df_spark = df_spark.withColumn('miglitol_index1',fn.when(df_spark[\"miglitol_index\"]==2,4).\\\n",
    "                                           otherwise(df_spark[\"miglitol_index\"]))\n",
    "df_spark = df_spark.withColumn('miglitol_index1',fn.when(df_spark[\"miglitol_index1\"]==3,2).\\\n",
    "                                           otherwise(df_spark[\"miglitol_index1\"]))\n",
    "df_spark = df_spark.drop('miglitol_index')\n",
    "df_spark = df_spark.withColumn('miglitol_index',fn.when(df_spark[\"miglitol_index1\"]==4,3).\\\n",
    "                                           otherwise(df_spark[\"miglitol_index1\"]))\n",
    "df_spark = df_spark.drop('miglitol_index1')"
   ]
  },
  {
   "cell_type": "markdown",
   "metadata": {},
   "source": [
    "## Taking square root and log transformation of right-skewed distributions"
   ]
  },
  {
   "cell_type": "code",
   "execution_count": 40,
   "metadata": {},
   "outputs": [
    {
     "data": {
      "text/plain": [
       "Text(0.5,0,'total_visits')"
      ]
     },
     "execution_count": 40,
     "metadata": {},
     "output_type": "execute_result"
    },
    {
     "data": {
      "image/png": "[encoded data removed]",
      "text/plain": [
       "<Figure size 432x288 with 1 Axes>"
      ]
     },
     "metadata": {},
     "output_type": "display_data"
    }
   ],
   "source": [
    "df_spark.select('total_visits').toPandas().total_visits.hist()\n",
    "plt.xlim(0,70)\n",
    "plt.ylim(0,800)\n",
    "plt.xlabel('total_visits')\n",
    "# Total visits is a right-skewed distribution, hence we take log and square root transformation to make it bell-shaped"
   ]
  },
  {
   "cell_type": "code",
   "execution_count": 41,
   "metadata": {},
   "outputs": [
    {
     "data": {
      "text/plain": [
       "Text(0.5,0,'number_emergency')"
      ]
     },
     "execution_count": 41,
     "metadata": {},
     "output_type": "execute_result"
    },
    {
     "data": {
      "image/png": "[encoded data removed]",
      "text/plain": [
       "<Figure size 432x288 with 1 Axes>"
      ]
     },
     "metadata": {},
     "output_type": "display_data"
    }
   ],
   "source": [
    "df_spark.select('number_emergency').toPandas().number_emergency.hist()\n",
    "plt.xlim(0,70)\n",
    "plt.ylim(0,500)\n",
    "plt.xlabel('number_emergency')\n",
    "# number_emergency is a right-skewed distribution, hence we take log and square root transformation to make it bell-shaped"
   ]
  },
  {
   "cell_type": "code",
   "execution_count": 42,
   "metadata": {},
   "outputs": [
    {
     "data": {
      "text/plain": [
       "Text(0.5,0,'time_in_hospital')"
      ]
     },
     "execution_count": 42,
     "metadata": {},
     "output_type": "execute_result"
    },
    {
     "data": {
      "image/png": "[encoded data removed]",
      "text/plain": [
       "<Figure size 432x288 with 1 Axes>"
      ]
     },
     "metadata": {},
     "output_type": "display_data"
    }
   ],
   "source": [
    "df_spark.select('time_in_hospital').toPandas().time_in_hospital.hist()\n",
    "plt.xlabel('time_in_hospital')\n",
    "# Time in hospital is a right-skewed distribution, hence we take log and square root transformation to make it bell-shaped"
   ]
  },
  {
   "cell_type": "code",
   "execution_count": 43,
   "metadata": {},
   "outputs": [
    {
     "data": {
      "text/plain": [
       "Text(0.5,0,'num_lab_procedures')"
      ]
     },
     "execution_count": 43,
     "metadata": {},
     "output_type": "execute_result"
    },
    {
     "data": {
      "image/png": "[encoded data removed]",
      "text/plain": [
       "<Figure size 432x288 with 1 Axes>"
      ]
     },
     "metadata": {},
     "output_type": "display_data"
    }
   ],
   "source": [
    "df_spark.select('num_lab_procedures').toPandas().num_lab_procedures.hist()\n",
    "plt.xlabel('num_lab_procedures')\n",
    "# num_lab_procedures is a right-skewed distribution, hence we take log and square root transformation to make it bell-shaped"
   ]
  },
  {
   "cell_type": "code",
   "execution_count": 44,
   "metadata": {
    "scrolled": true
   },
   "outputs": [
    {
     "data": {
      "text/plain": [
       "Text(0.5,0,'num_medications')"
      ]
     },
     "execution_count": 44,
     "metadata": {},
     "output_type": "execute_result"
    },
    {
     "data": {
      "image/png": "[encoded data removed]",
      "text/plain": [
       "<Figure size 432x288 with 1 Axes>"
      ]
     },
     "metadata": {},
     "output_type": "display_data"
    }
   ],
   "source": [
    "df_spark.select('num_medications').toPandas().num_medications.hist()\n",
    "plt.xlabel('num_medications')\n",
    "# num_medications is a right-skewed distribution, hence we take log and square root transformation to make it bell-shaped"
   ]
  },
  {
   "cell_type": "code",
   "execution_count": 45,
   "metadata": {
    "scrolled": true
   },
   "outputs": [
    {
     "data": {
      "text/plain": [
       "Text(0.5,0,'num_procedures')"
      ]
     },
     "execution_count": 45,
     "metadata": {},
     "output_type": "execute_result"
    },
    {
     "data": {
      "image/png": "[encoded data removed]",
      "text/plain": [
       "<Figure size 432x288 with 1 Axes>"
      ]
     },
     "metadata": {},
     "output_type": "display_data"
    }
   ],
   "source": [
    "df_spark.select('num_procedures').toPandas().num_procedures.hist()\n",
    "plt.xlabel('num_procedures')\n",
    "# num_procedures is a right-skewed distribution, hence we take log and square root transformation to make it bell-shaped"
   ]
  },
  {
   "cell_type": "code",
   "execution_count": 46,
   "metadata": {},
   "outputs": [
    {
     "data": {
      "text/plain": [
       "Text(0.5,0,'number_diagnoses')"
      ]
     },
     "execution_count": 46,
     "metadata": {},
     "output_type": "execute_result"
    },
    {
     "data": {
      "image/png": "[encoded data removed]",
      "text/plain": [
       "<Figure size 432x288 with 1 Axes>"
      ]
     },
     "metadata": {},
     "output_type": "display_data"
    }
   ],
   "source": [
    "df_spark.select('number_diagnoses').toPandas().number_diagnoses.hist()\n",
    "plt.xlabel('number_diagnoses')\n",
    "# This is not a right-skewed and hence we do not take log of this"
   ]
  },
  {
   "cell_type": "code",
   "execution_count": 47,
   "metadata": {},
   "outputs": [],
   "source": [
    "# Taking sqrt and log transformation both to see which performs better in modeling \n",
    "\n",
    "# SQRT Transformation\n",
    "df_spark = df_spark.withColumn('total_visits_sqrt',fn.round(fn.sqrt(fn.col('total_visits')),2))\n",
    "df_spark = df_spark.withColumn('number_emergency_sqrt',fn.round(fn.sqrt(fn.col('number_emergency')),2))\n",
    "df_spark = df_spark.withColumn('num_lab_procedures_sqrt',fn.round(fn.sqrt(fn.col('num_lab_procedures')),2))\n",
    "df_spark = df_spark.withColumn('num_medications_sqrt',fn.round(fn.sqrt(fn.col('num_medications')),2))\n",
    "\n",
    "# LOG Transformation - Adding 0.01 as there are many 0 values\n",
    "df_spark = df_spark.withColumn('total_visits_log',fn.round(fn.log(fn.col('total_visits')+0.01),2))\n",
    "df_spark = df_spark.withColumn('number_emergency_log',fn.round(fn.log(fn.col('number_emergency')+0.01),2))\n",
    "df_spark = df_spark.withColumn('num_lab_procedures_log',fn.round(fn.log(fn.col('num_lab_procedures')+0.01),2))\n",
    "df_spark = df_spark.withColumn('num_medications_log',fn.round(fn.log(fn.col('num_medications')+0.01),2))\n",
    "df_spark = df_spark.withColumn('time_in_hospital_log',fn.round(fn.log(fn.col('time_in_hospital')+0.01),2))\n",
    "df_spark = df_spark.withColumn('num_procedures_log',fn.round(fn.log(fn.col('num_procedures')+0.01),2))\n",
    "\n",
    "\n"
   ]
  },
  {
   "cell_type": "code",
   "execution_count": 48,
   "metadata": {},
   "outputs": [],
   "source": [
    "# Converting Age into numeric\n",
    "\n",
    "df_spark = df_spark.withColumn('age',fn.when(df_spark.age=='[0-10)',10).otherwise(df_spark.age))\n",
    "df_spark = df_spark.withColumn('age',fn.when(df_spark.age=='[10-20)',20).otherwise(df_spark.age))\n",
    "df_spark = df_spark.withColumn('age',fn.when(df_spark.age=='[20-30)',30).otherwise(df_spark.age))\n",
    "df_spark = df_spark.withColumn('age',fn.when(df_spark.age=='[30-40)',40).otherwise(df_spark.age))\n",
    "df_spark = df_spark.withColumn('age',fn.when(df_spark.age=='[40-50)',50).otherwise(df_spark.age))\n",
    "df_spark = df_spark.withColumn('age',fn.when(df_spark.age=='[50-60)',60).otherwise(df_spark.age))\n",
    "df_spark = df_spark.withColumn('age',fn.when(df_spark.age=='[60-70)',70).otherwise(df_spark.age))\n",
    "df_spark = df_spark.withColumn('age',fn.when(df_spark.age=='[70-80)',80).otherwise(df_spark.age))\n",
    "df_spark = df_spark.withColumn('age',fn.when(df_spark.age=='[80-90)',90).otherwise(df_spark.age))\n",
    "df_spark = df_spark.withColumn('age',fn.when(df_spark.age=='[90-100)',100).otherwise(df_spark.age))\n",
    "df_spark = df_spark.withColumn('age',fn.when(df_spark.age=='[100-110)',110).otherwise(df_spark.age))\n"
   ]
  },
  {
   "cell_type": "code",
   "execution_count": 49,
   "metadata": {},
   "outputs": [],
   "source": [
    "# Changing data type of age into Integer\n",
    "df_spark = df_spark.withColumn(\"age\", df_spark[\"age\"].cast(IntegerType()))"
   ]
  },
  {
   "cell_type": "code",
   "execution_count": 50,
   "metadata": {},
   "outputs": [
    {
     "data": {
      "text/plain": [
       "Text(0.5,0,'age')"
      ]
     },
     "execution_count": 50,
     "metadata": {},
     "output_type": "execute_result"
    },
    {
     "data": {
      "image/png": "[encoded data removed]",
      "text/plain": [
       "<Figure size 432x288 with 1 Axes>"
      ]
     },
     "metadata": {},
     "output_type": "display_data"
    }
   ],
   "source": [
    "df_spark.select('age').toPandas().age.hist()\n",
    "plt.xlabel('age')\n",
    "# Left skewed"
   ]
  },
  {
   "cell_type": "markdown",
   "metadata": {},
   "source": [
    "## Preparing the data for modeling"
   ]
  },
  {
   "cell_type": "markdown",
   "metadata": {},
   "source": [
    "## Getting only distinct patients with their first occurence"
   ]
  },
  {
   "cell_type": "code",
   "execution_count": 51,
   "metadata": {},
   "outputs": [],
   "source": [
    "df_spark.createOrReplaceTempView(\"temp\") "
   ]
  },
  {
   "cell_type": "code",
   "execution_count": 52,
   "metadata": {},
   "outputs": [],
   "source": [
    "unique_patient_df = spark.sql(\"select * from \\\n",
    "          (select patient_nbr, encounter_id,\\\n",
    "          row_number() over (partition by patient_nbr order by encounter_id) as rn \\\n",
    "  from temp \\\n",
    "  ) t \\\n",
    "where rn = 1\")"
   ]
  },
  {
   "cell_type": "code",
   "execution_count": 53,
   "metadata": {},
   "outputs": [
    {
     "name": "stdout",
     "output_type": "stream",
     "text": [
      "+------------+-----------+\n",
      "|encounter_id|patient_nbr|\n",
      "+------------+-----------+\n",
      "|    42462216|     113652|\n",
      "|   100131384|     132318|\n",
      "|    69445656|     244629|\n",
      "|    26924070|     300825|\n",
      "|    36236244|     308619|\n",
      "+------------+-----------+\n",
      "only showing top 5 rows\n",
      "\n",
      "(60735, 3)\n"
     ]
    }
   ],
   "source": [
    "# Converting scientific notation into full numeric number for encounter_id and patient_nbr in unique_patient df\n",
    "unique_patient_df = unique_patient_df.withColumn('encounter_id', unique_patient_df.encounter_id.cast(DecimalType(15,0)))\n",
    "unique_patient_df = unique_patient_df.withColumn('patient_nbr', unique_patient_df.patient_nbr.cast(DecimalType(15,0)))\n",
    "unique_patient_df.select('encounter_id','patient_nbr').show(5)"
   ]
  },
  {
   "cell_type": "code",
   "execution_count": 54,
   "metadata": {},
   "outputs": [
    {
     "name": "stdout",
     "output_type": "stream",
     "text": [
      "+------------+-----------+\n",
      "|encounter_id|patient_nbr|\n",
      "+------------+-----------+\n",
      "|      149190|   55629189|\n",
      "|       64410|   86047875|\n",
      "|      500364|   82442376|\n",
      "|       16680|   42519267|\n",
      "|       35754|   82637451|\n",
      "|       55842|   84259809|\n",
      "|       63768|  114882984|\n",
      "|       12522|   48330783|\n",
      "|       15738|   63555939|\n",
      "|       28236|   89869032|\n",
      "+------------+-----------+\n",
      "only showing top 10 rows\n",
      "\n",
      "(86861, 146)\n"
     ]
    }
   ],
   "source": [
    "# Converting scientific notation into full numeric number for encounter_id and patient_nbr in df_spark df\n",
    "df_spark = df_spark.withColumn('encounter_id', df_spark.encounter_id.cast(DecimalType(15,0)))\n",
    "df_spark = df_spark.withColumn('patient_nbr', df_spark.patient_nbr.cast(DecimalType(15,0)))\n",
    "df_spark.select('encounter_id','patient_nbr').show(10)"
   ]
  },
  {
   "cell_type": "code",
   "execution_count": 55,
   "metadata": {},
   "outputs": [
    {
     "name": "stdout",
     "output_type": "stream",
     "text": [
      "(60735, 147)\n"
     ]
    }
   ],
   "source": [
    "# Mergint the two datasets to get only distinct patient records (first occurence of their admission in the hospital)\n",
    "df_spark_final  = df_spark.join(unique_patient_df, on=['encounter_id','patient_nbr'], how='inner')"
   ]
  },
  {
   "cell_type": "code",
   "execution_count": 56,
   "metadata": {},
   "outputs": [],
   "source": [
    "# Taking backup of this df before performing modeling\n",
    "backup_final = df_spark_final"
   ]
  },
  {
   "cell_type": "markdown",
   "metadata": {},
   "source": [
    "# PART 2 - Modeling"
   ]
  },
  {
   "cell_type": "markdown",
   "metadata": {
    "scrolled": true
   },
   "source": [
    "## Splitting Data into Training, Validation and Testing"
   ]
  },
  {
   "cell_type": "code",
   "execution_count": 58,
   "metadata": {},
   "outputs": [
    {
     "name": "stdout",
     "output_type": "stream",
     "text": [
      "# points in training:  36465\n",
      "# points in validation:  18232\n",
      "# points in testing:  6038\n"
     ]
    }
   ],
   "source": [
    "training_df,validation_df,testing_df = df_spark_final.randomSplit([0.6, 0.3, 0.1], seed=0)\n",
    "print(\"# points in training: \", training_df.count())\n",
    "print(\"# points in validation: \", validation_df.count())\n",
    "print(\"# points in testing: \", testing_df.count())"
   ]
  },
  {
   "cell_type": "code",
   "execution_count": 59,
   "metadata": {
    "scrolled": true
   },
   "outputs": [
    {
     "name": "stdout",
     "output_type": "stream",
     "text": [
      "+----------+-----------------+\n",
      "|readmitted|count(readmitted)|\n",
      "+----------+-----------------+\n",
      "|         1|            14399|\n",
      "|         0|            22066|\n",
      "+----------+-----------------+\n",
      "\n"
     ]
    }
   ],
   "source": [
    "# Checking if training_df split has equal proportion of readmitted patients\n",
    "training_df.groupBy('readmitted').agg(fn.count('readmitted')).show()"
   ]
  },
  {
   "cell_type": "markdown",
   "metadata": {},
   "source": [
    "## Correlation Testing - To select most significant features for logistic regression"
   ]
  },
  {
   "cell_type": "code",
   "execution_count": 64,
   "metadata": {},
   "outputs": [
    {
     "name": "stdout",
     "output_type": "stream",
     "text": [
      "                dd_home  dd_shortm_hos    dd_snf    dd_icf  dd_careInst  \\\n",
      "dd_home        1.000000      -0.187943 -0.474108 -0.118854    -0.148310   \n",
      "dd_shortm_hos -0.187943       1.000000 -0.052325 -0.013117    -0.016368   \n",
      "dd_snf        -0.474108      -0.052325  1.000000 -0.033090    -0.041291   \n",
      "dd_icf        -0.118854      -0.013117 -0.033090  1.000000    -0.010351   \n",
      "dd_careInst   -0.148310      -0.016368 -0.041291 -0.010351     1.000000   \n",
      "dd_hhs        -0.472782      -0.052179 -0.131627 -0.032997    -0.041176   \n",
      "dd_ama        -0.101668      -0.011221 -0.028305 -0.007096    -0.008854   \n",
      "dd_homeIvy    -0.042148      -0.004652 -0.011734 -0.002942    -0.003671   \n",
      "dd_admInp     -0.013668      -0.001508 -0.003805 -0.000954    -0.001190   \n",
      "dd_expired    -0.166773      -0.018406 -0.046431 -0.011640    -0.014525   \n",
      "dd_hospice    -0.083022      -0.009163 -0.023114 -0.005794    -0.007231   \n",
      "dd_medfac     -0.063817      -0.007043 -0.017767 -0.004454    -0.005558   \n",
      "dd_swingbed   -0.029000      -0.003201 -0.008074 -0.002024    -0.002526   \n",
      "dd_rehab      -0.190899      -0.021069 -0.053148 -0.013324    -0.016626   \n",
      "dd_long       -0.082738      -0.009131 -0.023035 -0.005775    -0.007206   \n",
      "dd_nursing    -0.028183      -0.003110 -0.007846 -0.001967    -0.002454   \n",
      "dd_federal    -0.009665      -0.001067 -0.002691 -0.000675    -0.000842   \n",
      "dd_psy        -0.038674      -0.004268 -0.010767 -0.002699    -0.003368   \n",
      "readmitted    -0.019380       0.010497  0.027969  0.009029     0.015692   \n",
      "\n",
      "                 dd_hhs    dd_ama  dd_homeIvy  dd_admInp  dd_expired  \\\n",
      "dd_home       -0.472782 -0.101668   -0.042148  -0.013668   -0.166773   \n",
      "dd_shortm_hos -0.052179 -0.011221   -0.004652  -0.001508   -0.018406   \n",
      "dd_snf        -0.131627 -0.028305   -0.011734  -0.003805   -0.046431   \n",
      "dd_icf        -0.032997 -0.007096   -0.002942  -0.000954   -0.011640   \n",
      "dd_careInst   -0.041176 -0.008854   -0.003671  -0.001190   -0.014525   \n",
      "dd_hhs         1.000000 -0.028226   -0.011702  -0.003795   -0.046301   \n",
      "dd_ama        -0.028226  1.000000   -0.002516  -0.000816   -0.009957   \n",
      "dd_homeIvy    -0.011702 -0.002516    1.000000  -0.000338   -0.004128   \n",
      "dd_admInp     -0.003795 -0.000816   -0.000338   1.000000   -0.001339   \n",
      "dd_expired    -0.046301 -0.009957   -0.004128  -0.001339    1.000000   \n",
      "dd_hospice    -0.023050 -0.004957   -0.002055  -0.000666   -0.008131   \n",
      "dd_medfac     -0.017718 -0.003810   -0.001580  -0.000512   -0.006250   \n",
      "dd_swingbed   -0.008051 -0.001731   -0.000718  -0.000233   -0.002840   \n",
      "dd_rehab      -0.052999 -0.011397   -0.004725  -0.001532   -0.018695   \n",
      "dd_long       -0.022971 -0.004940   -0.002048  -0.000664   -0.008103   \n",
      "dd_nursing    -0.007824 -0.001683   -0.000698  -0.000226   -0.002760   \n",
      "dd_federal    -0.002683 -0.000577   -0.000239  -0.000078   -0.000946   \n",
      "dd_psy        -0.010737 -0.002309   -0.000957  -0.000310   -0.003788   \n",
      "readmitted     0.047349  0.004440    0.008685  -0.003104   -0.103236   \n",
      "\n",
      "               dd_hospice  dd_medfac  dd_swingbed  dd_rehab   dd_long  \\\n",
      "dd_home         -0.083022  -0.063817    -0.029000 -0.190899 -0.082738   \n",
      "dd_shortm_hos   -0.009163  -0.007043    -0.003201 -0.021069 -0.009131   \n",
      "dd_snf          -0.023114  -0.017767    -0.008074 -0.053148 -0.023035   \n",
      "dd_icf          -0.005794  -0.004454    -0.002024 -0.013324 -0.005775   \n",
      "dd_careInst     -0.007231  -0.005558    -0.002526 -0.016626 -0.007206   \n",
      "dd_hhs          -0.023050  -0.017718    -0.008051 -0.052999 -0.022971   \n",
      "dd_ama          -0.004957  -0.003810    -0.001731 -0.011397 -0.004940   \n",
      "dd_homeIvy      -0.002055  -0.001580    -0.000718 -0.004725 -0.002048   \n",
      "dd_admInp       -0.000666  -0.000512    -0.000233 -0.001532 -0.000664   \n",
      "dd_expired      -0.008131  -0.006250    -0.002840 -0.018695 -0.008103   \n",
      "dd_hospice       1.000000  -0.003111    -0.001414 -0.009307 -0.004034   \n",
      "dd_medfac       -0.003111   1.000000    -0.001087 -0.007154 -0.003101   \n",
      "dd_swingbed     -0.001414  -0.001087     1.000000 -0.003251 -0.001409   \n",
      "dd_rehab        -0.009307  -0.007154    -0.003251  1.000000 -0.009275   \n",
      "dd_long         -0.004034  -0.003101    -0.001409 -0.009275  1.000000   \n",
      "dd_nursing      -0.001374  -0.001056    -0.000480 -0.003159 -0.001369   \n",
      "dd_federal      -0.000471  -0.000362    -0.000165 -0.001083 -0.000470   \n",
      "dd_psy          -0.001885  -0.001449    -0.000659 -0.004335 -0.001879   \n",
      "readmitted      -0.041654  -0.034905     0.012356  0.030286 -0.010351   \n",
      "\n",
      "               dd_nursing  dd_federal    dd_psy  readmitted  \n",
      "dd_home         -0.028183   -0.009665 -0.038674   -0.019380  \n",
      "dd_shortm_hos   -0.003110   -0.001067 -0.004268    0.010497  \n",
      "dd_snf          -0.007846   -0.002691 -0.010767    0.027969  \n",
      "dd_icf          -0.001967   -0.000675 -0.002699    0.009029  \n",
      "dd_careInst     -0.002454   -0.000842 -0.003368    0.015692  \n",
      "dd_hhs          -0.007824   -0.002683 -0.010737    0.047349  \n",
      "dd_ama          -0.001683   -0.000577 -0.002309    0.004440  \n",
      "dd_homeIvy      -0.000698   -0.000239 -0.000957    0.008685  \n",
      "dd_admInp       -0.000226   -0.000078 -0.000310   -0.003104  \n",
      "dd_expired      -0.002760   -0.000946 -0.003788   -0.103236  \n",
      "dd_hospice      -0.001374   -0.000471 -0.001885   -0.041654  \n",
      "dd_medfac       -0.001056   -0.000362 -0.001449   -0.034905  \n",
      "dd_swingbed     -0.000480   -0.000165 -0.000659    0.012356  \n",
      "dd_rehab        -0.003159   -0.001083 -0.004335    0.030286  \n",
      "dd_long         -0.001369   -0.000470 -0.001879   -0.010351  \n",
      "dd_nursing       1.000000   -0.000160 -0.000640   -0.009649  \n",
      "dd_federal      -0.000160    1.000000 -0.000219   -0.005983  \n",
      "dd_psy          -0.000640   -0.000219  1.000000    0.012058  \n",
      "readmitted      -0.009649   -0.005983  0.012058    1.000000  \n"
     ]
    }
   ],
   "source": [
    "training_df.select( 'dd_home','dd_shortm_hos', 'dd_snf', 'dd_icf','dd_careInst', 'dd_hhs','dd_ama',\n",
    " 'dd_homeIvy','dd_admInp','dd_expired','dd_hospice','dd_medfac','dd_swingbed','dd_rehab',\n",
    " 'dd_long','dd_nursing','dd_federal','dd_psy','readmitted').toPandas().corr()\n",
    "# Only dd_hhs and dd_expired are highly correlated with readmitted"
   ]
  },
  {
   "cell_type": "code",
   "execution_count": 65,
   "metadata": {},
   "outputs": [
    {
     "data": {
      "text/html": [
       "<div>\n",
       "<style scoped>\n",
       "    .dataframe tbody tr th:only-of-type {\n",
       "        vertical-align: middle;\n",
       "    }\n",
       "\n",
       "    .dataframe tbody tr th {\n",
       "        vertical-align: top;\n",
       "    }\n",
       "\n",
       "    .dataframe thead th {\n",
       "        text-align: right;\n",
       "    }\n",
       "</style>\n",
       "<table border=\"1\" class=\"dataframe\">\n",
       "  <thead>\n",
       "    <tr style=\"text-align: right;\">\n",
       "      <th></th>\n",
       "      <th>admission_source_phyref</th>\n",
       "      <th>admission_source_cliref</th>\n",
       "      <th>admission_source_hmoref</th>\n",
       "      <th>admission_source_hos</th>\n",
       "      <th>admission_source_snf</th>\n",
       "      <th>admission_source_hlthcare</th>\n",
       "      <th>admission_source_emergency</th>\n",
       "      <th>admission_source_court</th>\n",
       "      <th>admission_source_critical</th>\n",
       "      <th>admission_source_normdel</th>\n",
       "      <th>admission_source_birth</th>\n",
       "      <th>admission_source_surgery</th>\n",
       "      <th>readmitted</th>\n",
       "    </tr>\n",
       "  </thead>\n",
       "  <tbody>\n",
       "    <tr>\n",
       "      <th>admission_source_phyref</th>\n",
       "      <td>1.000000</td>\n",
       "      <td>-0.079814</td>\n",
       "      <td>-0.032467</td>\n",
       "      <td>-0.137763</td>\n",
       "      <td>-0.063531</td>\n",
       "      <td>-0.108170</td>\n",
       "      <td>-0.826069</td>\n",
       "      <td>-0.009476</td>\n",
       "      <td>-0.005065</td>\n",
       "      <td>NaN</td>\n",
       "      <td>NaN</td>\n",
       "      <td>-0.003581</td>\n",
       "      <td>-0.026297</td>\n",
       "    </tr>\n",
       "    <tr>\n",
       "      <th>admission_source_cliref</th>\n",
       "      <td>-0.079814</td>\n",
       "      <td>1.000000</td>\n",
       "      <td>-0.005541</td>\n",
       "      <td>-0.023510</td>\n",
       "      <td>-0.010842</td>\n",
       "      <td>-0.018460</td>\n",
       "      <td>-0.140971</td>\n",
       "      <td>-0.001617</td>\n",
       "      <td>-0.000864</td>\n",
       "      <td>NaN</td>\n",
       "      <td>NaN</td>\n",
       "      <td>-0.000611</td>\n",
       "      <td>-0.018266</td>\n",
       "    </tr>\n",
       "    <tr>\n",
       "      <th>admission_source_hmoref</th>\n",
       "      <td>-0.032467</td>\n",
       "      <td>-0.005541</td>\n",
       "      <td>1.000000</td>\n",
       "      <td>-0.009563</td>\n",
       "      <td>-0.004410</td>\n",
       "      <td>-0.007509</td>\n",
       "      <td>-0.057344</td>\n",
       "      <td>-0.000658</td>\n",
       "      <td>-0.000352</td>\n",
       "      <td>NaN</td>\n",
       "      <td>NaN</td>\n",
       "      <td>-0.000249</td>\n",
       "      <td>0.001919</td>\n",
       "    </tr>\n",
       "    <tr>\n",
       "      <th>admission_source_hos</th>\n",
       "      <td>-0.137763</td>\n",
       "      <td>-0.023510</td>\n",
       "      <td>-0.009563</td>\n",
       "      <td>1.000000</td>\n",
       "      <td>-0.018713</td>\n",
       "      <td>-0.031862</td>\n",
       "      <td>-0.243322</td>\n",
       "      <td>-0.002791</td>\n",
       "      <td>-0.001492</td>\n",
       "      <td>NaN</td>\n",
       "      <td>NaN</td>\n",
       "      <td>-0.001055</td>\n",
       "      <td>-0.048833</td>\n",
       "    </tr>\n",
       "    <tr>\n",
       "      <th>admission_source_snf</th>\n",
       "      <td>-0.063531</td>\n",
       "      <td>-0.010842</td>\n",
       "      <td>-0.004410</td>\n",
       "      <td>-0.018713</td>\n",
       "      <td>1.000000</td>\n",
       "      <td>-0.014694</td>\n",
       "      <td>-0.112212</td>\n",
       "      <td>-0.001287</td>\n",
       "      <td>-0.000688</td>\n",
       "      <td>NaN</td>\n",
       "      <td>NaN</td>\n",
       "      <td>-0.000486</td>\n",
       "      <td>-0.008040</td>\n",
       "    </tr>\n",
       "    <tr>\n",
       "      <th>admission_source_hlthcare</th>\n",
       "      <td>-0.108170</td>\n",
       "      <td>-0.018460</td>\n",
       "      <td>-0.007509</td>\n",
       "      <td>-0.031862</td>\n",
       "      <td>-0.014694</td>\n",
       "      <td>1.000000</td>\n",
       "      <td>-0.191054</td>\n",
       "      <td>-0.002192</td>\n",
       "      <td>-0.001171</td>\n",
       "      <td>NaN</td>\n",
       "      <td>NaN</td>\n",
       "      <td>-0.000828</td>\n",
       "      <td>-0.047058</td>\n",
       "    </tr>\n",
       "    <tr>\n",
       "      <th>admission_source_emergency</th>\n",
       "      <td>-0.826069</td>\n",
       "      <td>-0.140971</td>\n",
       "      <td>-0.057344</td>\n",
       "      <td>-0.243322</td>\n",
       "      <td>-0.112212</td>\n",
       "      <td>-0.191054</td>\n",
       "      <td>1.000000</td>\n",
       "      <td>-0.016737</td>\n",
       "      <td>-0.008946</td>\n",
       "      <td>NaN</td>\n",
       "      <td>NaN</td>\n",
       "      <td>-0.006326</td>\n",
       "      <td>0.064934</td>\n",
       "    </tr>\n",
       "    <tr>\n",
       "      <th>admission_source_court</th>\n",
       "      <td>-0.009476</td>\n",
       "      <td>-0.001617</td>\n",
       "      <td>-0.000658</td>\n",
       "      <td>-0.002791</td>\n",
       "      <td>-0.001287</td>\n",
       "      <td>-0.002192</td>\n",
       "      <td>-0.016737</td>\n",
       "      <td>1.000000</td>\n",
       "      <td>-0.000103</td>\n",
       "      <td>NaN</td>\n",
       "      <td>NaN</td>\n",
       "      <td>-0.000073</td>\n",
       "      <td>-0.007144</td>\n",
       "    </tr>\n",
       "    <tr>\n",
       "      <th>admission_source_critical</th>\n",
       "      <td>-0.005065</td>\n",
       "      <td>-0.000864</td>\n",
       "      <td>-0.000352</td>\n",
       "      <td>-0.001492</td>\n",
       "      <td>-0.000688</td>\n",
       "      <td>-0.001171</td>\n",
       "      <td>-0.008946</td>\n",
       "      <td>-0.000103</td>\n",
       "      <td>1.000000</td>\n",
       "      <td>NaN</td>\n",
       "      <td>NaN</td>\n",
       "      <td>-0.000039</td>\n",
       "      <td>0.001593</td>\n",
       "    </tr>\n",
       "    <tr>\n",
       "      <th>admission_source_normdel</th>\n",
       "      <td>NaN</td>\n",
       "      <td>NaN</td>\n",
       "      <td>NaN</td>\n",
       "      <td>NaN</td>\n",
       "      <td>NaN</td>\n",
       "      <td>NaN</td>\n",
       "      <td>NaN</td>\n",
       "      <td>NaN</td>\n",
       "      <td>NaN</td>\n",
       "      <td>NaN</td>\n",
       "      <td>NaN</td>\n",
       "      <td>NaN</td>\n",
       "      <td>NaN</td>\n",
       "    </tr>\n",
       "    <tr>\n",
       "      <th>admission_source_birth</th>\n",
       "      <td>NaN</td>\n",
       "      <td>NaN</td>\n",
       "      <td>NaN</td>\n",
       "      <td>NaN</td>\n",
       "      <td>NaN</td>\n",
       "      <td>NaN</td>\n",
       "      <td>NaN</td>\n",
       "      <td>NaN</td>\n",
       "      <td>NaN</td>\n",
       "      <td>NaN</td>\n",
       "      <td>NaN</td>\n",
       "      <td>NaN</td>\n",
       "      <td>NaN</td>\n",
       "    </tr>\n",
       "    <tr>\n",
       "      <th>admission_source_surgery</th>\n",
       "      <td>-0.003581</td>\n",
       "      <td>-0.000611</td>\n",
       "      <td>-0.000249</td>\n",
       "      <td>-0.001055</td>\n",
       "      <td>-0.000486</td>\n",
       "      <td>-0.000828</td>\n",
       "      <td>-0.006326</td>\n",
       "      <td>-0.000073</td>\n",
       "      <td>-0.000039</td>\n",
       "      <td>NaN</td>\n",
       "      <td>NaN</td>\n",
       "      <td>1.000000</td>\n",
       "      <td>-0.004230</td>\n",
       "    </tr>\n",
       "    <tr>\n",
       "      <th>readmitted</th>\n",
       "      <td>-0.026297</td>\n",
       "      <td>-0.018266</td>\n",
       "      <td>0.001919</td>\n",
       "      <td>-0.048833</td>\n",
       "      <td>-0.008040</td>\n",
       "      <td>-0.047058</td>\n",
       "      <td>0.064934</td>\n",
       "      <td>-0.007144</td>\n",
       "      <td>0.001593</td>\n",
       "      <td>NaN</td>\n",
       "      <td>NaN</td>\n",
       "      <td>-0.004230</td>\n",
       "      <td>1.000000</td>\n",
       "    </tr>\n",
       "  </tbody>\n",
       "</table>\n",
       "</div>"
      ],
      "text/plain": [
       "                            admission_source_phyref  admission_source_cliref  \\\n",
       "admission_source_phyref                    1.000000                -0.079814   \n",
       "admission_source_cliref                   -0.079814                 1.000000   \n",
       "admission_source_hmoref                   -0.032467                -0.005541   \n",
       "admission_source_hos                      -0.137763                -0.023510   \n",
       "admission_source_snf                      -0.063531                -0.010842   \n",
       "admission_source_hlthcare                 -0.108170                -0.018460   \n",
       "admission_source_emergency                -0.826069                -0.140971   \n",
       "admission_source_court                    -0.009476                -0.001617   \n",
       "admission_source_critical                 -0.005065                -0.000864   \n",
       "admission_source_normdel                        NaN                      NaN   \n",
       "admission_source_birth                          NaN                      NaN   \n",
       "admission_source_surgery                  -0.003581                -0.000611   \n",
       "readmitted                                -0.026297                -0.018266   \n",
       "\n",
       "                            admission_source_hmoref  admission_source_hos  \\\n",
       "admission_source_phyref                   -0.032467             -0.137763   \n",
       "admission_source_cliref                   -0.005541             -0.023510   \n",
       "admission_source_hmoref                    1.000000             -0.009563   \n",
       "admission_source_hos                      -0.009563              1.000000   \n",
       "admission_source_snf                      -0.004410             -0.018713   \n",
       "admission_source_hlthcare                 -0.007509             -0.031862   \n",
       "admission_source_emergency                -0.057344             -0.243322   \n",
       "admission_source_court                    -0.000658             -0.002791   \n",
       "admission_source_critical                 -0.000352             -0.001492   \n",
       "admission_source_normdel                        NaN                   NaN   \n",
       "admission_source_birth                          NaN                   NaN   \n",
       "admission_source_surgery                  -0.000249             -0.001055   \n",
       "readmitted                                 0.001919             -0.048833   \n",
       "\n",
       "                            admission_source_snf  admission_source_hlthcare  \\\n",
       "admission_source_phyref                -0.063531                  -0.108170   \n",
       "admission_source_cliref                -0.010842                  -0.018460   \n",
       "admission_source_hmoref                -0.004410                  -0.007509   \n",
       "admission_source_hos                   -0.018713                  -0.031862   \n",
       "admission_source_snf                    1.000000                  -0.014694   \n",
       "admission_source_hlthcare              -0.014694                   1.000000   \n",
       "admission_source_emergency             -0.112212                  -0.191054   \n",
       "admission_source_court                 -0.001287                  -0.002192   \n",
       "admission_source_critical              -0.000688                  -0.001171   \n",
       "admission_source_normdel                     NaN                        NaN   \n",
       "admission_source_birth                       NaN                        NaN   \n",
       "admission_source_surgery               -0.000486                  -0.000828   \n",
       "readmitted                             -0.008040                  -0.047058   \n",
       "\n",
       "                            admission_source_emergency  \\\n",
       "admission_source_phyref                      -0.826069   \n",
       "admission_source_cliref                      -0.140971   \n",
       "admission_source_hmoref                      -0.057344   \n",
       "admission_source_hos                         -0.243322   \n",
       "admission_source_snf                         -0.112212   \n",
       "admission_source_hlthcare                    -0.191054   \n",
       "admission_source_emergency                    1.000000   \n",
       "admission_source_court                       -0.016737   \n",
       "admission_source_critical                    -0.008946   \n",
       "admission_source_normdel                           NaN   \n",
       "admission_source_birth                             NaN   \n",
       "admission_source_surgery                     -0.006326   \n",
       "readmitted                                    0.064934   \n",
       "\n",
       "                            admission_source_court  admission_source_critical  \\\n",
       "admission_source_phyref                  -0.009476                  -0.005065   \n",
       "admission_source_cliref                  -0.001617                  -0.000864   \n",
       "admission_source_hmoref                  -0.000658                  -0.000352   \n",
       "admission_source_hos                     -0.002791                  -0.001492   \n",
       "admission_source_snf                     -0.001287                  -0.000688   \n",
       "admission_source_hlthcare                -0.002192                  -0.001171   \n",
       "admission_source_emergency               -0.016737                  -0.008946   \n",
       "admission_source_court                    1.000000                  -0.000103   \n",
       "admission_source_critical                -0.000103                   1.000000   \n",
       "admission_source_normdel                       NaN                        NaN   \n",
       "admission_source_birth                         NaN                        NaN   \n",
       "admission_source_surgery                 -0.000073                  -0.000039   \n",
       "readmitted                               -0.007144                   0.001593   \n",
       "\n",
       "                            admission_source_normdel  admission_source_birth  \\\n",
       "admission_source_phyref                          NaN                     NaN   \n",
       "admission_source_cliref                          NaN                     NaN   \n",
       "admission_source_hmoref                          NaN                     NaN   \n",
       "admission_source_hos                             NaN                     NaN   \n",
       "admission_source_snf                             NaN                     NaN   \n",
       "admission_source_hlthcare                        NaN                     NaN   \n",
       "admission_source_emergency                       NaN                     NaN   \n",
       "admission_source_court                           NaN                     NaN   \n",
       "admission_source_critical                        NaN                     NaN   \n",
       "admission_source_normdel                         NaN                     NaN   \n",
       "admission_source_birth                           NaN                     NaN   \n",
       "admission_source_surgery                         NaN                     NaN   \n",
       "readmitted                                       NaN                     NaN   \n",
       "\n",
       "                            admission_source_surgery  readmitted  \n",
       "admission_source_phyref                    -0.003581   -0.026297  \n",
       "admission_source_cliref                    -0.000611   -0.018266  \n",
       "admission_source_hmoref                    -0.000249    0.001919  \n",
       "admission_source_hos                       -0.001055   -0.048833  \n",
       "admission_source_snf                       -0.000486   -0.008040  \n",
       "admission_source_hlthcare                  -0.000828   -0.047058  \n",
       "admission_source_emergency                 -0.006326    0.064934  \n",
       "admission_source_court                     -0.000073   -0.007144  \n",
       "admission_source_critical                  -0.000039    0.001593  \n",
       "admission_source_normdel                         NaN         NaN  \n",
       "admission_source_birth                           NaN         NaN  \n",
       "admission_source_surgery                    1.000000   -0.004230  \n",
       "readmitted                                 -0.004230    1.000000  "
      ]
     },
     "execution_count": 65,
     "metadata": {},
     "output_type": "execute_result"
    }
   ],
   "source": [
    "training_df.select( 'admission_source_phyref','admission_source_cliref',\n",
    " 'admission_source_hmoref','admission_source_hos','admission_source_snf',\n",
    " 'admission_source_hlthcare','admission_source_emergency', 'admission_source_court', 'admission_source_critical',\n",
    " 'admission_source_normdel', 'admission_source_birth', 'admission_source_surgery','readmitted').toPandas().corr()\n",
    "# Only admission_source_emergency is highly correlated"
   ]
  },
  {
   "cell_type": "code",
   "execution_count": 66,
   "metadata": {},
   "outputs": [
    {
     "data": {
      "text/html": [
       "<div>\n",
       "<style scoped>\n",
       "    .dataframe tbody tr th:only-of-type {\n",
       "        vertical-align: middle;\n",
       "    }\n",
       "\n",
       "    .dataframe tbody tr th {\n",
       "        vertical-align: top;\n",
       "    }\n",
       "\n",
       "    .dataframe thead th {\n",
       "        text-align: right;\n",
       "    }\n",
       "</style>\n",
       "<table border=\"1\" class=\"dataframe\">\n",
       "  <thead>\n",
       "    <tr style=\"text-align: right;\">\n",
       "      <th></th>\n",
       "      <th>change</th>\n",
       "      <th>diabetesMed</th>\n",
       "      <th>age</th>\n",
       "      <th>readmitted</th>\n",
       "    </tr>\n",
       "  </thead>\n",
       "  <tbody>\n",
       "    <tr>\n",
       "      <th>change</th>\n",
       "      <td>1.000000</td>\n",
       "      <td>0.510460</td>\n",
       "      <td>-0.041540</td>\n",
       "      <td>0.042863</td>\n",
       "    </tr>\n",
       "    <tr>\n",
       "      <th>diabetesMed</th>\n",
       "      <td>0.510460</td>\n",
       "      <td>1.000000</td>\n",
       "      <td>-0.018258</td>\n",
       "      <td>0.067572</td>\n",
       "    </tr>\n",
       "    <tr>\n",
       "      <th>age</th>\n",
       "      <td>-0.041540</td>\n",
       "      <td>-0.018258</td>\n",
       "      <td>1.000000</td>\n",
       "      <td>0.054428</td>\n",
       "    </tr>\n",
       "    <tr>\n",
       "      <th>readmitted</th>\n",
       "      <td>0.042863</td>\n",
       "      <td>0.067572</td>\n",
       "      <td>0.054428</td>\n",
       "      <td>1.000000</td>\n",
       "    </tr>\n",
       "  </tbody>\n",
       "</table>\n",
       "</div>"
      ],
      "text/plain": [
       "               change  diabetesMed       age  readmitted\n",
       "change       1.000000     0.510460 -0.041540    0.042863\n",
       "diabetesMed  0.510460     1.000000 -0.018258    0.067572\n",
       "age         -0.041540    -0.018258  1.000000    0.054428\n",
       "readmitted   0.042863     0.067572  0.054428    1.000000"
      ]
     },
     "execution_count": 66,
     "metadata": {},
     "output_type": "execute_result"
    }
   ],
   "source": [
    "training_df.select('change','diabetesMed','age','readmitted').toPandas().corr()\n",
    "# DiabetesMed and age are both significantly correlated with readmitted"
   ]
  },
  {
   "cell_type": "code",
   "execution_count": 68,
   "metadata": {},
   "outputs": [
    {
     "data": {
      "text/plain": [
       "<matplotlib.axes._subplots.AxesSubplot at 0x7f717eb2c9b0>"
      ]
     },
     "execution_count": 68,
     "metadata": {},
     "output_type": "execute_result"
    },
    {
     "data": {
      "image/png": "[encoded data removed]",
      "text/plain": [
       "<Figure size 432x288 with 2 Axes>"
      ]
     },
     "metadata": {},
     "output_type": "display_data"
    }
   ],
   "source": [
    "pd_corr = training_df.select('total_visits_log','time_in_hospital_log','number_emergency_log','num_procedures_log',\n",
    "                     'num_lab_procedures_log','num_medications_log','number_diagnoses','readmitted').toPandas()\n",
    "sns.heatmap(pd_corr.corr(),square=True,cmap='ocean_r')\n",
    "# All are somewhat correlated with readmitted"
   ]
  },
  {
   "cell_type": "code",
   "execution_count": 69,
   "metadata": {},
   "outputs": [
    {
     "data": {
      "text/html": [
       "<div>\n",
       "<style scoped>\n",
       "    .dataframe tbody tr th:only-of-type {\n",
       "        vertical-align: middle;\n",
       "    }\n",
       "\n",
       "    .dataframe tbody tr th {\n",
       "        vertical-align: top;\n",
       "    }\n",
       "\n",
       "    .dataframe thead th {\n",
       "        text-align: right;\n",
       "    }\n",
       "</style>\n",
       "<table border=\"1\" class=\"dataframe\">\n",
       "  <thead>\n",
       "    <tr style=\"text-align: right;\">\n",
       "      <th></th>\n",
       "      <th>repaglinide_index</th>\n",
       "      <th>nateglinide_index</th>\n",
       "      <th>chlorpropamide_index</th>\n",
       "      <th>acetohexamide_index</th>\n",
       "      <th>troglitazone_index</th>\n",
       "      <th>tolazamide_index</th>\n",
       "      <th>glyburide-metformin_index</th>\n",
       "      <th>glipizide-metformin_index</th>\n",
       "      <th>glimepiride-pioglitazone_index</th>\n",
       "      <th>metformin-rosiglitazone_index</th>\n",
       "      <th>metformin-pioglitazone_index</th>\n",
       "      <th>tolbutamide_index</th>\n",
       "      <th>pioglitazone_index</th>\n",
       "      <th>acarbose_index</th>\n",
       "      <th>insulin_index</th>\n",
       "      <th>miglitol_index</th>\n",
       "      <th>readmitted</th>\n",
       "    </tr>\n",
       "  </thead>\n",
       "  <tbody>\n",
       "    <tr>\n",
       "      <th>repaglinide_index</th>\n",
       "      <td>1.000000</td>\n",
       "      <td>0.001583</td>\n",
       "      <td>-0.003190</td>\n",
       "      <td>-0.000591</td>\n",
       "      <td>-0.000836</td>\n",
       "      <td>-0.002437</td>\n",
       "      <td>-0.005756</td>\n",
       "      <td>-0.001182</td>\n",
       "      <td>NaN</td>\n",
       "      <td>NaN</td>\n",
       "      <td>-0.000591</td>\n",
       "      <td>-0.001447</td>\n",
       "      <td>0.022982</td>\n",
       "      <td>0.027448</td>\n",
       "      <td>0.018487</td>\n",
       "      <td>0.018550</td>\n",
       "      <td>0.018150</td>\n",
       "    </tr>\n",
       "    <tr>\n",
       "      <th>nateglinide_index</th>\n",
       "      <td>0.001583</td>\n",
       "      <td>1.000000</td>\n",
       "      <td>-0.002465</td>\n",
       "      <td>-0.000456</td>\n",
       "      <td>-0.000646</td>\n",
       "      <td>-0.001883</td>\n",
       "      <td>-0.004547</td>\n",
       "      <td>-0.000913</td>\n",
       "      <td>NaN</td>\n",
       "      <td>NaN</td>\n",
       "      <td>-0.000456</td>\n",
       "      <td>-0.001118</td>\n",
       "      <td>0.038207</td>\n",
       "      <td>0.000546</td>\n",
       "      <td>0.004171</td>\n",
       "      <td>0.013822</td>\n",
       "      <td>0.007887</td>\n",
       "    </tr>\n",
       "    <tr>\n",
       "      <th>chlorpropamide_index</th>\n",
       "      <td>-0.003190</td>\n",
       "      <td>-0.002465</td>\n",
       "      <td>1.000000</td>\n",
       "      <td>-0.000148</td>\n",
       "      <td>-0.000209</td>\n",
       "      <td>-0.000611</td>\n",
       "      <td>-0.002454</td>\n",
       "      <td>-0.000296</td>\n",
       "      <td>NaN</td>\n",
       "      <td>NaN</td>\n",
       "      <td>-0.000148</td>\n",
       "      <td>-0.000363</td>\n",
       "      <td>-0.007702</td>\n",
       "      <td>-0.001432</td>\n",
       "      <td>-0.012726</td>\n",
       "      <td>-0.000513</td>\n",
       "      <td>0.000609</td>\n",
       "    </tr>\n",
       "    <tr>\n",
       "      <th>acetohexamide_index</th>\n",
       "      <td>-0.000591</td>\n",
       "      <td>-0.000456</td>\n",
       "      <td>-0.000148</td>\n",
       "      <td>1.000000</td>\n",
       "      <td>-0.000039</td>\n",
       "      <td>-0.000113</td>\n",
       "      <td>-0.000454</td>\n",
       "      <td>-0.000055</td>\n",
       "      <td>NaN</td>\n",
       "      <td>NaN</td>\n",
       "      <td>-0.000027</td>\n",
       "      <td>-0.000067</td>\n",
       "      <td>-0.001427</td>\n",
       "      <td>-0.000265</td>\n",
       "      <td>0.000928</td>\n",
       "      <td>-0.000095</td>\n",
       "      <td>0.006483</td>\n",
       "    </tr>\n",
       "    <tr>\n",
       "      <th>troglitazone_index</th>\n",
       "      <td>-0.000836</td>\n",
       "      <td>-0.000646</td>\n",
       "      <td>-0.000209</td>\n",
       "      <td>-0.000039</td>\n",
       "      <td>1.000000</td>\n",
       "      <td>-0.000160</td>\n",
       "      <td>-0.000643</td>\n",
       "      <td>-0.000078</td>\n",
       "      <td>NaN</td>\n",
       "      <td>NaN</td>\n",
       "      <td>-0.000039</td>\n",
       "      <td>-0.000095</td>\n",
       "      <td>-0.002018</td>\n",
       "      <td>-0.000375</td>\n",
       "      <td>0.008786</td>\n",
       "      <td>-0.000134</td>\n",
       "      <td>0.001593</td>\n",
       "    </tr>\n",
       "    <tr>\n",
       "      <th>tolazamide_index</th>\n",
       "      <td>-0.002437</td>\n",
       "      <td>-0.001883</td>\n",
       "      <td>-0.000611</td>\n",
       "      <td>-0.000113</td>\n",
       "      <td>-0.000160</td>\n",
       "      <td>1.000000</td>\n",
       "      <td>-0.001874</td>\n",
       "      <td>-0.000226</td>\n",
       "      <td>NaN</td>\n",
       "      <td>NaN</td>\n",
       "      <td>-0.000113</td>\n",
       "      <td>-0.000277</td>\n",
       "      <td>-0.001482</td>\n",
       "      <td>-0.001093</td>\n",
       "      <td>-0.011557</td>\n",
       "      <td>-0.000392</td>\n",
       "      <td>-0.001853</td>\n",
       "    </tr>\n",
       "    <tr>\n",
       "      <th>glyburide-metformin_index</th>\n",
       "      <td>-0.005756</td>\n",
       "      <td>-0.004547</td>\n",
       "      <td>-0.002454</td>\n",
       "      <td>-0.000454</td>\n",
       "      <td>-0.000643</td>\n",
       "      <td>-0.001874</td>\n",
       "      <td>1.000000</td>\n",
       "      <td>0.055650</td>\n",
       "      <td>NaN</td>\n",
       "      <td>NaN</td>\n",
       "      <td>-0.000454</td>\n",
       "      <td>-0.001113</td>\n",
       "      <td>0.027668</td>\n",
       "      <td>0.011380</td>\n",
       "      <td>0.010597</td>\n",
       "      <td>-0.001574</td>\n",
       "      <td>-0.001634</td>\n",
       "    </tr>\n",
       "    <tr>\n",
       "      <th>glipizide-metformin_index</th>\n",
       "      <td>-0.001182</td>\n",
       "      <td>-0.000913</td>\n",
       "      <td>-0.000296</td>\n",
       "      <td>-0.000055</td>\n",
       "      <td>-0.000078</td>\n",
       "      <td>-0.000226</td>\n",
       "      <td>0.055650</td>\n",
       "      <td>1.000000</td>\n",
       "      <td>NaN</td>\n",
       "      <td>NaN</td>\n",
       "      <td>-0.000055</td>\n",
       "      <td>-0.000134</td>\n",
       "      <td>-0.002853</td>\n",
       "      <td>-0.000530</td>\n",
       "      <td>0.001856</td>\n",
       "      <td>-0.000190</td>\n",
       "      <td>0.002253</td>\n",
       "    </tr>\n",
       "    <tr>\n",
       "      <th>glimepiride-pioglitazone_index</th>\n",
       "      <td>NaN</td>\n",
       "      <td>NaN</td>\n",
       "      <td>NaN</td>\n",
       "      <td>NaN</td>\n",
       "      <td>NaN</td>\n",
       "      <td>NaN</td>\n",
       "      <td>NaN</td>\n",
       "      <td>NaN</td>\n",
       "      <td>NaN</td>\n",
       "      <td>NaN</td>\n",
       "      <td>NaN</td>\n",
       "      <td>NaN</td>\n",
       "      <td>NaN</td>\n",
       "      <td>NaN</td>\n",
       "      <td>NaN</td>\n",
       "      <td>NaN</td>\n",
       "      <td>NaN</td>\n",
       "    </tr>\n",
       "    <tr>\n",
       "      <th>metformin-rosiglitazone_index</th>\n",
       "      <td>NaN</td>\n",
       "      <td>NaN</td>\n",
       "      <td>NaN</td>\n",
       "      <td>NaN</td>\n",
       "      <td>NaN</td>\n",
       "      <td>NaN</td>\n",
       "      <td>NaN</td>\n",
       "      <td>NaN</td>\n",
       "      <td>NaN</td>\n",
       "      <td>NaN</td>\n",
       "      <td>NaN</td>\n",
       "      <td>NaN</td>\n",
       "      <td>NaN</td>\n",
       "      <td>NaN</td>\n",
       "      <td>NaN</td>\n",
       "      <td>NaN</td>\n",
       "      <td>NaN</td>\n",
       "    </tr>\n",
       "    <tr>\n",
       "      <th>metformin-pioglitazone_index</th>\n",
       "      <td>-0.000591</td>\n",
       "      <td>-0.000456</td>\n",
       "      <td>-0.000148</td>\n",
       "      <td>-0.000027</td>\n",
       "      <td>-0.000039</td>\n",
       "      <td>-0.000113</td>\n",
       "      <td>-0.000454</td>\n",
       "      <td>-0.000055</td>\n",
       "      <td>NaN</td>\n",
       "      <td>NaN</td>\n",
       "      <td>1.000000</td>\n",
       "      <td>-0.000067</td>\n",
       "      <td>0.016718</td>\n",
       "      <td>-0.000265</td>\n",
       "      <td>0.000928</td>\n",
       "      <td>-0.000095</td>\n",
       "      <td>-0.004230</td>\n",
       "    </tr>\n",
       "    <tr>\n",
       "      <th>tolbutamide_index</th>\n",
       "      <td>-0.001447</td>\n",
       "      <td>-0.001118</td>\n",
       "      <td>-0.000363</td>\n",
       "      <td>-0.000067</td>\n",
       "      <td>-0.000095</td>\n",
       "      <td>-0.000277</td>\n",
       "      <td>-0.001113</td>\n",
       "      <td>-0.000134</td>\n",
       "      <td>NaN</td>\n",
       "      <td>NaN</td>\n",
       "      <td>-0.000067</td>\n",
       "      <td>1.000000</td>\n",
       "      <td>-0.003495</td>\n",
       "      <td>-0.000650</td>\n",
       "      <td>-0.008515</td>\n",
       "      <td>-0.000233</td>\n",
       "      <td>-0.001615</td>\n",
       "    </tr>\n",
       "    <tr>\n",
       "      <th>pioglitazone_index</th>\n",
       "      <td>0.022982</td>\n",
       "      <td>0.038207</td>\n",
       "      <td>-0.007702</td>\n",
       "      <td>-0.001427</td>\n",
       "      <td>-0.002018</td>\n",
       "      <td>-0.001482</td>\n",
       "      <td>0.027668</td>\n",
       "      <td>-0.002853</td>\n",
       "      <td>NaN</td>\n",
       "      <td>NaN</td>\n",
       "      <td>0.016718</td>\n",
       "      <td>-0.003495</td>\n",
       "      <td>1.000000</td>\n",
       "      <td>0.008136</td>\n",
       "      <td>0.019705</td>\n",
       "      <td>0.000296</td>\n",
       "      <td>0.022140</td>\n",
       "    </tr>\n",
       "    <tr>\n",
       "      <th>acarbose_index</th>\n",
       "      <td>0.027448</td>\n",
       "      <td>0.000546</td>\n",
       "      <td>-0.001432</td>\n",
       "      <td>-0.000265</td>\n",
       "      <td>-0.000375</td>\n",
       "      <td>-0.001093</td>\n",
       "      <td>0.011380</td>\n",
       "      <td>-0.000530</td>\n",
       "      <td>NaN</td>\n",
       "      <td>NaN</td>\n",
       "      <td>-0.000265</td>\n",
       "      <td>-0.000650</td>\n",
       "      <td>0.008136</td>\n",
       "      <td>1.000000</td>\n",
       "      <td>-0.005766</td>\n",
       "      <td>-0.000919</td>\n",
       "      <td>0.011885</td>\n",
       "    </tr>\n",
       "    <tr>\n",
       "      <th>insulin_index</th>\n",
       "      <td>0.018487</td>\n",
       "      <td>0.004171</td>\n",
       "      <td>-0.012726</td>\n",
       "      <td>0.000928</td>\n",
       "      <td>0.008786</td>\n",
       "      <td>-0.011557</td>\n",
       "      <td>0.010597</td>\n",
       "      <td>0.001856</td>\n",
       "      <td>NaN</td>\n",
       "      <td>NaN</td>\n",
       "      <td>0.000928</td>\n",
       "      <td>-0.008515</td>\n",
       "      <td>0.019705</td>\n",
       "      <td>-0.005766</td>\n",
       "      <td>1.000000</td>\n",
       "      <td>-0.002888</td>\n",
       "      <td>0.045164</td>\n",
       "    </tr>\n",
       "    <tr>\n",
       "      <th>miglitol_index</th>\n",
       "      <td>0.018550</td>\n",
       "      <td>0.013822</td>\n",
       "      <td>-0.000513</td>\n",
       "      <td>-0.000095</td>\n",
       "      <td>-0.000134</td>\n",
       "      <td>-0.000392</td>\n",
       "      <td>-0.001574</td>\n",
       "      <td>-0.000190</td>\n",
       "      <td>NaN</td>\n",
       "      <td>NaN</td>\n",
       "      <td>-0.000095</td>\n",
       "      <td>-0.000233</td>\n",
       "      <td>0.000296</td>\n",
       "      <td>-0.000919</td>\n",
       "      <td>-0.002888</td>\n",
       "      <td>1.000000</td>\n",
       "      <td>0.013181</td>\n",
       "    </tr>\n",
       "    <tr>\n",
       "      <th>readmitted</th>\n",
       "      <td>0.018150</td>\n",
       "      <td>0.007887</td>\n",
       "      <td>0.000609</td>\n",
       "      <td>0.006483</td>\n",
       "      <td>0.001593</td>\n",
       "      <td>-0.001853</td>\n",
       "      <td>-0.001634</td>\n",
       "      <td>0.002253</td>\n",
       "      <td>NaN</td>\n",
       "      <td>NaN</td>\n",
       "      <td>-0.004230</td>\n",
       "      <td>-0.001615</td>\n",
       "      <td>0.022140</td>\n",
       "      <td>0.011885</td>\n",
       "      <td>0.045164</td>\n",
       "      <td>0.013181</td>\n",
       "      <td>1.000000</td>\n",
       "    </tr>\n",
       "  </tbody>\n",
       "</table>\n",
       "</div>"
      ],
      "text/plain": [
       "                                repaglinide_index  nateglinide_index  \\\n",
       "repaglinide_index                        1.000000           0.001583   \n",
       "nateglinide_index                        0.001583           1.000000   \n",
       "chlorpropamide_index                    -0.003190          -0.002465   \n",
       "acetohexamide_index                     -0.000591          -0.000456   \n",
       "troglitazone_index                      -0.000836          -0.000646   \n",
       "tolazamide_index                        -0.002437          -0.001883   \n",
       "glyburide-metformin_index               -0.005756          -0.004547   \n",
       "glipizide-metformin_index               -0.001182          -0.000913   \n",
       "glimepiride-pioglitazone_index                NaN                NaN   \n",
       "metformin-rosiglitazone_index                 NaN                NaN   \n",
       "metformin-pioglitazone_index            -0.000591          -0.000456   \n",
       "tolbutamide_index                       -0.001447          -0.001118   \n",
       "pioglitazone_index                       0.022982           0.038207   \n",
       "acarbose_index                           0.027448           0.000546   \n",
       "insulin_index                            0.018487           0.004171   \n",
       "miglitol_index                           0.018550           0.013822   \n",
       "readmitted                               0.018150           0.007887   \n",
       "\n",
       "                                chlorpropamide_index  acetohexamide_index  \\\n",
       "repaglinide_index                          -0.003190            -0.000591   \n",
       "nateglinide_index                          -0.002465            -0.000456   \n",
       "chlorpropamide_index                        1.000000            -0.000148   \n",
       "acetohexamide_index                        -0.000148             1.000000   \n",
       "troglitazone_index                         -0.000209            -0.000039   \n",
       "tolazamide_index                           -0.000611            -0.000113   \n",
       "glyburide-metformin_index                  -0.002454            -0.000454   \n",
       "glipizide-metformin_index                  -0.000296            -0.000055   \n",
       "glimepiride-pioglitazone_index                   NaN                  NaN   \n",
       "metformin-rosiglitazone_index                    NaN                  NaN   \n",
       "metformin-pioglitazone_index               -0.000148            -0.000027   \n",
       "tolbutamide_index                          -0.000363            -0.000067   \n",
       "pioglitazone_index                         -0.007702            -0.001427   \n",
       "acarbose_index                             -0.001432            -0.000265   \n",
       "insulin_index                              -0.012726             0.000928   \n",
       "miglitol_index                             -0.000513            -0.000095   \n",
       "readmitted                                  0.000609             0.006483   \n",
       "\n",
       "                                troglitazone_index  tolazamide_index  \\\n",
       "repaglinide_index                        -0.000836         -0.002437   \n",
       "nateglinide_index                        -0.000646         -0.001883   \n",
       "chlorpropamide_index                     -0.000209         -0.000611   \n",
       "acetohexamide_index                      -0.000039         -0.000113   \n",
       "troglitazone_index                        1.000000         -0.000160   \n",
       "tolazamide_index                         -0.000160          1.000000   \n",
       "glyburide-metformin_index                -0.000643         -0.001874   \n",
       "glipizide-metformin_index                -0.000078         -0.000226   \n",
       "glimepiride-pioglitazone_index                 NaN               NaN   \n",
       "metformin-rosiglitazone_index                  NaN               NaN   \n",
       "metformin-pioglitazone_index             -0.000039         -0.000113   \n",
       "tolbutamide_index                        -0.000095         -0.000277   \n",
       "pioglitazone_index                       -0.002018         -0.001482   \n",
       "acarbose_index                           -0.000375         -0.001093   \n",
       "insulin_index                             0.008786         -0.011557   \n",
       "miglitol_index                           -0.000134         -0.000392   \n",
       "readmitted                                0.001593         -0.001853   \n",
       "\n",
       "                                glyburide-metformin_index  \\\n",
       "repaglinide_index                               -0.005756   \n",
       "nateglinide_index                               -0.004547   \n",
       "chlorpropamide_index                            -0.002454   \n",
       "acetohexamide_index                             -0.000454   \n",
       "troglitazone_index                              -0.000643   \n",
       "tolazamide_index                                -0.001874   \n",
       "glyburide-metformin_index                        1.000000   \n",
       "glipizide-metformin_index                        0.055650   \n",
       "glimepiride-pioglitazone_index                        NaN   \n",
       "metformin-rosiglitazone_index                         NaN   \n",
       "metformin-pioglitazone_index                    -0.000454   \n",
       "tolbutamide_index                               -0.001113   \n",
       "pioglitazone_index                               0.027668   \n",
       "acarbose_index                                   0.011380   \n",
       "insulin_index                                    0.010597   \n",
       "miglitol_index                                  -0.001574   \n",
       "readmitted                                      -0.001634   \n",
       "\n",
       "                                glipizide-metformin_index  \\\n",
       "repaglinide_index                               -0.001182   \n",
       "nateglinide_index                               -0.000913   \n",
       "chlorpropamide_index                            -0.000296   \n",
       "acetohexamide_index                             -0.000055   \n",
       "troglitazone_index                              -0.000078   \n",
       "tolazamide_index                                -0.000226   \n",
       "glyburide-metformin_index                        0.055650   \n",
       "glipizide-metformin_index                        1.000000   \n",
       "glimepiride-pioglitazone_index                        NaN   \n",
       "metformin-rosiglitazone_index                         NaN   \n",
       "metformin-pioglitazone_index                    -0.000055   \n",
       "tolbutamide_index                               -0.000134   \n",
       "pioglitazone_index                              -0.002853   \n",
       "acarbose_index                                  -0.000530   \n",
       "insulin_index                                    0.001856   \n",
       "miglitol_index                                  -0.000190   \n",
       "readmitted                                       0.002253   \n",
       "\n",
       "                                glimepiride-pioglitazone_index  \\\n",
       "repaglinide_index                                          NaN   \n",
       "nateglinide_index                                          NaN   \n",
       "chlorpropamide_index                                       NaN   \n",
       "acetohexamide_index                                        NaN   \n",
       "troglitazone_index                                         NaN   \n",
       "tolazamide_index                                           NaN   \n",
       "glyburide-metformin_index                                  NaN   \n",
       "glipizide-metformin_index                                  NaN   \n",
       "glimepiride-pioglitazone_index                             NaN   \n",
       "metformin-rosiglitazone_index                              NaN   \n",
       "metformin-pioglitazone_index                               NaN   \n",
       "tolbutamide_index                                          NaN   \n",
       "pioglitazone_index                                         NaN   \n",
       "acarbose_index                                             NaN   \n",
       "insulin_index                                              NaN   \n",
       "miglitol_index                                             NaN   \n",
       "readmitted                                                 NaN   \n",
       "\n",
       "                                metformin-rosiglitazone_index  \\\n",
       "repaglinide_index                                         NaN   \n",
       "nateglinide_index                                         NaN   \n",
       "chlorpropamide_index                                      NaN   \n",
       "acetohexamide_index                                       NaN   \n",
       "troglitazone_index                                        NaN   \n",
       "tolazamide_index                                          NaN   \n",
       "glyburide-metformin_index                                 NaN   \n",
       "glipizide-metformin_index                                 NaN   \n",
       "glimepiride-pioglitazone_index                            NaN   \n",
       "metformin-rosiglitazone_index                             NaN   \n",
       "metformin-pioglitazone_index                              NaN   \n",
       "tolbutamide_index                                         NaN   \n",
       "pioglitazone_index                                        NaN   \n",
       "acarbose_index                                            NaN   \n",
       "insulin_index                                             NaN   \n",
       "miglitol_index                                            NaN   \n",
       "readmitted                                                NaN   \n",
       "\n",
       "                                metformin-pioglitazone_index  \\\n",
       "repaglinide_index                                  -0.000591   \n",
       "nateglinide_index                                  -0.000456   \n",
       "chlorpropamide_index                               -0.000148   \n",
       "acetohexamide_index                                -0.000027   \n",
       "troglitazone_index                                 -0.000039   \n",
       "tolazamide_index                                   -0.000113   \n",
       "glyburide-metformin_index                          -0.000454   \n",
       "glipizide-metformin_index                          -0.000055   \n",
       "glimepiride-pioglitazone_index                           NaN   \n",
       "metformin-rosiglitazone_index                            NaN   \n",
       "metformin-pioglitazone_index                        1.000000   \n",
       "tolbutamide_index                                  -0.000067   \n",
       "pioglitazone_index                                  0.016718   \n",
       "acarbose_index                                     -0.000265   \n",
       "insulin_index                                       0.000928   \n",
       "miglitol_index                                     -0.000095   \n",
       "readmitted                                         -0.004230   \n",
       "\n",
       "                                tolbutamide_index  pioglitazone_index  \\\n",
       "repaglinide_index                       -0.001447            0.022982   \n",
       "nateglinide_index                       -0.001118            0.038207   \n",
       "chlorpropamide_index                    -0.000363           -0.007702   \n",
       "acetohexamide_index                     -0.000067           -0.001427   \n",
       "troglitazone_index                      -0.000095           -0.002018   \n",
       "tolazamide_index                        -0.000277           -0.001482   \n",
       "glyburide-metformin_index               -0.001113            0.027668   \n",
       "glipizide-metformin_index               -0.000134           -0.002853   \n",
       "glimepiride-pioglitazone_index                NaN                 NaN   \n",
       "metformin-rosiglitazone_index                 NaN                 NaN   \n",
       "metformin-pioglitazone_index            -0.000067            0.016718   \n",
       "tolbutamide_index                        1.000000           -0.003495   \n",
       "pioglitazone_index                      -0.003495            1.000000   \n",
       "acarbose_index                          -0.000650            0.008136   \n",
       "insulin_index                           -0.008515            0.019705   \n",
       "miglitol_index                          -0.000233            0.000296   \n",
       "readmitted                              -0.001615            0.022140   \n",
       "\n",
       "                                acarbose_index  insulin_index  miglitol_index  \\\n",
       "repaglinide_index                     0.027448       0.018487        0.018550   \n",
       "nateglinide_index                     0.000546       0.004171        0.013822   \n",
       "chlorpropamide_index                 -0.001432      -0.012726       -0.000513   \n",
       "acetohexamide_index                  -0.000265       0.000928       -0.000095   \n",
       "troglitazone_index                   -0.000375       0.008786       -0.000134   \n",
       "tolazamide_index                     -0.001093      -0.011557       -0.000392   \n",
       "glyburide-metformin_index             0.011380       0.010597       -0.001574   \n",
       "glipizide-metformin_index            -0.000530       0.001856       -0.000190   \n",
       "glimepiride-pioglitazone_index             NaN            NaN             NaN   \n",
       "metformin-rosiglitazone_index              NaN            NaN             NaN   \n",
       "metformin-pioglitazone_index         -0.000265       0.000928       -0.000095   \n",
       "tolbutamide_index                    -0.000650      -0.008515       -0.000233   \n",
       "pioglitazone_index                    0.008136       0.019705        0.000296   \n",
       "acarbose_index                        1.000000      -0.005766       -0.000919   \n",
       "insulin_index                        -0.005766       1.000000       -0.002888   \n",
       "miglitol_index                       -0.000919      -0.002888        1.000000   \n",
       "readmitted                            0.011885       0.045164        0.013181   \n",
       "\n",
       "                                readmitted  \n",
       "repaglinide_index                 0.018150  \n",
       "nateglinide_index                 0.007887  \n",
       "chlorpropamide_index              0.000609  \n",
       "acetohexamide_index               0.006483  \n",
       "troglitazone_index                0.001593  \n",
       "tolazamide_index                 -0.001853  \n",
       "glyburide-metformin_index        -0.001634  \n",
       "glipizide-metformin_index         0.002253  \n",
       "glimepiride-pioglitazone_index         NaN  \n",
       "metformin-rosiglitazone_index          NaN  \n",
       "metformin-pioglitazone_index     -0.004230  \n",
       "tolbutamide_index                -0.001615  \n",
       "pioglitazone_index                0.022140  \n",
       "acarbose_index                    0.011885  \n",
       "insulin_index                     0.045164  \n",
       "miglitol_index                    0.013181  \n",
       "readmitted                        1.000000  "
      ]
     },
     "execution_count": 69,
     "metadata": {},
     "output_type": "execute_result"
    }
   ],
   "source": [
    "training_df.select('repaglinide_index',\n",
    " 'nateglinide_index',\n",
    " 'chlorpropamide_index','acetohexamide_index',\n",
    " 'troglitazone_index',\n",
    " 'tolazamide_index',\n",
    " 'glyburide-metformin_index',\n",
    " 'glipizide-metformin_index',\n",
    " 'glimepiride-pioglitazone_index',\n",
    " 'metformin-rosiglitazone_index',\n",
    " 'metformin-pioglitazone_index',\n",
    " 'tolbutamide_index',\n",
    " 'pioglitazone_index','acarbose_index',\n",
    " 'insulin_index','miglitol_index','readmitted').toPandas().corr()\n",
    "# Only insulin_index is significantly correlated with readmitted "
   ]
  },
  {
   "cell_type": "code",
   "execution_count": 70,
   "metadata": {},
   "outputs": [
    {
     "data": {
      "text/html": [
       "<div>\n",
       "<style scoped>\n",
       "    .dataframe tbody tr th:only-of-type {\n",
       "        vertical-align: middle;\n",
       "    }\n",
       "\n",
       "    .dataframe tbody tr th {\n",
       "        vertical-align: top;\n",
       "    }\n",
       "\n",
       "    .dataframe thead th {\n",
       "        text-align: right;\n",
       "    }\n",
       "</style>\n",
       "<table border=\"1\" class=\"dataframe\">\n",
       "  <thead>\n",
       "    <tr style=\"text-align: right;\">\n",
       "      <th></th>\n",
       "      <th>diag1_Circulatory</th>\n",
       "      <th>diag1_Respiratory</th>\n",
       "      <th>diag1_Digestive</th>\n",
       "      <th>diag1_Diabetes</th>\n",
       "      <th>diag1_Injury</th>\n",
       "      <th>diag1_Musculoskeletal</th>\n",
       "      <th>diag1_Genitourinary</th>\n",
       "      <th>diag1_Neoplasms</th>\n",
       "      <th>diag2_Circulatory</th>\n",
       "      <th>diag2_Respiratory</th>\n",
       "      <th>...</th>\n",
       "      <th>diag2_Neoplasms</th>\n",
       "      <th>diag3_Circulatory</th>\n",
       "      <th>diag3_Respiratory</th>\n",
       "      <th>diag3_Digestive</th>\n",
       "      <th>diag3_Diabetes</th>\n",
       "      <th>diag3_Injury</th>\n",
       "      <th>diag3_Musculoskeletal</th>\n",
       "      <th>diag3_Genitourinary</th>\n",
       "      <th>diag3_Neoplasms</th>\n",
       "      <th>readmitted</th>\n",
       "    </tr>\n",
       "  </thead>\n",
       "  <tbody>\n",
       "    <tr>\n",
       "      <th>diag1_Circulatory</th>\n",
       "      <td>1.000000</td>\n",
       "      <td>-0.267289</td>\n",
       "      <td>-0.213074</td>\n",
       "      <td>-0.192994</td>\n",
       "      <td>-0.180409</td>\n",
       "      <td>-0.160187</td>\n",
       "      <td>-0.155148</td>\n",
       "      <td>-0.269726</td>\n",
       "      <td>0.310086</td>\n",
       "      <td>0.004083</td>\n",
       "      <td>...</td>\n",
       "      <td>-0.152114</td>\n",
       "      <td>0.172684</td>\n",
       "      <td>0.012987</td>\n",
       "      <td>-0.076862</td>\n",
       "      <td>0.020179</td>\n",
       "      <td>-0.027129</td>\n",
       "      <td>-0.050681</td>\n",
       "      <td>-0.023035</td>\n",
       "      <td>-0.087048</td>\n",
       "      <td>0.026538</td>\n",
       "    </tr>\n",
       "    <tr>\n",
       "      <th>diag1_Respiratory</th>\n",
       "      <td>-0.267289</td>\n",
       "      <td>1.000000</td>\n",
       "      <td>-0.127028</td>\n",
       "      <td>-0.115057</td>\n",
       "      <td>-0.107554</td>\n",
       "      <td>-0.095498</td>\n",
       "      <td>-0.092494</td>\n",
       "      <td>-0.160802</td>\n",
       "      <td>-0.005186</td>\n",
       "      <td>0.162598</td>\n",
       "      <td>...</td>\n",
       "      <td>-0.032944</td>\n",
       "      <td>0.016040</td>\n",
       "      <td>0.071775</td>\n",
       "      <td>-0.027054</td>\n",
       "      <td>0.025360</td>\n",
       "      <td>-0.036152</td>\n",
       "      <td>-0.013914</td>\n",
       "      <td>-0.022183</td>\n",
       "      <td>-0.013542</td>\n",
       "      <td>0.017092</td>\n",
       "    </tr>\n",
       "    <tr>\n",
       "      <th>diag1_Digestive</th>\n",
       "      <td>-0.213074</td>\n",
       "      <td>-0.127028</td>\n",
       "      <td>1.000000</td>\n",
       "      <td>-0.091719</td>\n",
       "      <td>-0.085739</td>\n",
       "      <td>-0.076128</td>\n",
       "      <td>-0.073734</td>\n",
       "      <td>-0.128186</td>\n",
       "      <td>-0.092842</td>\n",
       "      <td>-0.038709</td>\n",
       "      <td>...</td>\n",
       "      <td>-0.003510</td>\n",
       "      <td>-0.049292</td>\n",
       "      <td>-0.012936</td>\n",
       "      <td>0.162993</td>\n",
       "      <td>0.011750</td>\n",
       "      <td>-0.025347</td>\n",
       "      <td>-0.023675</td>\n",
       "      <td>-0.013752</td>\n",
       "      <td>-0.005330</td>\n",
       "      <td>-0.004855</td>\n",
       "    </tr>\n",
       "    <tr>\n",
       "      <th>diag1_Diabetes</th>\n",
       "      <td>-0.192994</td>\n",
       "      <td>-0.115057</td>\n",
       "      <td>-0.091719</td>\n",
       "      <td>1.000000</td>\n",
       "      <td>-0.077659</td>\n",
       "      <td>-0.068954</td>\n",
       "      <td>-0.066785</td>\n",
       "      <td>-0.116106</td>\n",
       "      <td>-0.062210</td>\n",
       "      <td>-0.040673</td>\n",
       "      <td>...</td>\n",
       "      <td>0.188850</td>\n",
       "      <td>-0.052228</td>\n",
       "      <td>-0.027300</td>\n",
       "      <td>0.008741</td>\n",
       "      <td>-0.112353</td>\n",
       "      <td>-0.013384</td>\n",
       "      <td>0.049983</td>\n",
       "      <td>0.008623</td>\n",
       "      <td>0.133628</td>\n",
       "      <td>0.020352</td>\n",
       "    </tr>\n",
       "    <tr>\n",
       "      <th>diag1_Injury</th>\n",
       "      <td>-0.180409</td>\n",
       "      <td>-0.107554</td>\n",
       "      <td>-0.085739</td>\n",
       "      <td>-0.077659</td>\n",
       "      <td>1.000000</td>\n",
       "      <td>-0.064457</td>\n",
       "      <td>-0.062430</td>\n",
       "      <td>-0.108535</td>\n",
       "      <td>-0.049642</td>\n",
       "      <td>-0.041749</td>\n",
       "      <td>...</td>\n",
       "      <td>-0.017651</td>\n",
       "      <td>-0.028294</td>\n",
       "      <td>-0.019895</td>\n",
       "      <td>-0.028162</td>\n",
       "      <td>-0.014202</td>\n",
       "      <td>0.129804</td>\n",
       "      <td>0.000604</td>\n",
       "      <td>-0.013237</td>\n",
       "      <td>-0.024867</td>\n",
       "      <td>-0.008161</td>\n",
       "    </tr>\n",
       "    <tr>\n",
       "      <th>diag1_Musculoskeletal</th>\n",
       "      <td>-0.160187</td>\n",
       "      <td>-0.095498</td>\n",
       "      <td>-0.076128</td>\n",
       "      <td>-0.068954</td>\n",
       "      <td>-0.064457</td>\n",
       "      <td>1.000000</td>\n",
       "      <td>-0.055432</td>\n",
       "      <td>-0.096369</td>\n",
       "      <td>-0.039834</td>\n",
       "      <td>-0.021318</td>\n",
       "      <td>...</td>\n",
       "      <td>-0.045316</td>\n",
       "      <td>-0.013762</td>\n",
       "      <td>-0.030262</td>\n",
       "      <td>-0.009820</td>\n",
       "      <td>0.053275</td>\n",
       "      <td>0.010697</td>\n",
       "      <td>0.108094</td>\n",
       "      <td>-0.025789</td>\n",
       "      <td>-0.028134</td>\n",
       "      <td>-0.022679</td>\n",
       "    </tr>\n",
       "    <tr>\n",
       "      <th>diag1_Genitourinary</th>\n",
       "      <td>-0.155148</td>\n",
       "      <td>-0.092494</td>\n",
       "      <td>-0.073734</td>\n",
       "      <td>-0.066785</td>\n",
       "      <td>-0.062430</td>\n",
       "      <td>-0.055432</td>\n",
       "      <td>1.000000</td>\n",
       "      <td>-0.093338</td>\n",
       "      <td>-0.071331</td>\n",
       "      <td>-0.036371</td>\n",
       "      <td>...</td>\n",
       "      <td>0.087512</td>\n",
       "      <td>-0.038514</td>\n",
       "      <td>-0.019846</td>\n",
       "      <td>-0.011716</td>\n",
       "      <td>-0.015679</td>\n",
       "      <td>-0.009515</td>\n",
       "      <td>-0.007795</td>\n",
       "      <td>0.096310</td>\n",
       "      <td>0.048748</td>\n",
       "      <td>-0.012672</td>\n",
       "    </tr>\n",
       "    <tr>\n",
       "      <th>diag1_Neoplasms</th>\n",
       "      <td>-0.269726</td>\n",
       "      <td>-0.160802</td>\n",
       "      <td>-0.128186</td>\n",
       "      <td>-0.116106</td>\n",
       "      <td>-0.108535</td>\n",
       "      <td>-0.096369</td>\n",
       "      <td>-0.093338</td>\n",
       "      <td>1.000000</td>\n",
       "      <td>-0.110072</td>\n",
       "      <td>-0.008054</td>\n",
       "      <td>...</td>\n",
       "      <td>0.089749</td>\n",
       "      <td>-0.065459</td>\n",
       "      <td>0.002132</td>\n",
       "      <td>0.016099</td>\n",
       "      <td>-0.002605</td>\n",
       "      <td>0.021731</td>\n",
       "      <td>-0.004302</td>\n",
       "      <td>0.036968</td>\n",
       "      <td>0.053630</td>\n",
       "      <td>-0.025299</td>\n",
       "    </tr>\n",
       "    <tr>\n",
       "      <th>diag2_Circulatory</th>\n",
       "      <td>0.310086</td>\n",
       "      <td>-0.005186</td>\n",
       "      <td>-0.092842</td>\n",
       "      <td>-0.062210</td>\n",
       "      <td>-0.049642</td>\n",
       "      <td>-0.039834</td>\n",
       "      <td>-0.071331</td>\n",
       "      <td>-0.110072</td>\n",
       "      <td>1.000000</td>\n",
       "      <td>-0.230295</td>\n",
       "      <td>...</td>\n",
       "      <td>-0.320131</td>\n",
       "      <td>0.099208</td>\n",
       "      <td>0.018354</td>\n",
       "      <td>-0.072908</td>\n",
       "      <td>0.091997</td>\n",
       "      <td>-0.024385</td>\n",
       "      <td>-0.042292</td>\n",
       "      <td>-0.010258</td>\n",
       "      <td>-0.084353</td>\n",
       "      <td>0.036300</td>\n",
       "    </tr>\n",
       "    <tr>\n",
       "      <th>diag2_Respiratory</th>\n",
       "      <td>0.004083</td>\n",
       "      <td>0.162598</td>\n",
       "      <td>-0.038709</td>\n",
       "      <td>-0.040673</td>\n",
       "      <td>-0.041749</td>\n",
       "      <td>-0.021318</td>\n",
       "      <td>-0.036371</td>\n",
       "      <td>-0.008054</td>\n",
       "      <td>-0.230295</td>\n",
       "      <td>1.000000</td>\n",
       "      <td>...</td>\n",
       "      <td>-0.158773</td>\n",
       "      <td>0.016385</td>\n",
       "      <td>0.069320</td>\n",
       "      <td>-0.017855</td>\n",
       "      <td>-0.005158</td>\n",
       "      <td>-0.007144</td>\n",
       "      <td>-0.008282</td>\n",
       "      <td>-0.006171</td>\n",
       "      <td>-0.013534</td>\n",
       "      <td>0.002584</td>\n",
       "    </tr>\n",
       "    <tr>\n",
       "      <th>diag2_Digestive</th>\n",
       "      <td>-0.100802</td>\n",
       "      <td>-0.038695</td>\n",
       "      <td>0.228848</td>\n",
       "      <td>0.008063</td>\n",
       "      <td>-0.021492</td>\n",
       "      <td>-0.027123</td>\n",
       "      <td>-0.020502</td>\n",
       "      <td>0.017266</td>\n",
       "      <td>-0.138966</td>\n",
       "      <td>-0.068922</td>\n",
       "      <td>...</td>\n",
       "      <td>-0.095808</td>\n",
       "      <td>-0.056347</td>\n",
       "      <td>-0.016660</td>\n",
       "      <td>0.140259</td>\n",
       "      <td>0.017274</td>\n",
       "      <td>-0.016142</td>\n",
       "      <td>-0.017245</td>\n",
       "      <td>-0.011568</td>\n",
       "      <td>-0.007068</td>\n",
       "      <td>-0.015167</td>\n",
       "    </tr>\n",
       "    <tr>\n",
       "      <th>diag2_Diabetes</th>\n",
       "      <td>-0.027100</td>\n",
       "      <td>0.032411</td>\n",
       "      <td>0.011857</td>\n",
       "      <td>-0.103009</td>\n",
       "      <td>-0.012086</td>\n",
       "      <td>0.056226</td>\n",
       "      <td>0.001463</td>\n",
       "      <td>0.020602</td>\n",
       "      <td>-0.263107</td>\n",
       "      <td>-0.130491</td>\n",
       "      <td>...</td>\n",
       "      <td>-0.181394</td>\n",
       "      <td>0.085537</td>\n",
       "      <td>-0.035676</td>\n",
       "      <td>-0.001146</td>\n",
       "      <td>-0.156275</td>\n",
       "      <td>-0.024003</td>\n",
       "      <td>0.019322</td>\n",
       "      <td>-0.016621</td>\n",
       "      <td>0.032180</td>\n",
       "      <td>-0.017053</td>\n",
       "    </tr>\n",
       "    <tr>\n",
       "      <th>diag2_Injury</th>\n",
       "      <td>-0.035876</td>\n",
       "      <td>-0.052829</td>\n",
       "      <td>-0.015153</td>\n",
       "      <td>-0.029708</td>\n",
       "      <td>0.171001</td>\n",
       "      <td>0.030811</td>\n",
       "      <td>-0.013659</td>\n",
       "      <td>0.010539</td>\n",
       "      <td>-0.111509</td>\n",
       "      <td>-0.055304</td>\n",
       "      <td>...</td>\n",
       "      <td>-0.076878</td>\n",
       "      <td>-0.031315</td>\n",
       "      <td>-0.006658</td>\n",
       "      <td>0.025893</td>\n",
       "      <td>-0.022951</td>\n",
       "      <td>0.128643</td>\n",
       "      <td>0.001000</td>\n",
       "      <td>0.009087</td>\n",
       "      <td>-0.035044</td>\n",
       "      <td>-0.019897</td>\n",
       "    </tr>\n",
       "    <tr>\n",
       "      <th>diag2_Musculoskeletal</th>\n",
       "      <td>-0.061265</td>\n",
       "      <td>-0.024132</td>\n",
       "      <td>-0.031688</td>\n",
       "      <td>0.044629</td>\n",
       "      <td>0.002900</td>\n",
       "      <td>0.157108</td>\n",
       "      <td>-0.016385</td>\n",
       "      <td>-0.015303</td>\n",
       "      <td>-0.092302</td>\n",
       "      <td>-0.045778</td>\n",
       "      <td>...</td>\n",
       "      <td>-0.063636</td>\n",
       "      <td>-0.027098</td>\n",
       "      <td>-0.013072</td>\n",
       "      <td>-0.012286</td>\n",
       "      <td>0.015164</td>\n",
       "      <td>-0.003981</td>\n",
       "      <td>0.131542</td>\n",
       "      <td>-0.012247</td>\n",
       "      <td>-0.006711</td>\n",
       "      <td>-0.011991</td>\n",
       "    </tr>\n",
       "    <tr>\n",
       "      <th>diag2_Genitourinary</th>\n",
       "      <td>-0.047173</td>\n",
       "      <td>-0.028658</td>\n",
       "      <td>-0.008588</td>\n",
       "      <td>0.004843</td>\n",
       "      <td>0.000751</td>\n",
       "      <td>-0.031311</td>\n",
       "      <td>0.099747</td>\n",
       "      <td>0.063891</td>\n",
       "      <td>-0.200222</td>\n",
       "      <td>-0.099302</td>\n",
       "      <td>...</td>\n",
       "      <td>-0.138039</td>\n",
       "      <td>-0.028599</td>\n",
       "      <td>-0.009059</td>\n",
       "      <td>-0.006053</td>\n",
       "      <td>-0.026725</td>\n",
       "      <td>0.002324</td>\n",
       "      <td>-0.008489</td>\n",
       "      <td>0.081817</td>\n",
       "      <td>0.038852</td>\n",
       "      <td>0.001589</td>\n",
       "    </tr>\n",
       "    <tr>\n",
       "      <th>diag2_Neoplasms</th>\n",
       "      <td>-0.152114</td>\n",
       "      <td>-0.032944</td>\n",
       "      <td>-0.003510</td>\n",
       "      <td>0.188850</td>\n",
       "      <td>-0.017651</td>\n",
       "      <td>-0.045316</td>\n",
       "      <td>0.087512</td>\n",
       "      <td>0.089749</td>\n",
       "      <td>-0.320131</td>\n",
       "      <td>-0.158773</td>\n",
       "      <td>...</td>\n",
       "      <td>1.000000</td>\n",
       "      <td>-0.095824</td>\n",
       "      <td>-0.001884</td>\n",
       "      <td>0.009952</td>\n",
       "      <td>0.006046</td>\n",
       "      <td>0.016849</td>\n",
       "      <td>-0.000104</td>\n",
       "      <td>0.010910</td>\n",
       "      <td>0.102307</td>\n",
       "      <td>0.007669</td>\n",
       "    </tr>\n",
       "    <tr>\n",
       "      <th>diag3_Circulatory</th>\n",
       "      <td>0.172684</td>\n",
       "      <td>0.016040</td>\n",
       "      <td>-0.049292</td>\n",
       "      <td>-0.052228</td>\n",
       "      <td>-0.028294</td>\n",
       "      <td>-0.013762</td>\n",
       "      <td>-0.038514</td>\n",
       "      <td>-0.065459</td>\n",
       "      <td>0.099208</td>\n",
       "      <td>0.016385</td>\n",
       "      <td>...</td>\n",
       "      <td>-0.095824</td>\n",
       "      <td>1.000000</td>\n",
       "      <td>-0.181600</td>\n",
       "      <td>-0.132698</td>\n",
       "      <td>-0.305639</td>\n",
       "      <td>-0.096578</td>\n",
       "      <td>-0.092227</td>\n",
       "      <td>-0.165946</td>\n",
       "      <td>-0.308058</td>\n",
       "      <td>0.027351</td>\n",
       "    </tr>\n",
       "    <tr>\n",
       "      <th>diag3_Respiratory</th>\n",
       "      <td>0.012987</td>\n",
       "      <td>0.071775</td>\n",
       "      <td>-0.012936</td>\n",
       "      <td>-0.027300</td>\n",
       "      <td>-0.019895</td>\n",
       "      <td>-0.030262</td>\n",
       "      <td>-0.019846</td>\n",
       "      <td>0.002132</td>\n",
       "      <td>0.018354</td>\n",
       "      <td>0.069320</td>\n",
       "      <td>...</td>\n",
       "      <td>-0.001884</td>\n",
       "      <td>-0.181600</td>\n",
       "      <td>1.000000</td>\n",
       "      <td>-0.055289</td>\n",
       "      <td>-0.127345</td>\n",
       "      <td>-0.040239</td>\n",
       "      <td>-0.038426</td>\n",
       "      <td>-0.069142</td>\n",
       "      <td>-0.128353</td>\n",
       "      <td>0.012539</td>\n",
       "    </tr>\n",
       "    <tr>\n",
       "      <th>diag3_Digestive</th>\n",
       "      <td>-0.076862</td>\n",
       "      <td>-0.027054</td>\n",
       "      <td>0.162993</td>\n",
       "      <td>0.008741</td>\n",
       "      <td>-0.028162</td>\n",
       "      <td>-0.009820</td>\n",
       "      <td>-0.011716</td>\n",
       "      <td>0.016099</td>\n",
       "      <td>-0.072908</td>\n",
       "      <td>-0.017855</td>\n",
       "      <td>...</td>\n",
       "      <td>0.009952</td>\n",
       "      <td>-0.132698</td>\n",
       "      <td>-0.055289</td>\n",
       "      <td>1.000000</td>\n",
       "      <td>-0.093053</td>\n",
       "      <td>-0.029404</td>\n",
       "      <td>-0.028079</td>\n",
       "      <td>-0.050523</td>\n",
       "      <td>-0.093790</td>\n",
       "      <td>-0.000621</td>\n",
       "    </tr>\n",
       "    <tr>\n",
       "      <th>diag3_Diabetes</th>\n",
       "      <td>0.020179</td>\n",
       "      <td>0.025360</td>\n",
       "      <td>0.011750</td>\n",
       "      <td>-0.112353</td>\n",
       "      <td>-0.014202</td>\n",
       "      <td>0.053275</td>\n",
       "      <td>-0.015679</td>\n",
       "      <td>-0.002605</td>\n",
       "      <td>0.091997</td>\n",
       "      <td>-0.005158</td>\n",
       "      <td>...</td>\n",
       "      <td>0.006046</td>\n",
       "      <td>-0.305639</td>\n",
       "      <td>-0.127345</td>\n",
       "      <td>-0.093053</td>\n",
       "      <td>1.000000</td>\n",
       "      <td>-0.067724</td>\n",
       "      <td>-0.064673</td>\n",
       "      <td>-0.116368</td>\n",
       "      <td>-0.216023</td>\n",
       "      <td>-0.023455</td>\n",
       "    </tr>\n",
       "    <tr>\n",
       "      <th>diag3_Injury</th>\n",
       "      <td>-0.027129</td>\n",
       "      <td>-0.036152</td>\n",
       "      <td>-0.025347</td>\n",
       "      <td>-0.013384</td>\n",
       "      <td>0.129804</td>\n",
       "      <td>0.010697</td>\n",
       "      <td>-0.009515</td>\n",
       "      <td>0.021731</td>\n",
       "      <td>-0.024385</td>\n",
       "      <td>-0.007144</td>\n",
       "      <td>...</td>\n",
       "      <td>0.016849</td>\n",
       "      <td>-0.096578</td>\n",
       "      <td>-0.040239</td>\n",
       "      <td>-0.029404</td>\n",
       "      <td>-0.067724</td>\n",
       "      <td>1.000000</td>\n",
       "      <td>-0.020436</td>\n",
       "      <td>-0.036771</td>\n",
       "      <td>-0.068260</td>\n",
       "      <td>-0.013193</td>\n",
       "    </tr>\n",
       "    <tr>\n",
       "      <th>diag3_Musculoskeletal</th>\n",
       "      <td>-0.050681</td>\n",
       "      <td>-0.013914</td>\n",
       "      <td>-0.023675</td>\n",
       "      <td>0.049983</td>\n",
       "      <td>0.000604</td>\n",
       "      <td>0.108094</td>\n",
       "      <td>-0.007795</td>\n",
       "      <td>-0.004302</td>\n",
       "      <td>-0.042292</td>\n",
       "      <td>-0.008282</td>\n",
       "      <td>...</td>\n",
       "      <td>-0.000104</td>\n",
       "      <td>-0.092227</td>\n",
       "      <td>-0.038426</td>\n",
       "      <td>-0.028079</td>\n",
       "      <td>-0.064673</td>\n",
       "      <td>-0.020436</td>\n",
       "      <td>1.000000</td>\n",
       "      <td>-0.035114</td>\n",
       "      <td>-0.065185</td>\n",
       "      <td>-0.007214</td>\n",
       "    </tr>\n",
       "    <tr>\n",
       "      <th>diag3_Genitourinary</th>\n",
       "      <td>-0.023035</td>\n",
       "      <td>-0.022183</td>\n",
       "      <td>-0.013752</td>\n",
       "      <td>0.008623</td>\n",
       "      <td>-0.013237</td>\n",
       "      <td>-0.025789</td>\n",
       "      <td>0.096310</td>\n",
       "      <td>0.036968</td>\n",
       "      <td>-0.010258</td>\n",
       "      <td>-0.006171</td>\n",
       "      <td>...</td>\n",
       "      <td>0.010910</td>\n",
       "      <td>-0.165946</td>\n",
       "      <td>-0.069142</td>\n",
       "      <td>-0.050523</td>\n",
       "      <td>-0.116368</td>\n",
       "      <td>-0.036771</td>\n",
       "      <td>-0.035114</td>\n",
       "      <td>1.000000</td>\n",
       "      <td>-0.117289</td>\n",
       "      <td>0.014549</td>\n",
       "    </tr>\n",
       "    <tr>\n",
       "      <th>diag3_Neoplasms</th>\n",
       "      <td>-0.087048</td>\n",
       "      <td>-0.013542</td>\n",
       "      <td>-0.005330</td>\n",
       "      <td>0.133628</td>\n",
       "      <td>-0.024867</td>\n",
       "      <td>-0.028134</td>\n",
       "      <td>0.048748</td>\n",
       "      <td>0.053630</td>\n",
       "      <td>-0.084353</td>\n",
       "      <td>-0.013534</td>\n",
       "      <td>...</td>\n",
       "      <td>0.102307</td>\n",
       "      <td>-0.308058</td>\n",
       "      <td>-0.128353</td>\n",
       "      <td>-0.093790</td>\n",
       "      <td>-0.216023</td>\n",
       "      <td>-0.068260</td>\n",
       "      <td>-0.065185</td>\n",
       "      <td>-0.117289</td>\n",
       "      <td>1.000000</td>\n",
       "      <td>-0.017359</td>\n",
       "    </tr>\n",
       "    <tr>\n",
       "      <th>readmitted</th>\n",
       "      <td>0.026538</td>\n",
       "      <td>0.017092</td>\n",
       "      <td>-0.004855</td>\n",
       "      <td>0.020352</td>\n",
       "      <td>-0.008161</td>\n",
       "      <td>-0.022679</td>\n",
       "      <td>-0.012672</td>\n",
       "      <td>-0.025299</td>\n",
       "      <td>0.036300</td>\n",
       "      <td>0.002584</td>\n",
       "      <td>...</td>\n",
       "      <td>0.007669</td>\n",
       "      <td>0.027351</td>\n",
       "      <td>0.012539</td>\n",
       "      <td>-0.000621</td>\n",
       "      <td>-0.023455</td>\n",
       "      <td>-0.013193</td>\n",
       "      <td>-0.007214</td>\n",
       "      <td>0.014549</td>\n",
       "      <td>-0.017359</td>\n",
       "      <td>1.000000</td>\n",
       "    </tr>\n",
       "  </tbody>\n",
       "</table>\n",
       "<p>25 rows × 25 columns</p>\n",
       "</div>"
      ],
      "text/plain": [
       "                       diag1_Circulatory  diag1_Respiratory  diag1_Digestive  \\\n",
       "diag1_Circulatory               1.000000          -0.267289        -0.213074   \n",
       "diag1_Respiratory              -0.267289           1.000000        -0.127028   \n",
       "diag1_Digestive                -0.213074          -0.127028         1.000000   \n",
       "diag1_Diabetes                 -0.192994          -0.115057        -0.091719   \n",
       "diag1_Injury                   -0.180409          -0.107554        -0.085739   \n",
       "diag1_Musculoskeletal          -0.160187          -0.095498        -0.076128   \n",
       "diag1_Genitourinary            -0.155148          -0.092494        -0.073734   \n",
       "diag1_Neoplasms                -0.269726          -0.160802        -0.128186   \n",
       "diag2_Circulatory               0.310086          -0.005186        -0.092842   \n",
       "diag2_Respiratory               0.004083           0.162598        -0.038709   \n",
       "diag2_Digestive                -0.100802          -0.038695         0.228848   \n",
       "diag2_Diabetes                 -0.027100           0.032411         0.011857   \n",
       "diag2_Injury                   -0.035876          -0.052829        -0.015153   \n",
       "diag2_Musculoskeletal          -0.061265          -0.024132        -0.031688   \n",
       "diag2_Genitourinary            -0.047173          -0.028658        -0.008588   \n",
       "diag2_Neoplasms                -0.152114          -0.032944        -0.003510   \n",
       "diag3_Circulatory               0.172684           0.016040        -0.049292   \n",
       "diag3_Respiratory               0.012987           0.071775        -0.012936   \n",
       "diag3_Digestive                -0.076862          -0.027054         0.162993   \n",
       "diag3_Diabetes                  0.020179           0.025360         0.011750   \n",
       "diag3_Injury                   -0.027129          -0.036152        -0.025347   \n",
       "diag3_Musculoskeletal          -0.050681          -0.013914        -0.023675   \n",
       "diag3_Genitourinary            -0.023035          -0.022183        -0.013752   \n",
       "diag3_Neoplasms                -0.087048          -0.013542        -0.005330   \n",
       "readmitted                      0.026538           0.017092        -0.004855   \n",
       "\n",
       "                       diag1_Diabetes  diag1_Injury  diag1_Musculoskeletal  \\\n",
       "diag1_Circulatory           -0.192994     -0.180409              -0.160187   \n",
       "diag1_Respiratory           -0.115057     -0.107554              -0.095498   \n",
       "diag1_Digestive             -0.091719     -0.085739              -0.076128   \n",
       "diag1_Diabetes               1.000000     -0.077659              -0.068954   \n",
       "diag1_Injury                -0.077659      1.000000              -0.064457   \n",
       "diag1_Musculoskeletal       -0.068954     -0.064457               1.000000   \n",
       "diag1_Genitourinary         -0.066785     -0.062430              -0.055432   \n",
       "diag1_Neoplasms             -0.116106     -0.108535              -0.096369   \n",
       "diag2_Circulatory           -0.062210     -0.049642              -0.039834   \n",
       "diag2_Respiratory           -0.040673     -0.041749              -0.021318   \n",
       "diag2_Digestive              0.008063     -0.021492              -0.027123   \n",
       "diag2_Diabetes              -0.103009     -0.012086               0.056226   \n",
       "diag2_Injury                -0.029708      0.171001               0.030811   \n",
       "diag2_Musculoskeletal        0.044629      0.002900               0.157108   \n",
       "diag2_Genitourinary          0.004843      0.000751              -0.031311   \n",
       "diag2_Neoplasms              0.188850     -0.017651              -0.045316   \n",
       "diag3_Circulatory           -0.052228     -0.028294              -0.013762   \n",
       "diag3_Respiratory           -0.027300     -0.019895              -0.030262   \n",
       "diag3_Digestive              0.008741     -0.028162              -0.009820   \n",
       "diag3_Diabetes              -0.112353     -0.014202               0.053275   \n",
       "diag3_Injury                -0.013384      0.129804               0.010697   \n",
       "diag3_Musculoskeletal        0.049983      0.000604               0.108094   \n",
       "diag3_Genitourinary          0.008623     -0.013237              -0.025789   \n",
       "diag3_Neoplasms              0.133628     -0.024867              -0.028134   \n",
       "readmitted                   0.020352     -0.008161              -0.022679   \n",
       "\n",
       "                       diag1_Genitourinary  diag1_Neoplasms  \\\n",
       "diag1_Circulatory                -0.155148        -0.269726   \n",
       "diag1_Respiratory                -0.092494        -0.160802   \n",
       "diag1_Digestive                  -0.073734        -0.128186   \n",
       "diag1_Diabetes                   -0.066785        -0.116106   \n",
       "diag1_Injury                     -0.062430        -0.108535   \n",
       "diag1_Musculoskeletal            -0.055432        -0.096369   \n",
       "diag1_Genitourinary               1.000000        -0.093338   \n",
       "diag1_Neoplasms                  -0.093338         1.000000   \n",
       "diag2_Circulatory                -0.071331        -0.110072   \n",
       "diag2_Respiratory                -0.036371        -0.008054   \n",
       "diag2_Digestive                  -0.020502         0.017266   \n",
       "diag2_Diabetes                    0.001463         0.020602   \n",
       "diag2_Injury                     -0.013659         0.010539   \n",
       "diag2_Musculoskeletal            -0.016385        -0.015303   \n",
       "diag2_Genitourinary               0.099747         0.063891   \n",
       "diag2_Neoplasms                   0.087512         0.089749   \n",
       "diag3_Circulatory                -0.038514        -0.065459   \n",
       "diag3_Respiratory                -0.019846         0.002132   \n",
       "diag3_Digestive                  -0.011716         0.016099   \n",
       "diag3_Diabetes                   -0.015679        -0.002605   \n",
       "diag3_Injury                     -0.009515         0.021731   \n",
       "diag3_Musculoskeletal            -0.007795        -0.004302   \n",
       "diag3_Genitourinary               0.096310         0.036968   \n",
       "diag3_Neoplasms                   0.048748         0.053630   \n",
       "readmitted                       -0.012672        -0.025299   \n",
       "\n",
       "                       diag2_Circulatory  diag2_Respiratory     ...      \\\n",
       "diag1_Circulatory               0.310086           0.004083     ...       \n",
       "diag1_Respiratory              -0.005186           0.162598     ...       \n",
       "diag1_Digestive                -0.092842          -0.038709     ...       \n",
       "diag1_Diabetes                 -0.062210          -0.040673     ...       \n",
       "diag1_Injury                   -0.049642          -0.041749     ...       \n",
       "diag1_Musculoskeletal          -0.039834          -0.021318     ...       \n",
       "diag1_Genitourinary            -0.071331          -0.036371     ...       \n",
       "diag1_Neoplasms                -0.110072          -0.008054     ...       \n",
       "diag2_Circulatory               1.000000          -0.230295     ...       \n",
       "diag2_Respiratory              -0.230295           1.000000     ...       \n",
       "diag2_Digestive                -0.138966          -0.068922     ...       \n",
       "diag2_Diabetes                 -0.263107          -0.130491     ...       \n",
       "diag2_Injury                   -0.111509          -0.055304     ...       \n",
       "diag2_Musculoskeletal          -0.092302          -0.045778     ...       \n",
       "diag2_Genitourinary            -0.200222          -0.099302     ...       \n",
       "diag2_Neoplasms                -0.320131          -0.158773     ...       \n",
       "diag3_Circulatory               0.099208           0.016385     ...       \n",
       "diag3_Respiratory               0.018354           0.069320     ...       \n",
       "diag3_Digestive                -0.072908          -0.017855     ...       \n",
       "diag3_Diabetes                  0.091997          -0.005158     ...       \n",
       "diag3_Injury                   -0.024385          -0.007144     ...       \n",
       "diag3_Musculoskeletal          -0.042292          -0.008282     ...       \n",
       "diag3_Genitourinary            -0.010258          -0.006171     ...       \n",
       "diag3_Neoplasms                -0.084353          -0.013534     ...       \n",
       "readmitted                      0.036300           0.002584     ...       \n",
       "\n",
       "                       diag2_Neoplasms  diag3_Circulatory  diag3_Respiratory  \\\n",
       "diag1_Circulatory            -0.152114           0.172684           0.012987   \n",
       "diag1_Respiratory            -0.032944           0.016040           0.071775   \n",
       "diag1_Digestive              -0.003510          -0.049292          -0.012936   \n",
       "diag1_Diabetes                0.188850          -0.052228          -0.027300   \n",
       "diag1_Injury                 -0.017651          -0.028294          -0.019895   \n",
       "diag1_Musculoskeletal        -0.045316          -0.013762          -0.030262   \n",
       "diag1_Genitourinary           0.087512          -0.038514          -0.019846   \n",
       "diag1_Neoplasms               0.089749          -0.065459           0.002132   \n",
       "diag2_Circulatory            -0.320131           0.099208           0.018354   \n",
       "diag2_Respiratory            -0.158773           0.016385           0.069320   \n",
       "diag2_Digestive              -0.095808          -0.056347          -0.016660   \n",
       "diag2_Diabetes               -0.181394           0.085537          -0.035676   \n",
       "diag2_Injury                 -0.076878          -0.031315          -0.006658   \n",
       "diag2_Musculoskeletal        -0.063636          -0.027098          -0.013072   \n",
       "diag2_Genitourinary          -0.138039          -0.028599          -0.009059   \n",
       "diag2_Neoplasms               1.000000          -0.095824          -0.001884   \n",
       "diag3_Circulatory            -0.095824           1.000000          -0.181600   \n",
       "diag3_Respiratory            -0.001884          -0.181600           1.000000   \n",
       "diag3_Digestive               0.009952          -0.132698          -0.055289   \n",
       "diag3_Diabetes                0.006046          -0.305639          -0.127345   \n",
       "diag3_Injury                  0.016849          -0.096578          -0.040239   \n",
       "diag3_Musculoskeletal        -0.000104          -0.092227          -0.038426   \n",
       "diag3_Genitourinary           0.010910          -0.165946          -0.069142   \n",
       "diag3_Neoplasms               0.102307          -0.308058          -0.128353   \n",
       "readmitted                    0.007669           0.027351           0.012539   \n",
       "\n",
       "                       diag3_Digestive  diag3_Diabetes  diag3_Injury  \\\n",
       "diag1_Circulatory            -0.076862        0.020179     -0.027129   \n",
       "diag1_Respiratory            -0.027054        0.025360     -0.036152   \n",
       "diag1_Digestive               0.162993        0.011750     -0.025347   \n",
       "diag1_Diabetes                0.008741       -0.112353     -0.013384   \n",
       "diag1_Injury                 -0.028162       -0.014202      0.129804   \n",
       "diag1_Musculoskeletal        -0.009820        0.053275      0.010697   \n",
       "diag1_Genitourinary          -0.011716       -0.015679     -0.009515   \n",
       "diag1_Neoplasms               0.016099       -0.002605      0.021731   \n",
       "diag2_Circulatory            -0.072908        0.091997     -0.024385   \n",
       "diag2_Respiratory            -0.017855       -0.005158     -0.007144   \n",
       "diag2_Digestive               0.140259        0.017274     -0.016142   \n",
       "diag2_Diabetes               -0.001146       -0.156275     -0.024003   \n",
       "diag2_Injury                  0.025893       -0.022951      0.128643   \n",
       "diag2_Musculoskeletal        -0.012286        0.015164     -0.003981   \n",
       "diag2_Genitourinary          -0.006053       -0.026725      0.002324   \n",
       "diag2_Neoplasms               0.009952        0.006046      0.016849   \n",
       "diag3_Circulatory            -0.132698       -0.305639     -0.096578   \n",
       "diag3_Respiratory            -0.055289       -0.127345     -0.040239   \n",
       "diag3_Digestive               1.000000       -0.093053     -0.029404   \n",
       "diag3_Diabetes               -0.093053        1.000000     -0.067724   \n",
       "diag3_Injury                 -0.029404       -0.067724      1.000000   \n",
       "diag3_Musculoskeletal        -0.028079       -0.064673     -0.020436   \n",
       "diag3_Genitourinary          -0.050523       -0.116368     -0.036771   \n",
       "diag3_Neoplasms              -0.093790       -0.216023     -0.068260   \n",
       "readmitted                   -0.000621       -0.023455     -0.013193   \n",
       "\n",
       "                       diag3_Musculoskeletal  diag3_Genitourinary  \\\n",
       "diag1_Circulatory                  -0.050681            -0.023035   \n",
       "diag1_Respiratory                  -0.013914            -0.022183   \n",
       "diag1_Digestive                    -0.023675            -0.013752   \n",
       "diag1_Diabetes                      0.049983             0.008623   \n",
       "diag1_Injury                        0.000604            -0.013237   \n",
       "diag1_Musculoskeletal               0.108094            -0.025789   \n",
       "diag1_Genitourinary                -0.007795             0.096310   \n",
       "diag1_Neoplasms                    -0.004302             0.036968   \n",
       "diag2_Circulatory                  -0.042292            -0.010258   \n",
       "diag2_Respiratory                  -0.008282            -0.006171   \n",
       "diag2_Digestive                    -0.017245            -0.011568   \n",
       "diag2_Diabetes                      0.019322            -0.016621   \n",
       "diag2_Injury                        0.001000             0.009087   \n",
       "diag2_Musculoskeletal               0.131542            -0.012247   \n",
       "diag2_Genitourinary                -0.008489             0.081817   \n",
       "diag2_Neoplasms                    -0.000104             0.010910   \n",
       "diag3_Circulatory                  -0.092227            -0.165946   \n",
       "diag3_Respiratory                  -0.038426            -0.069142   \n",
       "diag3_Digestive                    -0.028079            -0.050523   \n",
       "diag3_Diabetes                     -0.064673            -0.116368   \n",
       "diag3_Injury                       -0.020436            -0.036771   \n",
       "diag3_Musculoskeletal               1.000000            -0.035114   \n",
       "diag3_Genitourinary                -0.035114             1.000000   \n",
       "diag3_Neoplasms                    -0.065185            -0.117289   \n",
       "readmitted                         -0.007214             0.014549   \n",
       "\n",
       "                       diag3_Neoplasms  readmitted  \n",
       "diag1_Circulatory            -0.087048    0.026538  \n",
       "diag1_Respiratory            -0.013542    0.017092  \n",
       "diag1_Digestive              -0.005330   -0.004855  \n",
       "diag1_Diabetes                0.133628    0.020352  \n",
       "diag1_Injury                 -0.024867   -0.008161  \n",
       "diag1_Musculoskeletal        -0.028134   -0.022679  \n",
       "diag1_Genitourinary           0.048748   -0.012672  \n",
       "diag1_Neoplasms               0.053630   -0.025299  \n",
       "diag2_Circulatory            -0.084353    0.036300  \n",
       "diag2_Respiratory            -0.013534    0.002584  \n",
       "diag2_Digestive              -0.007068   -0.015167  \n",
       "diag2_Diabetes                0.032180   -0.017053  \n",
       "diag2_Injury                 -0.035044   -0.019897  \n",
       "diag2_Musculoskeletal        -0.006711   -0.011991  \n",
       "diag2_Genitourinary           0.038852    0.001589  \n",
       "diag2_Neoplasms               0.102307    0.007669  \n",
       "diag3_Circulatory            -0.308058    0.027351  \n",
       "diag3_Respiratory            -0.128353    0.012539  \n",
       "diag3_Digestive              -0.093790   -0.000621  \n",
       "diag3_Diabetes               -0.216023   -0.023455  \n",
       "diag3_Injury                 -0.068260   -0.013193  \n",
       "diag3_Musculoskeletal        -0.065185   -0.007214  \n",
       "diag3_Genitourinary          -0.117289    0.014549  \n",
       "diag3_Neoplasms               1.000000   -0.017359  \n",
       "readmitted                   -0.017359    1.000000  \n",
       "\n",
       "[25 rows x 25 columns]"
      ]
     },
     "execution_count": 70,
     "metadata": {},
     "output_type": "execute_result"
    }
   ],
   "source": [
    "training_df.select('diag1_Circulatory',\n",
    " 'diag1_Respiratory',\n",
    " 'diag1_Digestive',\n",
    " 'diag1_Diabetes',\n",
    " 'diag1_Injury',\n",
    " 'diag1_Musculoskeletal',\n",
    " 'diag1_Genitourinary',\n",
    " 'diag1_Neoplasms',\n",
    " 'diag2_Circulatory',\n",
    " 'diag2_Respiratory',\n",
    " 'diag2_Digestive',\n",
    " 'diag2_Diabetes',\n",
    " 'diag2_Injury',\n",
    " 'diag2_Musculoskeletal',\n",
    " 'diag2_Genitourinary',\n",
    " 'diag2_Neoplasms',\n",
    " 'diag3_Circulatory',\n",
    " 'diag3_Respiratory',\n",
    " 'diag3_Digestive',\n",
    " 'diag3_Diabetes',\n",
    " 'diag3_Injury',\n",
    " 'diag3_Musculoskeletal',\n",
    " 'diag3_Genitourinary',\n",
    " 'diag3_Neoplasms','readmitted').toPandas().corr()\n",
    "# None of the diagnosis is significantly correlated"
   ]
  },
  {
   "cell_type": "markdown",
   "metadata": {},
   "source": [
    "## Trying Different Classification Models"
   ]
  },
  {
   "cell_type": "code",
   "execution_count": 71,
   "metadata": {},
   "outputs": [
    {
     "name": "stdout",
     "output_type": "stream",
     "text": [
      "Collecting git+https://github.com/daniel-acuna/pyspark_pipes.git\n",
      "  Cloning https://github.com/daniel-acuna/pyspark_pipes.git to /tmp/pip-rnat5ooh-build\n",
      "  Requirement already satisfied (use --upgrade to upgrade): pyspark-pipes==0.1 from git+https://github.com/daniel-acuna/pyspark_pipes.git in /opt/conda/lib/python3.6/site-packages\n",
      "Requirement already satisfied: pyspark in /usr/local/spark-2.3.1-bin-hadoop2.7/python (from pyspark-pipes==0.1)\n",
      "Requirement already satisfied: py4j==0.10.7 in /opt/conda/lib/python3.6/site-packages (from pyspark->pyspark-pipes==0.1)\n",
      "\u001b[33mYou are using pip version 9.0.3, however version 18.1 is available.\n",
      "You should consider upgrading via the 'pip install --upgrade pip' command.\u001b[0m\n"
     ]
    }
   ],
   "source": [
    "!pip install git+https://github.com/daniel-acuna/pyspark_pipes.git\n",
    "from pyspark_pipes import pipe"
   ]
  },
  {
   "cell_type": "markdown",
   "metadata": {},
   "source": [
    "## Logistic Regression with Cross-Validation and Regularization"
   ]
  },
  {
   "cell_type": "code",
   "execution_count": 73,
   "metadata": {},
   "outputs": [
    {
     "data": {
      "text/plain": [
       "0.6351650542883648"
      ]
     },
     "execution_count": 73,
     "metadata": {},
     "output_type": "execute_result"
    }
   ],
   "source": [
    "numerical_features = pipe(feature.VectorAssembler(inputCols=['time_in_hospital_log','number_emergency_log','total_visits_log',\n",
    "                                        'num_medications_log','number_diagnoses','age']), feature.StandardScaler())\n",
    "\n",
    "other_features = feature.VectorAssembler(inputCols=['dd_hhs','dd_expired','diabetesMed','insulin_index','admission_source_emergency'])\n",
    "\n",
    "all_features = pipe((numerical_features, other_features), feature.VectorAssembler())\n",
    "  \n",
    "lr = classification.LogisticRegression(labelCol='readmitted')\n",
    "\n",
    "final_model_pipeline = pipe(all_features, lr)\n",
    "\n",
    "paramGrid = ParamGridBuilder() \\\n",
    "    .addGrid(lr.elasticNetParam, [0.1,0.01]) \\\n",
    "    .build()\n",
    "\n",
    "evaluator = BinaryClassificationEvaluator(labelCol=lr.getLabelCol(), rawPredictionCol=lr.getRawPredictionCol())\n",
    "crossval = CrossValidator(estimator=final_model_pipeline, \n",
    "                          estimatorParamMaps=paramGrid, \n",
    "                          evaluator=evaluator, \n",
    "                          numFolds=3)\n",
    "\n",
    "\n",
    "# Fitting the model on training_df\n",
    "final_model_fitted = crossval.fit(training_df)\n",
    "\n",
    "# Checking Validation_df accuracy\n",
    "evaluator.evaluate(final_model_fitted.transform(validation_df))"
   ]
  },
  {
   "cell_type": "code",
   "execution_count": 74,
   "metadata": {},
   "outputs": [
    {
     "data": {
      "text/plain": [
       "DenseVector([0.0543, 0.1314, 0.2504, 0.0289, 0.14, 0.0869, 0.1044, -21.603, 0.253, 0.0147, 0.2412])"
      ]
     },
     "execution_count": 74,
     "metadata": {},
     "output_type": "execute_result"
    }
   ],
   "source": [
    "# Checking the coefficients\n",
    "final_model_fitted.bestModel.stages[-1].coefficients"
   ]
  },
  {
   "cell_type": "code",
   "execution_count": 75,
   "metadata": {},
   "outputs": [
    {
     "data": {
      "image/png": "[encoded data removed]",
      "text/plain": [
       "<Figure size 432x288 with 1 Axes>"
      ]
     },
     "metadata": {},
     "output_type": "display_data"
    }
   ],
   "source": [
    "beta = np.sort(final_model_fitted.bestModel.stages[-1].coefficients)\n",
    "plt.plot(beta)\n",
    "plt.ylabel('Beta Coefficients')\n",
    "plt.show()"
   ]
  },
  {
   "cell_type": "code",
   "execution_count": 76,
   "metadata": {},
   "outputs": [],
   "source": [
    "predictions_logistic = final_model_fitted.bestModel.transform(validation_df)"
   ]
  },
  {
   "cell_type": "code",
   "execution_count": 79,
   "metadata": {},
   "outputs": [],
   "source": [
    "predictions_logistic = predictions_logistic.withColumn('rawPrediction',fn.col('LogisticRegression_480e82a03674cc091679__rawPrediction'))\n",
    "predictions_logistic = predictions_logistic.withColumn('label',fn.col('readmitted'))\n"
   ]
  },
  {
   "cell_type": "code",
   "execution_count": 80,
   "metadata": {
    "scrolled": true
   },
   "outputs": [
    {
     "name": "stdout",
     "output_type": "stream",
     "text": [
      "Validation_df ROC: 0.6351650542883652\n"
     ]
    }
   ],
   "source": [
    "# Calculating Area under curve\n",
    "evaluator = BinaryClassificationEvaluator()\n",
    "print(\"Validation_df ROC: \" + str(evaluator.evaluate(predictions_logistic, {evaluator.metricName: \"areaUnderROC\"})))"
   ]
  },
  {
   "cell_type": "code",
   "execution_count": 91,
   "metadata": {},
   "outputs": [],
   "source": [
    "# Confusion matrix\n",
    "tp = predictions_logistic[(predictions_logistic.label == 1) & (predictions_logistic.LogisticRegression_480e82a03674cc091679__prediction == 1)].count()\n",
    "tn = predictions_logistic[(predictions_logistic.label == 0) & (predictions_logistic.LogisticRegression_480e82a03674cc091679__prediction == 0)].count()\n",
    "fp = predictions_logistic[(predictions_logistic.label == 0) & (predictions_logistic.LogisticRegression_480e82a03674cc091679__prediction == 1)].count()\n",
    "fn = predictions_logistic[(predictions_logistic.label == 1) & (predictions_logistic.LogisticRegression_480e82a03674cc091679__prediction == 0)].count()"
   ]
  },
  {
   "cell_type": "code",
   "execution_count": 92,
   "metadata": {
    "scrolled": true
   },
   "outputs": [
    {
     "name": "stdout",
     "output_type": "stream",
     "text": [
      "True Positives: 1779\n",
      "True Negatives: 9565\n",
      "False Positives: 1288\n",
      "False Negatives: 5600\n"
     ]
    }
   ],
   "source": [
    "# Printing the confusion matrix\n",
    "print(\"True Positives:\", tp)\n",
    "print(\"True Negatives:\", tn)\n",
    "print(\"False Positives:\", fp)\n",
    "print(\"False Negatives:\", fn)"
   ]
  },
  {
   "cell_type": "markdown",
   "metadata": {},
   "source": [
    "## Random Forest with all features, Cross-Validation and Hyper-parameter tuning"
   ]
  },
  {
   "cell_type": "code",
   "execution_count": 93,
   "metadata": {},
   "outputs": [],
   "source": [
    "numerical_features = \\\n",
    "    pipe(feature.VectorAssembler(inputCols=['total_visits_log','time_in_hospital_log','number_emergency_log','num_procedures_log',\n",
    "'num_lab_procedures_log','num_medications_log','number_diagnoses','age']),\\\n",
    "                            feature.StandardScaler())\n",
    "\n",
    "other_features= feature.VectorAssembler(inputCols=['admission_source_phyref','admission_source_cliref',\n",
    "'admission_source_hmoref','admission_source_hos','admission_source_snf',\n",
    "'admission_source_hlthcare','admission_source_emergency', 'admission_source_court', 'admission_source_critical',\n",
    "'admission_source_normdel', 'admission_source_birth', 'admission_source_surgery',\n",
    "'dd_home','dd_shortm_hos','dd_snf','AfricanAmerican','Asian','Caucasian','Hispanic','dd_icf',\n",
    "'dd_careInst','dd_hhs','dd_ama','dd_homeIvy','dd_admInp','dd_expired','dd_hospice',\n",
    "'dd_medfac','dd_swingbed','dd_rehab','dd_long','dd_nursing','dd_federal','dd_psy','diag1_Circulatory',\n",
    "'diag1_Respiratory','diag1_Digestive','diag1_Diabetes',\n",
    "'diag1_Injury','diag1_Musculoskeletal','diag1_Genitourinary','diag1_Neoplasms',\n",
    "'diag2_Circulatory','diag2_Respiratory','diag2_Digestive','diag2_Diabetes','diag2_Injury','diag2_Musculoskeletal',\n",
    "'diag2_Genitourinary','diag2_Neoplasms','diag3_Circulatory','diag3_Respiratory','diag3_Digestive',\n",
    "'diag3_Diabetes','diag3_Injury','diag3_Musculoskeletal','diag3_Genitourinary','diag3_Neoplasms',\n",
    "'max_glu_200','max_glu_300','max_glu_norm','A1Cresult_7','A1Cresult_8','A1Cresult_norm',\n",
    "'metformin_index','repaglinide_index','nateglinide_index','chlorpropamide_index','glimepiride_index',\n",
    "'acetohexamide_index','troglitazone_index','tolazamide_index','glyburide-metformin_index',\n",
    "'glipizide-metformin_index','glimepiride-pioglitazone_index','metformin-rosiglitazone_index',\n",
    "'metformin-pioglitazone_index','glipizide_index','glyburide_index','tolbutamide_index','pioglitazone_index',\n",
    "'rosiglitazone_index','acarbose_index','insulin_index','miglitol_index'\n",
    "                                        ])\n",
    "\n",
    "all_features = pipe((numerical_features,other_features), feature.VectorAssembler())\n",
    "\n",
    "rf = classification.RandomForestClassifier(labelCol='readmitted',numTrees=10)\n",
    "\n",
    "final_model_pipeline = pipe(all_features, rf)\n",
    "\n",
    "paramGrid = ParamGridBuilder() \\\n",
    "    .addGrid(rf.numTrees, [100,200]) \\\n",
    "    .addGrid(rf.maxDepth, [4,6]) \\\n",
    "    .build()\n",
    "crossval = CrossValidator(estimator=final_model_pipeline,\n",
    "                          estimatorParamMaps=paramGrid,\n",
    "                          evaluator=BinaryClassificationEvaluator(labelCol=rf.getLabelCol(),rawPredictionCol=rf.getRawPredictionCol()),\n",
    "                          numFolds=3) \n",
    "\n",
    "# Run cross-validation, and choose the best set of parameters.\n",
    "cvModel_fitted = crossval.fit(training_df)"
   ]
  },
  {
   "cell_type": "code",
   "execution_count": 95,
   "metadata": {},
   "outputs": [],
   "source": [
    "predictions_rf = cvModel_fitted.transform(validation_df)\n",
    "# predictions_rf.columns"
   ]
  },
  {
   "cell_type": "code",
   "execution_count": 97,
   "metadata": {},
   "outputs": [
    {
     "name": "stdout",
     "output_type": "stream",
     "text": [
      "Validation Area Under ROC: 0.6458674284007796\n"
     ]
    }
   ],
   "source": [
    "predictions_rf = predictions_rf.withColumn('rawPrediction',predictions_rf.RandomForestClassifier_4ced90c209d34d9a6abf__rawPrediction)\n",
    "predictions_rf = predictions_rf.withColumn('label',predictions_rf.readmitted)\n",
    "evaluator = BinaryClassificationEvaluator()\n",
    "print(\"Validation Area Under ROC: \" + str(evaluator.evaluate(predictions_rf, {evaluator.metricName: \"areaUnderROC\"})))"
   ]
  },
  {
   "cell_type": "code",
   "execution_count": 98,
   "metadata": {},
   "outputs": [],
   "source": [
    "# Confusion matrix\n",
    "tp = predictions_rf[(predictions_rf.label == 1) & (predictions_rf.RandomForestClassifier_4ced90c209d34d9a6abf__prediction == 1)].count()\n",
    "tn = predictions_rf[(predictions_rf.label == 0) & (predictions_rf.RandomForestClassifier_4ced90c209d34d9a6abf__prediction == 0)].count()\n",
    "fp = predictions_rf[(predictions_rf.label == 0) & (predictions_rf.RandomForestClassifier_4ced90c209d34d9a6abf__prediction == 1)].count()\n",
    "fn = predictions_rf[(predictions_rf.label == 1) & (predictions_rf.RandomForestClassifier_4ced90c209d34d9a6abf__prediction == 0)].count()"
   ]
  },
  {
   "cell_type": "code",
   "execution_count": 99,
   "metadata": {},
   "outputs": [
    {
     "name": "stdout",
     "output_type": "stream",
     "text": [
      "True Positives: 484\n",
      "True Negatives: 10604\n",
      "False Positives: 249\n",
      "False Negatives: 6895\n"
     ]
    }
   ],
   "source": [
    "print(\"True Positives:\", tp)\n",
    "print(\"True Negatives:\", tn)\n",
    "print(\"False Positives:\", fp)\n",
    "print(\"False Negatives:\", fn)"
   ]
  },
  {
   "cell_type": "code",
   "execution_count": 100,
   "metadata": {},
   "outputs": [
    {
     "data": {
      "text/html": [
       "<div>\n",
       "<style scoped>\n",
       "    .dataframe tbody tr th:only-of-type {\n",
       "        vertical-align: middle;\n",
       "    }\n",
       "\n",
       "    .dataframe tbody tr th {\n",
       "        vertical-align: top;\n",
       "    }\n",
       "\n",
       "    .dataframe thead th {\n",
       "        text-align: right;\n",
       "    }\n",
       "</style>\n",
       "<table border=\"1\" class=\"dataframe\">\n",
       "  <thead>\n",
       "    <tr style=\"text-align: right;\">\n",
       "      <th></th>\n",
       "      <th>feature</th>\n",
       "      <th>importance</th>\n",
       "    </tr>\n",
       "  </thead>\n",
       "  <tbody>\n",
       "    <tr>\n",
       "      <th>0</th>\n",
       "      <td>total_visits_log</td>\n",
       "      <td>0.228255</td>\n",
       "    </tr>\n",
       "    <tr>\n",
       "      <th>33</th>\n",
       "      <td>dd_expired</td>\n",
       "      <td>0.132037</td>\n",
       "    </tr>\n",
       "    <tr>\n",
       "      <th>6</th>\n",
       "      <td>number_diagnoses</td>\n",
       "      <td>0.108705</td>\n",
       "    </tr>\n",
       "    <tr>\n",
       "      <th>2</th>\n",
       "      <td>number_emergency_log</td>\n",
       "      <td>0.101425</td>\n",
       "    </tr>\n",
       "    <tr>\n",
       "      <th>5</th>\n",
       "      <td>num_medications_log</td>\n",
       "      <td>0.069953</td>\n",
       "    </tr>\n",
       "    <tr>\n",
       "      <th>14</th>\n",
       "      <td>admission_source_emergency</td>\n",
       "      <td>0.037418</td>\n",
       "    </tr>\n",
       "    <tr>\n",
       "      <th>7</th>\n",
       "      <td>age</td>\n",
       "      <td>0.034714</td>\n",
       "    </tr>\n",
       "    <tr>\n",
       "      <th>1</th>\n",
       "      <td>time_in_hospital_log</td>\n",
       "      <td>0.026046</td>\n",
       "    </tr>\n",
       "    <tr>\n",
       "      <th>11</th>\n",
       "      <td>admission_source_hos</td>\n",
       "      <td>0.023276</td>\n",
       "    </tr>\n",
       "    <tr>\n",
       "      <th>4</th>\n",
       "      <td>num_lab_procedures_log</td>\n",
       "      <td>0.019616</td>\n",
       "    </tr>\n",
       "  </tbody>\n",
       "</table>\n",
       "</div>"
      ],
      "text/plain": [
       "                       feature  importance\n",
       "0             total_visits_log    0.228255\n",
       "33                  dd_expired    0.132037\n",
       "6             number_diagnoses    0.108705\n",
       "2         number_emergency_log    0.101425\n",
       "5          num_medications_log    0.069953\n",
       "14  admission_source_emergency    0.037418\n",
       "7                          age    0.034714\n",
       "1         time_in_hospital_log    0.026046\n",
       "11        admission_source_hos    0.023276\n",
       "4       num_lab_procedures_log    0.019616"
      ]
     },
     "execution_count": 100,
     "metadata": {},
     "output_type": "execute_result"
    }
   ],
   "source": [
    "# Important features by random forest\n",
    "rf_model = cvModel_fitted.bestModel.stages[-1]\n",
    "feature_importance=pd.DataFrame(list(zip(['total_visits_log','time_in_hospital_log','number_emergency_log','num_procedures_log',\n",
    "'num_lab_procedures_log','num_medications_log','number_diagnoses','age','admission_source_phyref','admission_source_cliref',\n",
    "'admission_source_hmoref','admission_source_hos','admission_source_snf',\n",
    "'admission_source_hlthcare','admission_source_emergency', 'admission_source_court', 'admission_source_critical',\n",
    "'admission_source_normdel', 'admission_source_birth', 'admission_source_surgery',\n",
    "'dd_home','dd_shortm_hos','dd_snf','AfricanAmerican','Asian','Caucasian','Hispanic','dd_icf',\n",
    "'dd_careInst','dd_hhs','dd_ama','dd_homeIvy','dd_admInp','dd_expired','dd_hospice',\n",
    "'dd_medfac','dd_swingbed','dd_rehab','dd_long','dd_nursing','dd_federal','dd_psy','diag1_Circulatory',\n",
    "'diag1_Respiratory','diag1_Digestive','diag1_Diabetes',\n",
    "'diag1_Injury','diag1_Musculoskeletal','diag1_Genitourinary','diag1_Neoplasms',\n",
    "'diag2_Circulatory','diag2_Respiratory','diag2_Digestive','diag2_Diabetes','diag2_Injury','diag2_Musculoskeletal',\n",
    "'diag2_Genitourinary','diag2_Neoplasms','diag3_Circulatory','diag3_Respiratory','diag3_Digestive',\n",
    "'diag3_Diabetes','diag3_Injury','diag3_Musculoskeletal','diag3_Genitourinary','diag3_Neoplasms',\n",
    "'max_glu_200','max_glu_300','max_glu_norm','A1Cresult_7','A1Cresult_8','A1Cresult_norm',\n",
    "'metformin_index','repaglinide_index','nateglinide_index','chlorpropamide_index','glimepiride_index',\n",
    "'acetohexamide_index','troglitazone_index','tolazamide_index','glyburide-metformin_index',\n",
    "'glipizide-metformin_index','glimepiride-pioglitazone_index','metformin-rosiglitazone_index',\n",
    "'metformin-pioglitazone_index','glipizide_index','glyburide_index','tolbutamide_index','pioglitazone_index',\n",
    "'rosiglitazone_index','acarbose_index','insulin_index','miglitol_index'], rf_model.featureImportances.toArray())),\n",
    "            columns = ['feature', 'importance']).sort_values('importance', ascending=False)\n",
    "feature_importance.head(10)"
   ]
  },
  {
   "cell_type": "markdown",
   "metadata": {},
   "source": [
    "## Neural Networks with all features and one hidden layer with 8 neurons"
   ]
  },
  {
   "cell_type": "code",
   "execution_count": 101,
   "metadata": {},
   "outputs": [],
   "source": [
    "# specify layers for the neural network:\n",
    "# input layer of size 93 (features), one intermediate of size 8\n",
    "# and output of size 2 (classes)\n",
    "layers = [93,8,2]"
   ]
  },
  {
   "cell_type": "code",
   "execution_count": 103,
   "metadata": {},
   "outputs": [],
   "source": [
    "training_df = training_df.withColumn('label',training_df.readmitted)\n",
    "\n",
    "va = feature.VectorAssembler(inputCols=['total_visits_log','time_in_hospital_log','number_emergency_log','num_procedures_log',\n",
    "'num_lab_procedures_log','num_medications_log','number_diagnoses','admission_source_phyref','admission_source_cliref',\n",
    "'admission_source_hmoref','admission_source_hos','admission_source_snf',\n",
    "'admission_source_hlthcare','admission_source_emergency', 'admission_source_court', 'admission_source_critical',\n",
    "'admission_source_normdel', 'admission_source_birth', 'admission_source_surgery','age',\n",
    "'dd_home','dd_shortm_hos','dd_snf','AfricanAmerican','Asian','Caucasian','Hispanic','dd_icf',\n",
    "'dd_careInst','dd_hhs','dd_ama','dd_homeIvy','dd_admInp','dd_expired','dd_hospice',\n",
    "'dd_medfac','dd_swingbed','dd_rehab','dd_long','dd_nursing','dd_federal','dd_psy','diag1_Circulatory',\n",
    "'diag1_Respiratory','diag1_Digestive','diag1_Diabetes',\n",
    "'diag1_Injury','diag1_Musculoskeletal','diag1_Genitourinary','diag1_Neoplasms',\n",
    "'diag2_Circulatory','diag2_Respiratory','diag2_Digestive','diag2_Diabetes','diag2_Injury','diag2_Musculoskeletal',\n",
    "'diag2_Genitourinary','diag2_Neoplasms','diag3_Circulatory','diag3_Respiratory','diag3_Digestive',\n",
    "'diag3_Diabetes','diag3_Injury','diag3_Musculoskeletal','diag3_Genitourinary','diag3_Neoplasms',\n",
    "'max_glu_200','max_glu_300','max_glu_norm','A1Cresult_7','A1Cresult_8','A1Cresult_norm',\n",
    "'metformin_index','repaglinide_index','nateglinide_index','chlorpropamide_index','glimepiride_index',\n",
    "'acetohexamide_index','troglitazone_index','tolazamide_index','glyburide-metformin_index',\n",
    "'glipizide-metformin_index','glimepiride-pioglitazone_index','metformin-rosiglitazone_index',\n",
    "'metformin-pioglitazone_index','glipizide_index','glyburide_index','tolbutamide_index','pioglitazone_index',\n",
    "'rosiglitazone_index','acarbose_index','insulin_index','miglitol_index'\n",
    "                                        ], outputCol='features')\n",
    "\n",
    "\n",
    "# create the trainer and set its parameters\n",
    "neural = MultilayerPerceptronClassifier(maxIter=100, layers=layers, blockSize=128, seed=1234)\n",
    "\n",
    "pipeline = Pipeline(stages=[va, neural])\n",
    "model_neural = pipeline.fit(training_df)\n"
   ]
  },
  {
   "cell_type": "code",
   "execution_count": 104,
   "metadata": {},
   "outputs": [
    {
     "name": "stdout",
     "output_type": "stream",
     "text": [
      "Validation set accuracy = 0.6182536200087758\n"
     ]
    }
   ],
   "source": [
    "# Compute accuracy on the validation set\n",
    "result_neural = model_neural.transform(validation_df)\n",
    "result_neural = result_neural.withColumn('label',result_neural.readmitted)\n",
    "predictionAndLabels = result_neural.select(\"prediction\", \"label\")\n",
    "evaluator = MulticlassClassificationEvaluator(metricName=\"accuracy\")\n",
    "print(\"Validation set accuracy = \" + str(evaluator.evaluate(predictionAndLabels)))"
   ]
  },
  {
   "cell_type": "code",
   "execution_count": 105,
   "metadata": {},
   "outputs": [],
   "source": [
    "# Confusion matrix\n",
    "tp = result_neural[(result_neural.label == 1) & (result_neural.prediction == 1)].count()\n",
    "tn = result_neural[(result_neural.label == 0) & (result_neural.prediction == 0)].count()\n",
    "fp = result_neural[(result_neural.label == 0) & (result_neural.prediction == 1)].count()\n",
    "fn = result_neural[(result_neural.label == 1) & (result_neural.prediction == 0)].count()\n"
   ]
  },
  {
   "cell_type": "code",
   "execution_count": 106,
   "metadata": {},
   "outputs": [
    {
     "name": "stdout",
     "output_type": "stream",
     "text": [
      "True Positives: 1232\n",
      "True Negatives: 10040\n",
      "False Positives: 813\n",
      "False Negatives: 6147\n"
     ]
    }
   ],
   "source": [
    "print(\"True Positives:\", tp)\n",
    "print(\"True Negatives:\", tn)\n",
    "print(\"False Positives:\", fp)\n",
    "print(\"False Negatives:\", fn)"
   ]
  },
  {
   "cell_type": "markdown",
   "metadata": {},
   "source": [
    "## Gradient Boosting with Cross-validation and Hyper-parameter tuning"
   ]
  },
  {
   "cell_type": "code",
   "execution_count": 107,
   "metadata": {},
   "outputs": [],
   "source": [
    "numerical_features = \\\n",
    "    pipe(feature.VectorAssembler(inputCols=['total_visits_log','time_in_hospital_log','number_emergency_log','num_procedures_log',\n",
    "'num_lab_procedures_log','num_medications_log','number_diagnoses','age']),\\\n",
    "                            feature.StandardScaler())\n",
    "\n",
    "other_features= feature.VectorAssembler(inputCols=['admission_source_phyref','admission_source_cliref',\n",
    "'admission_source_hmoref','admission_source_hos','admission_source_snf',\n",
    "'admission_source_hlthcare','admission_source_emergency', 'admission_source_court', 'admission_source_critical',\n",
    "'admission_source_normdel', 'admission_source_birth', 'admission_source_surgery',\n",
    "'dd_home','dd_shortm_hos','dd_snf','AfricanAmerican','Asian','Caucasian','Hispanic','dd_icf',\n",
    "'dd_careInst','dd_hhs','dd_ama','dd_homeIvy','dd_admInp','dd_expired','dd_hospice',\n",
    "'dd_medfac','dd_swingbed','dd_rehab','dd_long','dd_nursing','dd_federal','dd_psy','diag1_Circulatory',\n",
    "'diag1_Respiratory','diag1_Digestive','diag1_Diabetes',\n",
    "'diag1_Injury','diag1_Musculoskeletal','diag1_Genitourinary','diag1_Neoplasms',\n",
    "'diag2_Circulatory','diag2_Respiratory','diag2_Digestive','diag2_Diabetes','diag2_Injury','diag2_Musculoskeletal',\n",
    "'diag2_Genitourinary','diag2_Neoplasms','diag3_Circulatory','diag3_Respiratory','diag3_Digestive',\n",
    "'diag3_Diabetes','diag3_Injury','diag3_Musculoskeletal','diag3_Genitourinary','diag3_Neoplasms',\n",
    "'max_glu_200','max_glu_300','max_glu_norm','A1Cresult_7','A1Cresult_8','A1Cresult_norm',\n",
    "'metformin_index','repaglinide_index','nateglinide_index','chlorpropamide_index','glimepiride_index',\n",
    "'acetohexamide_index','troglitazone_index','tolazamide_index','glyburide-metformin_index',\n",
    "'glipizide-metformin_index','glimepiride-pioglitazone_index','metformin-rosiglitazone_index',\n",
    "'metformin-pioglitazone_index','glipizide_index','glyburide_index','tolbutamide_index','pioglitazone_index',\n",
    "'rosiglitazone_index','acarbose_index','insulin_index','miglitol_index'])\n",
    "\n",
    "all_features = pipe((numerical_features,other_features), feature.VectorAssembler())\n",
    "\n",
    "gbt = GBTClassifier(labelCol='readmitted')\n",
    "\n",
    "final_model_pipeline = pipe(all_features, gbt)\n",
    "\n",
    "paramGrid = ParamGridBuilder() \\\n",
    "    .addGrid(gbt.maxDepth, [4, 6]) \\\n",
    "    .addGrid(gbt.maxBins, [20, 40]) \\\n",
    "    .addGrid(gbt.maxIter, [10, 20]) \\\n",
    "    .build()\n",
    "\n",
    "evaluator = BinaryClassificationEvaluator()\n",
    "cv = CrossValidator(estimator=final_model_pipeline, estimatorParamMaps=paramGrid, evaluator=evaluator, numFolds=3)\n",
    "\n"
   ]
  },
  {
   "cell_type": "code",
   "execution_count": 108,
   "metadata": {
    "scrolled": true
   },
   "outputs": [],
   "source": [
    "cvModel_gbt = cv.fit(training_df)"
   ]
  },
  {
   "cell_type": "code",
   "execution_count": 109,
   "metadata": {},
   "outputs": [],
   "source": [
    "predictions_gbt2 = cvModel_gbt.transform(validation_df)"
   ]
  },
  {
   "cell_type": "code",
   "execution_count": 110,
   "metadata": {},
   "outputs": [],
   "source": [
    "predictions_gbt2 = predictions_gbt2.withColumn('label',predictions_gbt2.readmitted)"
   ]
  },
  {
   "cell_type": "code",
   "execution_count": 111,
   "metadata": {},
   "outputs": [
    {
     "data": {
      "text/plain": [
       "0.6488827202769503"
      ]
     },
     "execution_count": 111,
     "metadata": {},
     "output_type": "execute_result"
    }
   ],
   "source": [
    "evaluator.evaluate(predictions_gbt2)"
   ]
  },
  {
   "cell_type": "code",
   "execution_count": 113,
   "metadata": {},
   "outputs": [],
   "source": [
    "# Confusion matrix\n",
    "tp = predictions_gbt2[(predictions_gbt2.label == 1) & (predictions_gbt2.GBTClassifier_4a66b2bd6c632910703d__prediction == 1)].count()\n",
    "tn = predictions_gbt2[(predictions_gbt2.label == 0) & (predictions_gbt2.GBTClassifier_4a66b2bd6c632910703d__prediction == 0)].count()\n",
    "fp = predictions_gbt2[(predictions_gbt2.label == 0) & (predictions_gbt2.GBTClassifier_4a66b2bd6c632910703d__prediction == 1)].count()\n",
    "fn = predictions_gbt2[(predictions_gbt2.label == 1) & (predictions_gbt2.GBTClassifier_4a66b2bd6c632910703d__prediction == 0)].count()\n"
   ]
  },
  {
   "cell_type": "code",
   "execution_count": 114,
   "metadata": {
    "scrolled": false
   },
   "outputs": [
    {
     "name": "stdout",
     "output_type": "stream",
     "text": [
      "True Positives: 2070\n",
      "True Negatives: 9410\n",
      "False Positives: 1443\n",
      "False Negatives: 5309\n"
     ]
    }
   ],
   "source": [
    "print(\"True Positives:\", tp)\n",
    "print(\"True Negatives:\", tn)\n",
    "print(\"False Positives:\", fp)\n",
    "print(\"False Negatives:\", fn)"
   ]
  },
  {
   "cell_type": "code",
   "execution_count": 115,
   "metadata": {},
   "outputs": [
    {
     "data": {
      "text/html": [
       "<div>\n",
       "<style scoped>\n",
       "    .dataframe tbody tr th:only-of-type {\n",
       "        vertical-align: middle;\n",
       "    }\n",
       "\n",
       "    .dataframe tbody tr th {\n",
       "        vertical-align: top;\n",
       "    }\n",
       "\n",
       "    .dataframe thead th {\n",
       "        text-align: right;\n",
       "    }\n",
       "</style>\n",
       "<table border=\"1\" class=\"dataframe\">\n",
       "  <thead>\n",
       "    <tr style=\"text-align: right;\">\n",
       "      <th></th>\n",
       "      <th>feature</th>\n",
       "      <th>importance</th>\n",
       "    </tr>\n",
       "  </thead>\n",
       "  <tbody>\n",
       "    <tr>\n",
       "      <th>33</th>\n",
       "      <td>dd_expired</td>\n",
       "      <td>0.095722</td>\n",
       "    </tr>\n",
       "    <tr>\n",
       "      <th>7</th>\n",
       "      <td>age</td>\n",
       "      <td>0.081390</td>\n",
       "    </tr>\n",
       "    <tr>\n",
       "      <th>5</th>\n",
       "      <td>num_medications_log</td>\n",
       "      <td>0.065826</td>\n",
       "    </tr>\n",
       "    <tr>\n",
       "      <th>0</th>\n",
       "      <td>total_visits_log</td>\n",
       "      <td>0.055073</td>\n",
       "    </tr>\n",
       "    <tr>\n",
       "      <th>1</th>\n",
       "      <td>time_in_hospital_log</td>\n",
       "      <td>0.052958</td>\n",
       "    </tr>\n",
       "    <tr>\n",
       "      <th>34</th>\n",
       "      <td>dd_hospice</td>\n",
       "      <td>0.045259</td>\n",
       "    </tr>\n",
       "    <tr>\n",
       "      <th>35</th>\n",
       "      <td>dd_medfac</td>\n",
       "      <td>0.040594</td>\n",
       "    </tr>\n",
       "    <tr>\n",
       "      <th>3</th>\n",
       "      <td>num_procedures_log</td>\n",
       "      <td>0.039675</td>\n",
       "    </tr>\n",
       "    <tr>\n",
       "      <th>2</th>\n",
       "      <td>number_emergency_log</td>\n",
       "      <td>0.038940</td>\n",
       "    </tr>\n",
       "    <tr>\n",
       "      <th>91</th>\n",
       "      <td>insulin_index</td>\n",
       "      <td>0.038005</td>\n",
       "    </tr>\n",
       "  </tbody>\n",
       "</table>\n",
       "</div>"
      ],
      "text/plain": [
       "                 feature  importance\n",
       "33            dd_expired    0.095722\n",
       "7                    age    0.081390\n",
       "5    num_medications_log    0.065826\n",
       "0       total_visits_log    0.055073\n",
       "1   time_in_hospital_log    0.052958\n",
       "34            dd_hospice    0.045259\n",
       "35             dd_medfac    0.040594\n",
       "3     num_procedures_log    0.039675\n",
       "2   number_emergency_log    0.038940\n",
       "91         insulin_index    0.038005"
      ]
     },
     "execution_count": 115,
     "metadata": {},
     "output_type": "execute_result"
    }
   ],
   "source": [
    "# Important features by gradient boosting\n",
    "gbt_model = cvModel_gbt.bestModel.stages[-1]\n",
    "feature_importance=pd.DataFrame(list(zip(['total_visits_log','time_in_hospital_log','number_emergency_log','num_procedures_log',\n",
    "'num_lab_procedures_log','num_medications_log','number_diagnoses','age','admission_source_phyref','admission_source_cliref',\n",
    "'admission_source_hmoref','admission_source_hos','admission_source_snf',\n",
    "'admission_source_hlthcare','admission_source_emergency', 'admission_source_court', 'admission_source_critical',\n",
    "'admission_source_normdel', 'admission_source_birth', 'admission_source_surgery',\n",
    "'dd_home','dd_shortm_hos','dd_snf','AfricanAmerican','Asian','Caucasian','Hispanic','dd_icf',\n",
    "'dd_careInst','dd_hhs','dd_ama','dd_homeIvy','dd_admInp','dd_expired','dd_hospice',\n",
    "'dd_medfac','dd_swingbed','dd_rehab','dd_long','dd_nursing','dd_federal','dd_psy','diag1_Circulatory',\n",
    "'diag1_Respiratory','diag1_Digestive','diag1_Diabetes',\n",
    "'diag1_Injury','diag1_Musculoskeletal','diag1_Genitourinary','diag1_Neoplasms',\n",
    "'diag2_Circulatory','diag2_Respiratory','diag2_Digestive','diag2_Diabetes','diag2_Injury','diag2_Musculoskeletal',\n",
    "'diag2_Genitourinary','diag2_Neoplasms','diag3_Circulatory','diag3_Respiratory','diag3_Digestive',\n",
    "'diag3_Diabetes','diag3_Injury','diag3_Musculoskeletal','diag3_Genitourinary','diag3_Neoplasms',\n",
    "'max_glu_200','max_glu_300','max_glu_norm','A1Cresult_7','A1Cresult_8','A1Cresult_norm',\n",
    "'metformin_index','repaglinide_index','nateglinide_index','chlorpropamide_index','glimepiride_index',\n",
    "'acetohexamide_index','troglitazone_index','tolazamide_index','glyburide-metformin_index',\n",
    "'glipizide-metformin_index','glimepiride-pioglitazone_index','metformin-rosiglitazone_index',\n",
    "'metformin-pioglitazone_index','glipizide_index','glyburide_index','tolbutamide_index','pioglitazone_index',\n",
    "'rosiglitazone_index','acarbose_index','insulin_index','miglitol_index'], gbt_model.featureImportances.toArray())),\n",
    "            columns = ['feature', 'importance']).sort_values('importance', ascending=False)\n",
    "feature_importance.head(10)"
   ]
  },
  {
   "cell_type": "markdown",
   "metadata": {},
   "source": [
    "## Model Comparision based on Accuracy and False Negatives"
   ]
  },
  {
   "cell_type": "code",
   "execution_count": 119,
   "metadata": {
    "scrolled": true
   },
   "outputs": [
    {
     "data": {
      "text/plain": [
       "Text(0.5,1,'Model Comparison based on Accuracy')"
      ]
     },
     "execution_count": 119,
     "metadata": {},
     "output_type": "execute_result"
    },
    {
     "data": {
      "image/png": "[encoded data removed]",
      "text/plain": [
       "<Figure size 432x288 with 1 Axes>"
      ]
     },
     "metadata": {},
     "output_type": "display_data"
    }
   ],
   "source": [
    "# As this is a health care domain, we compare our models based on False Negatives and accuracy.\n",
    "# The model with the least FN and highest accuracy is the best model in our case.\n",
    "\n",
    "model_comparison_df = pd.DataFrame({'Model_name': ['Logistic Regression', 'Random Forest',\n",
    "                                                 'Neural Network','Gradient Boosting'],\n",
    "                                   'Validation_Accuracy': [63.52, 64.59,61.83,64.89],\n",
    "                                   'False_Negatives': [5600,6895,6147,5309]})\n",
    "\n",
    "plt.plot(model_comparison_df.Model_name,model_comparison_df.Validation_Accuracy,'-o')\n",
    "plt.xlabel('Model Name')\n",
    "plt.ylabel('Validation Accuracy')\n",
    "plt.title('Model Comparison based on Accuracy')"
   ]
  },
  {
   "cell_type": "code",
   "execution_count": 121,
   "metadata": {
    "scrolled": true
   },
   "outputs": [
    {
     "data": {
      "text/plain": [
       "Text(0.5,1,'Model Comparison based on False Negatives')"
      ]
     },
     "execution_count": 121,
     "metadata": {},
     "output_type": "execute_result"
    },
    {
     "data": {
      "image/png": "[encoded data removed]",
      "text/plain": [
       "<Figure size 432x288 with 1 Axes>"
      ]
     },
     "metadata": {},
     "output_type": "display_data"
    }
   ],
   "source": [
    "plt.plot(model_comparison_df.Model_name,model_comparison_df.False_Negatives,'-or')\n",
    "plt.xlabel('Model Name')\n",
    "plt.ylabel('False Negatives')\n",
    "plt.title('Model Comparison based on False Negatives')"
   ]
  },
  {
   "cell_type": "markdown",
   "metadata": {},
   "source": [
    "## We can clearly see from the above graphs that Gradient Boosting has the maximum accuracy on Validation set and least False Negatives"
   ]
  },
  {
   "cell_type": "markdown",
   "metadata": {},
   "source": [
    "## Testing Gradient Boosting on test dataset"
   ]
  },
  {
   "cell_type": "code",
   "execution_count": 125,
   "metadata": {},
   "outputs": [
    {
     "data": {
      "text/plain": [
       "0.642649087266837"
      ]
     },
     "execution_count": 125,
     "metadata": {},
     "output_type": "execute_result"
    }
   ],
   "source": [
    "predictions_gbt2_test = cvModel_gbt.transform(testing_df)\n",
    "predictions_gbt2_test = predictions_gbt2_test.withColumn('prediction',predictions_gbt2_test.GBTClassifier_4a66b2bd6c632910703d__prediction)\n",
    "\n",
    "predictions_gbt2_test = predictions_gbt2_test.withColumn('label',predictions_gbt2_test.readmitted)\n",
    "evaluator.evaluate(predictions_gbt2_test)"
   ]
  },
  {
   "cell_type": "code",
   "execution_count": 126,
   "metadata": {},
   "outputs": [],
   "source": [
    "# Confusion matrix\n",
    "tp = predictions_gbt2_test[(predictions_gbt2_test.label == 1) & (predictions_gbt2_test.GBTClassifier_4a66b2bd6c632910703d__prediction == 1)].count()\n",
    "tn = predictions_gbt2_test[(predictions_gbt2_test.label == 0) & (predictions_gbt2_test.GBTClassifier_4a66b2bd6c632910703d__prediction == 0)].count()\n",
    "fp = predictions_gbt2_test[(predictions_gbt2_test.label == 0) & (predictions_gbt2_test.GBTClassifier_4a66b2bd6c632910703d__prediction == 1)].count()\n",
    "fn = predictions_gbt2_test[(predictions_gbt2_test.label == 1) & (predictions_gbt2_test.GBTClassifier_4a66b2bd6c632910703d__prediction == 0)].count()\n"
   ]
  },
  {
   "cell_type": "code",
   "execution_count": 127,
   "metadata": {},
   "outputs": [
    {
     "name": "stdout",
     "output_type": "stream",
     "text": [
      "True Positives: 682\n",
      "True Negatives: 3084\n",
      "False Positives: 513\n",
      "False Negatives: 1759\n"
     ]
    }
   ],
   "source": [
    "print(\"True Positives:\", tp)\n",
    "print(\"True Negatives:\", tn)\n",
    "print(\"False Positives:\", fp)\n",
    "print(\"False Negatives:\", fn)"
   ]
  },
  {
   "cell_type": "code",
   "execution_count": 128,
   "metadata": {},
   "outputs": [
    {
     "data": {
      "image/png": "[encoded data removed]",
      "text/plain": [
       "<Figure size 432x288 with 2 Axes>"
      ]
     },
     "metadata": {},
     "output_type": "display_data"
    }
   ],
   "source": [
    "# Plotting the test set confusion matrix\n",
    "array = [[3084,513],\n",
    "     [1759,682]]        \n",
    "df_cm = pd.DataFrame(array, range(2),\n",
    "                  range(2))\n",
    "#plt.figure(figsize = (10,7))\n",
    "sns.set(font_scale=1.2)#for label size\n",
    "sns.heatmap(df_cm, annot=True,annot_kws={\"size\": 16},cmap='YlGnBu',fmt='g')\n",
    "plt.xlabel('Predicted')\n",
    "plt.ylabel('Actual')\n",
    "plt.gca().invert_xaxis()\n",
    "plt.gca().invert_yaxis()"
   ]
  },
  {
   "cell_type": "code",
   "execution_count": 129,
   "metadata": {},
   "outputs": [
    {
     "name": "stdout",
     "output_type": "stream",
     "text": [
      "TP: 0.636795374767706\n",
      "FP: 0.5707112970711297\n",
      "AUC: 0.6037533359194178\n"
     ]
    }
   ],
   "source": [
    "# True-positive rate, False-positive rate and AUC\n",
    "x = 3084/(1759+3084)\n",
    "y = 682/(682+513)\n",
    "\n",
    "AUC = (3084/(2*(1759+3084))) + (682/(2*(682+513)))\n",
    "\n",
    "\n",
    "print(\"TP:\",x)\n",
    "print(\"FP:\",y)\n",
    "print(\"AUC:\",AUC)"
   ]
  },
  {
   "cell_type": "code",
   "execution_count": 131,
   "metadata": {},
   "outputs": [
    {
     "data": {
      "image/png": "[encoded data removed]",
      "text/plain": [
       "<Figure size 432x288 with 1 Axes>"
      ]
     },
     "metadata": {},
     "output_type": "display_data"
    }
   ],
   "source": [
    "# Plotting the test set ROC and AUC\n",
    "predictions_gbt2_test_df = predictions_gbt2_test.toPandas()\n",
    "predictions_test = predictions_gbt2_test_df['prediction']\n",
    "outcome_test = predictions_gbt2_test_df['label']\n",
    "fpr, tpr, thresholds = roc_curve(predictions_test, outcome_test)\n",
    "roc_auc = auc(fpr, tpr)\n",
    "\n",
    "plt.plot(fpr, tpr, color='darkturquoise', label='ROC curve (area = %0.2f)' % roc_auc)\n",
    "plt.plot([0, 1], [0, 1], color='black', linestyle='--')\n",
    "plt.xlim([0.0, 1.0])\n",
    "plt.ylim([0.0, 1.05])\n",
    "plt.xlabel('False Positive Rate')\n",
    "plt.ylabel('True Positive Rate')\n",
    "plt.title('Receiver operating characteristic')\n",
    "plt.legend(loc=\"lower right\")\n",
    "plt.grid(b=False)\n",
    "plt.show()"
   ]
  },
  {
   "cell_type": "markdown",
   "metadata": {},
   "source": [
    "## Inference and Results"
   ]
  },
  {
   "cell_type": "code",
   "execution_count": 132,
   "metadata": {},
   "outputs": [],
   "source": [
    "# As total number of visits and emergency visits increases, the chances of getting re-admitted increases\n",
    "# With increasing number of diagnoses and medications, the patient has a higher chance of getting re-admitted\n",
    "# As people get older,they have a higher chance of re-admission\n",
    "# A patient who stays for a longer duration in hospital has a higher chance of re-admission\n",
    "# A patient who has discharge dispositon id as hospice or medfac has a higher chance of getting re-admitted"
   ]
  },
  {
   "cell_type": "markdown",
   "metadata": {},
   "source": [
    "## Conclusion"
   ]
  },
  {
   "cell_type": "code",
   "execution_count": 133,
   "metadata": {},
   "outputs": [],
   "source": [
    "# Gradient Boosting performed the best in terms of accuracy and number of false negatives\n",
    "# and also fits the testing data well"
   ]
  }
 ],
 "metadata": {
  "kernelspec": {
   "display_name": "Python 3",
   "language": "python",
   "name": "python3"
  },
  "language_info": {
   "codemirror_mode": {
    "name": "ipython",
    "version": 3
   },
   "file_extension": ".py",
   "mimetype": "text/x-python",
   "name": "python",
   "nbconvert_exporter": "python",
   "pygments_lexer": "ipython3",
   "version": "3.6.3"
  }
 },
 "nbformat": 4,
 "nbformat_minor": 2
}
